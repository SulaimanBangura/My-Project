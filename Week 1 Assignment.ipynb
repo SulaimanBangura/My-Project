{
 "cells": [
  {
   "cell_type": "code",
   "execution_count": null,
   "metadata": {},
   "outputs": [],
   "source": [
    "THICKNESS = 0.00008\n",
    "n_folded = 43\n",
    "folded_thickness = THICKNESS * (2**n_folded)\n",
    "print(\"Thickness: {}meters\".format(folded_thickness))"
   ]
  },
  {
   "cell_type": "code",
   "execution_count": null,
   "metadata": {},
   "outputs": [],
   "source": [
    "###Code that convert meters to kilometers###\n",
    "THICKNESS = 0.00008\n",
    "n_folded = 43 \n",
    "folded_thickness = THICKNESS*(2**n_folded)\n",
    "print(\"Thickness: {:.2f}0,000 km\".format(folded_thickness/1000))"
   ]
  },
  {
   "cell_type": "code",
   "execution_count": null,
   "metadata": {},
   "outputs": [],
   "source": [
    "###With the use of exponentiation arithmetic operators###\n",
    "THICKNESS = 0.00008\n",
    "n_folded = 43\n",
    "folded_thickness = THICKNESS * (2**43)\n",
    "print(\"Thickness: {}meters\".format(folded_thickness))\n",
    "print(\"Thickness: {:.2f}0,000 km\".format(folded_thickness/1000))"
   ]
  },
  {
   "cell_type": "code",
   "execution_count": 12,
   "metadata": {},
   "outputs": [
    {
     "name": "stdout",
     "output_type": "stream",
     "text": [
      "Thickness: 703687441.77664meters\n"
     ]
    }
   ],
   "source": [
    "###Using the for statement###\n",
    "THICKNESS = 0.00008\n",
    "n_folded = 43\n",
    "for i in range(n_folded):\n",
    "    THICKNESS = THICKNESS*2\n",
    "print(\"Thickness: {}meters\".format(THICKNESS))"
   ]
  },
  {
   "cell_type": "code",
   "execution_count": null,
   "metadata": {},
   "outputs": [],
   "source": [
    "import time"
   ]
  },
  {
   "cell_type": "code",
   "execution_count": null,
   "metadata": {},
   "outputs": [],
   "source": [
    "THICKNESS = 0.00008\n",
    "n_folded = 43\n",
    "start = time.time()\n",
    "#####\n",
    "folded_thickness = THICKNESS\n",
    "for i in range(n_folded):\n",
    "    folded_thickness = folded_thickness*2\n",
    "########\n",
    "elapsed_time = time.time() - start\n",
    "print(\"time : {}[ms]\".format(elapsed_time*1000))"
   ]
  },
  {
   "cell_type": "code",
   "execution_count": null,
   "metadata": {},
   "outputs": [],
   "source": [
    "###If i increase the number of items from 43 times to 1000 times## we will see that the for statement os slower##\n",
    "THICKNESS = 0.00008\n",
    "n_folded = 1000\n",
    "start = time.time()\n",
    "####\n",
    "folded_thickness = THICKNESS*(2**n_folded)\n",
    "###\n",
    "elapsed_time = time.time() - start\n",
    "print(\"time : {}[ms]\".format(elapsed_time*1000))"
   ]
  },
  {
   "cell_type": "code",
   "execution_count": null,
   "metadata": {},
   "outputs": [],
   "source": [
    "###Record the thickness each time it is folded, and visualize it in a line graph###\n",
    "THICKNESS = 0.00008\n",
    "n_folded = 43\n",
    "folded_thickness_list = [THICKNESS]\n",
    "for i in range(n_folded):\n",
    "    folded_thickness_list.append(folded_thickness_list[-1]*2)\n",
    "print(\"Thickness:{}meters\".format(folded_thickness_list[-1]))\n",
    "print(\"------\")\n",
    "print(\"list\")\n",
    "print(folded_thickness_list)"
   ]
  },
  {
   "cell_type": "code",
   "execution_count": null,
   "metadata": {},
   "outputs": [],
   "source": [
    "\"\"\"\n",
    "View the chart. Title and axis label naming.\n",
    "\"\"\"\n",
    "import matplotlib.pyplot as plt\n",
    "%matplotlib inline\n",
    "plt.title(\"thickness of folded paper\")\n",
    "plt.xlabel(\"number of folds\")\n",
    "plt.ylabel(\"thickness[m]\")\n",
    "plt.plot(folded_thickness_list,linewidth=20)\n",
    "plt.show()"
   ]
  },
  {
   "cell_type": "code",
   "execution_count": null,
   "metadata": {},
   "outputs": [],
   "source": [
    "\"\"\"\n",
    "Display a blue line chart.\n",
    "\"\"\"\n",
    "plt.title(\"thickness of folded paper\")\n",
    "plt.xlabel(\"number of folds\")\n",
    "plt.ylabel(\"thickness[m]\")\n",
    "plt.plot(folded_thickness_list, color='blue',linestyle='dashed',linewidth=5)\n",
    "plt.show()"
   ]
  },
  {
   "cell_type": "code",
   "execution_count": null,
   "metadata": {},
   "outputs": [],
   "source": [
    "\"\"\"\n",
    "Increase the value of the axis.\n",
    "\"\"\"\n",
    "plt.title(\"thickness of folded paper\")\n",
    "plt.xlabel(\"number of folds\")\n",
    "plt.ylabel(\"thickness[m]\")\n",
    "plt.tick_params(labelsize=20)\n",
    "plt.plot(folded_thickness_list,'r+',)\n",
    "plt.show()"
   ]
  },
  {
   "cell_type": "code",
   "execution_count": null,
   "metadata": {},
   "outputs": [],
   "source": []
  },
  {
   "cell_type": "code",
   "execution_count": null,
   "metadata": {},
   "outputs": [],
   "source": [
    "The day when chestnut burns cover the solar system"
   ]
  },
  {
   "cell_type": "code",
   "execution_count": null,
   "metadata": {},
   "outputs": [],
   "source": [
    "#Assuming the size of the solar system is 100,000 AU\n",
    "\n",
    "def solar_system(object_size):\n",
    "    #size of the solar system in meter cube\n",
    "    solar_size=100000\n",
    "    \n",
    "    time=0\n",
    "    while True:\n",
    "        if object_size>=solar_size:\n",
    "            break\n",
    "        else:\n",
    "            object_size*=2\n",
    "            time+=5\n",
    "    return print(\"Time it takes to cover the solar system: {} minutes\".format(time))\n",
    "\n",
    "solar_system(450)"
   ]
  },
  {
   "cell_type": "code",
   "execution_count": null,
   "metadata": {},
   "outputs": [],
   "source": []
  },
  {
   "cell_type": "code",
   "execution_count": null,
   "metadata": {},
   "outputs": [],
   "source": [
    "def Tokyo_Dome(object_size):\n",
    "    size_tokyo_dome=1240000 #size of the Tokyo Dome in cubic meters\n",
    "    time=0\n",
    "    minutes=[]\n",
    "    size=[]\n",
    "    while True:\n",
    "        if object_size>=size_tokyo_dome:\n",
    "            break\n",
    "        else:\n",
    "            object_size*=2\n",
    "            time+=5\n",
    "            minutes.append(time)\n",
    "            size.append(object_size)\n",
    "            \n",
    "    import matplotlib.pyplot as plt\n",
    "    \n",
    "    plt.plot(minutes, size, 'r-o', linewidth=5, markersize=10, markeredgewidth=5, markeredgecolor='orange')\n",
    "    plt.xlabel('TIME IN MINUTES'); plt.ylabel('SIZE OF THE OBJECT');\n",
    "    plt.title(\"Relating to Tokyo Dome Situation\")\n",
    "    \n",
    "    return print(\"{} minutes\".format(time))\n",
    "Tokyo_Dome(10000)"
   ]
  },
  {
   "cell_type": "code",
   "execution_count": null,
   "metadata": {},
   "outputs": [],
   "source": []
  }
 ],
 "metadata": {
  "kernelspec": {
   "display_name": "Python 3",
   "language": "python",
   "name": "python3"
  },
  "language_info": {
   "codemirror_mode": {
    "name": "ipython",
    "version": 3
   },
   "file_extension": ".py",
   "mimetype": "text/x-python",
   "name": "python",
   "nbconvert_exporter": "python",
   "pygments_lexer": "ipython3",
   "version": "3.8.5"
  }
 },
 "nbformat": 4,
 "nbformat_minor": 4
}
