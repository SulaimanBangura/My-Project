{
 "cells": [
  {
   "cell_type": "code",
   "execution_count": null,
   "metadata": {},
   "outputs": [],
   "source": [
    "Number of Grains of Rice on the 100th day"
   ]
  },
  {
   "cell_type": "code",
   "execution_count": 1,
   "metadata": {},
   "outputs": [
    {
     "name": "stdout",
     "output_type": "stream",
     "text": [
      "Total number of rice grains=1267650600228229401496703205375\n"
     ]
    }
   ],
   "source": [
    "import numpy as np\n",
    "arr = [1]\n",
    "total_num_days = 100\n",
    "for i in range(1,total_num_days):\n",
    "    arr.append((arr[i-1])*2)\n",
    "arr=np.array(arr)\n",
    "num_grains=np.sum(arr)\n",
    "print(\"Total number of rice grains={}\".format(num_grains))"
   ]
  },
  {
   "cell_type": "code",
   "execution_count": null,
   "metadata": {},
   "outputs": [],
   "source": [
    "A LINE GRAPH TO REPRESENT THE CHANGE IN THE NUMBER OF GRAINS"
   ]
  },
  {
   "cell_type": "code",
   "execution_count": 11,
   "metadata": {},
   "outputs": [
    {
     "data": {
      "image/png": "[encoded data removed]",
      "text/plain": [
       "<Figure size 432x288 with 1 Axes>"
      ]
     },
     "metadata": {
      "needs_background": "light"
     },
     "output_type": "display_data"
    }
   ],
   "source": [
    "number_grains = 1\n",
    "days=100\n",
    "list_number_grains = [number_grains]\n",
    "list_total_grains =[number_grains]\n",
    "\n",
    "for i in range(days-1):\n",
    "    number_grains *= 2\n",
    "    list_number_grains.append(number_grains)\n",
    "    list_total_grains.append(sum(list_number_grains))\n",
    "    \n",
    "import matplotlib.pyplot as plt\n",
    "plt.title(\"Number of grains\")\n",
    "plt.xlabel(\"number of days\")\n",
    "plt.ylabel(\"number of grains\")\n",
    "plt.plot(list_total_grains)\n",
    "plt.show()"
   ]
  },
  {
   "cell_type": "code",
   "execution_count": null,
   "metadata": {},
   "outputs": [],
   "source": [
    "Number of rice grains outside of the 100th day"
   ]
  },
  {
   "cell_type": "code",
   "execution_count": 20,
   "metadata": {},
   "outputs": [
    {
     "ename": "NameError",
     "evalue": "name 'sum_arr' is not defined",
     "output_type": "error",
     "traceback": [
      "\u001b[1;31m---------------------------------------------------------------------------\u001b[0m",
      "\u001b[1;31mNameError\u001b[0m                                 Traceback (most recent call last)",
      "\u001b[1;32m<ipython-input-20-e0b93cf1ec41>\u001b[0m in \u001b[0;36m<module>\u001b[1;34m\u001b[0m\n\u001b[0;32m     12\u001b[0m     \u001b[0mplt\u001b[0m\u001b[1;33m.\u001b[0m\u001b[0mlegend\u001b[0m\u001b[1;33m(\u001b[0m\u001b[1;33m[\u001b[0m\u001b[1;34m'Number of rice receive on that day'\u001b[0m\u001b[1;33m,\u001b[0m\u001b[1;34m'The total number of rice you receive by that day'\u001b[0m\u001b[1;33m]\u001b[0m\u001b[1;33m)\u001b[0m\u001b[1;33m\u001b[0m\u001b[1;33m\u001b[0m\u001b[0m\n\u001b[0;32m     13\u001b[0m     \u001b[1;32mreturn\u001b[0m \u001b[0mlist_n_grains\u001b[0m\u001b[1;33m,\u001b[0m\u001b[0mlist_total_grains\u001b[0m\u001b[1;33m\u001b[0m\u001b[1;33m\u001b[0m\u001b[0m\n\u001b[1;32m---> 14\u001b[1;33m \u001b[0mlist_n_grains\u001b[0m\u001b[1;33m,\u001b[0m\u001b[0mlist_total_grains\u001b[0m\u001b[1;33m=\u001b[0m\u001b[0mcompute_sorori_shinzaemon\u001b[0m\u001b[1;33m(\u001b[0m\u001b[0mday\u001b[0m\u001b[1;33m=\u001b[0m\u001b[1;36m40\u001b[0m\u001b[1;33m)\u001b[0m\u001b[1;33m\u001b[0m\u001b[1;33m\u001b[0m\u001b[0m\n\u001b[0m\u001b[0;32m     15\u001b[0m \u001b[0mplt\u001b[0m\u001b[1;33m.\u001b[0m\u001b[0mshow\u001b[0m\u001b[1;33m(\u001b[0m\u001b[1;33m)\u001b[0m\u001b[1;33m\u001b[0m\u001b[1;33m\u001b[0m\u001b[0m\n",
      "\u001b[1;32m<ipython-input-20-e0b93cf1ec41>\u001b[0m in \u001b[0;36mcompute_sorori_shinzaemon\u001b[1;34m(day)\u001b[0m\n\u001b[0;32m      1\u001b[0m \u001b[1;32mdef\u001b[0m \u001b[0mcompute_sorori_shinzaemon\u001b[0m\u001b[1;33m(\u001b[0m\u001b[0mday\u001b[0m\u001b[1;33m=\u001b[0m\u001b[1;36m100\u001b[0m\u001b[1;33m)\u001b[0m\u001b[1;33m:\u001b[0m\u001b[1;33m\u001b[0m\u001b[1;33m\u001b[0m\u001b[0m\n\u001b[0;32m      2\u001b[0m     \u001b[0mlist_n_grains\u001b[0m\u001b[1;33m=\u001b[0m\u001b[0marr\u001b[0m\u001b[1;33m[\u001b[0m\u001b[1;33m:\u001b[0m\u001b[0mday\u001b[0m\u001b[1;33m]\u001b[0m\u001b[1;33m\u001b[0m\u001b[1;33m\u001b[0m\u001b[0m\n\u001b[1;32m----> 3\u001b[1;33m     \u001b[0mlist_total_grains\u001b[0m\u001b[1;33m=\u001b[0m\u001b[0msum_arr\u001b[0m\u001b[1;33m[\u001b[0m\u001b[1;33m:\u001b[0m\u001b[0mday\u001b[0m\u001b[1;33m]\u001b[0m\u001b[1;33m\u001b[0m\u001b[1;33m\u001b[0m\u001b[0m\n\u001b[0m\u001b[0;32m      4\u001b[0m     \u001b[0mprint\u001b[0m\u001b[1;33m(\u001b[0m\u001b[1;34m\"Total number of rice gains after {}days is: {}\"\u001b[0m\u001b[1;33m.\u001b[0m\u001b[0mformat\u001b[0m\u001b[1;33m(\u001b[0m\u001b[0mday\u001b[0m\u001b[1;33m,\u001b[0m\u001b[0mnp\u001b[0m\u001b[1;33m.\u001b[0m\u001b[0msum\u001b[0m\u001b[1;33m(\u001b[0m\u001b[0mlist_n_grains\u001b[0m\u001b[1;33m)\u001b[0m\u001b[1;33m)\u001b[0m\u001b[1;33m)\u001b[0m\u001b[1;33m\u001b[0m\u001b[1;33m\u001b[0m\u001b[0m\n\u001b[0;32m      5\u001b[0m \u001b[1;33m\u001b[0m\u001b[0m\n",
      "\u001b[1;31mNameError\u001b[0m: name 'sum_arr' is not defined"
     ]
    }
   ],
   "source": [
    "def compute_sorori_shinzaemon(day=100):   \n",
    "    list_n_grains=arr[:day]\n",
    "    list_total_grains=sum_arr[:day]\n",
    "    print(\"Total number of rice gains after {}days is: {}\".format(day,np.sum(list_n_grains)))\n",
    "    \n",
    "    days=range(1,day+1)\n",
    "    plt.plot(days,list_n_grains,'g-o',linewidth=5,markersize=10,markeredgewidth=5,markeredgecolor='red')\n",
    "    plt.plot(days, list_total_grains, 'r--o', linewidth=5, markersize=10);\n",
    "    plt.title('Number of Rice grains')\n",
    "    plt.xlabel('Days');\n",
    "    plt.ylabel('Numer of Rice grains');\n",
    "    plt.legend(['Number of rice receive on that day','The total number of rice you receive by that day'])\n",
    "    return list_n_grains,list_total_grains\n",
    "list_n_grains,list_total_grains=compute_sorori_shinzaemon(day=40)\n",
    "plt.show()"
   ]
  },
  {
   "cell_type": "code",
   "execution_count": 8,
   "metadata": {},
   "outputs": [
    {
     "name": "stdout",
     "output_type": "stream",
     "text": [
      "Number of days to live = 15.0 days\n"
     ]
    }
   ],
   "source": [
    "####let take 250 as the number of grains required per one person to live for one day.\n",
    "def number_of_days_to_live(number_of_grains,number_of_people):\n",
    "    \n",
    "    ###calculating the number of days to live for one person for the given number of grains\n",
    "    days_to_live_per_one_person = number_of_grains/250\n",
    "    \n",
    "    ###hence calculate the number of days to live for the given number of people\n",
    "    num_days_to_live = days_to_live_per_one_person/number_of_people\n",
    "    \n",
    "###Research source by WHO\n",
    "###It takes 400g,which is approximately 19200grains of rice to feed an adult human a day. \n",
    "    \n",
    "    return num_days_to_live\n",
    "n = number_of_days_to_live(19200,5)\n",
    "print(\"Number of days to live = {} days\".format(n//1))"
   ]
  },
  {
   "cell_type": "code",
   "execution_count": null,
   "metadata": {},
   "outputs": [],
   "source": []
  }
 ],
 "metadata": {
  "kernelspec": {
   "display_name": "Python 3",
   "language": "python",
   "name": "python3"
  },
  "language_info": {
   "codemirror_mode": {
    "name": "ipython",
    "version": 3
   },
   "file_extension": ".py",
   "mimetype": "text/x-python",
   "name": "python",
   "nbconvert_exporter": "python",
   "pygments_lexer": "ipython3",
   "version": "3.8.5"
  }
 },
 "nbformat": 4,
 "nbformat_minor": 4
}
