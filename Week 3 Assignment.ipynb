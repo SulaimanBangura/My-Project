{
 "cells": [
  {
   "cell_type": "code",
   "execution_count": null,
   "metadata": {},
   "outputs": [],
   "source": []
  },
  {
   "cell_type": "code",
   "execution_count": null,
   "metadata": {},
   "outputs": [],
   "source": [
    "The day when chestnut burns cover the solar system"
   ]
  },
  {
   "cell_type": "code",
   "execution_count": null,
   "metadata": {},
   "outputs": [],
   "source": []
  },
  {
   "cell_type": "code",
   "execution_count": 1,
   "metadata": {},
   "outputs": [
    {
     "name": "stdout",
     "output_type": "stream",
     "text": [
      "Time it takes to cover the solar system: 40 minutes\n"
     ]
    }
   ],
   "source": [
    "#Assuming the size of the solar system is 100,000 AU\n",
    "\n",
    "def solar_system(object_size):\n",
    "    #size of the solar system in meter cube\n",
    "    solar_size=100000\n",
    "    \n",
    "    time=0\n",
    "    while True:\n",
    "        if object_size>=solar_size:\n",
    "            break\n",
    "        else:\n",
    "            object_size*=2\n",
    "            time+=5\n",
    "    return print(\"Time it takes to cover the solar system: {} minutes\".format(time))\n",
    "\n",
    "solar_system(450)"
   ]
  },
  {
   "cell_type": "code",
   "execution_count": null,
   "metadata": {},
   "outputs": [],
   "source": []
  },
  {
   "cell_type": "code",
   "execution_count": 2,
   "metadata": {},
   "outputs": [
    {
     "name": "stdout",
     "output_type": "stream",
     "text": [
      "35 minutes\n"
     ]
    },
    {
     "data": {
      "image/png": "[encoded data removed]",
      "text/plain": [
       "<Figure size 432x288 with 1 Axes>"
      ]
     },
     "metadata": {
      "needs_background": "light"
     },
     "output_type": "display_data"
    }
   ],
   "source": [
    "def Tokyo_Dome(object_size):\n",
    "    size_tokyo_dome=1240000 #size of the Tokyo Dome in cubic meters\n",
    "    time=0\n",
    "    minutes=[]\n",
    "    size=[]\n",
    "    while True:\n",
    "        if object_size>=size_tokyo_dome:\n",
    "            break\n",
    "        else:\n",
    "            object_size*=2\n",
    "            time+=5\n",
    "            minutes.append(time)\n",
    "            size.append(object_size)\n",
    "            \n",
    "    import matplotlib.pyplot as plt\n",
    "    \n",
    "    plt.plot(minutes, size, 'r-o', linewidth=5, markersize=10, markeredgewidth=5, markeredgecolor='orange')\n",
    "    plt.xlabel('TIME IN MINUTES'); plt.ylabel('SIZE OF THE OBJECT');\n",
    "    plt.title(\"Relating to Tokyo Dome Situation\")\n",
    "    \n",
    "    return print(\"{} minutes\".format(time))\n",
    "Tokyo_Dome(10000)"
   ]
  },
  {
   "cell_type": "code",
   "execution_count": null,
   "metadata": {},
   "outputs": [],
   "source": []
  }
 ],
 "metadata": {
  "kernelspec": {
   "display_name": "Python 3",
   "language": "python",
   "name": "python3"
  },
  "language_info": {
   "codemirror_mode": {
    "name": "ipython",
    "version": 3
   },
   "file_extension": ".py",
   "mimetype": "text/x-python",
   "name": "python",
   "nbconvert_exporter": "python",
   "pygments_lexer": "ipython3",
   "version": "3.8.5"
  }
 },
 "nbformat": 4,
 "nbformat_minor": 4
}
