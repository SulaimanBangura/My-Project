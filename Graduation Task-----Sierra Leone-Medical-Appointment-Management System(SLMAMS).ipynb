{
 "cells": [
  {
   "cell_type": "code",
   "execution_count": 1,
   "metadata": {
    "execution": {
     "iopub.execute_input": "2021-09-15T15:27:32.102540Z",
     "iopub.status.busy": "2021-09-15T15:27:32.101870Z",
     "iopub.status.idle": "2021-09-15T15:27:33.158541Z",
     "shell.execute_reply": "2021-09-15T15:27:33.157943Z",
     "shell.execute_reply.started": "2021-09-15T15:25:59.035210Z"
    },
    "papermill": {
     "duration": 1.114662,
     "end_time": "2021-09-15T15:27:33.158698",
     "exception": false,
     "start_time": "2021-09-15T15:27:32.044036",
     "status": "completed"
    },
    "tags": []
   },
   "outputs": [],
   "source": [
    "import pandas as pd\n",
    "import numpy as np\n",
    "import matplotlib.pyplot as plt\n",
    "import seaborn as sns\n",
    "from datetime import datetime\n",
    "%matplotlib inline"
   ]
  },
  {
   "cell_type": "code",
   "execution_count": 2,
   "metadata": {
    "execution": {
     "iopub.execute_input": "2021-09-15T15:27:33.359981Z",
     "iopub.status.busy": "2021-09-15T15:27:33.359336Z",
     "iopub.status.idle": "2021-09-15T15:27:34.067871Z",
     "shell.execute_reply": "2021-09-15T15:27:34.067205Z",
     "shell.execute_reply.started": "2021-09-15T15:25:59.048516Z"
    },
    "papermill": {
     "duration": 0.767358,
     "end_time": "2021-09-15T15:27:34.068013",
     "exception": false,
     "start_time": "2021-09-15T15:27:33.300655",
     "status": "completed"
    },
    "tags": []
   },
   "outputs": [
    {
     "data": {
      "text/html": [
       "<div>\n",
       "<style scoped>\n",
       "    .dataframe tbody tr th:only-of-type {\n",
       "        vertical-align: middle;\n",
       "    }\n",
       "\n",
       "    .dataframe tbody tr th {\n",
       "        vertical-align: top;\n",
       "    }\n",
       "\n",
       "    .dataframe thead th {\n",
       "        text-align: right;\n",
       "    }\n",
       "</style>\n",
       "<table border=\"1\" class=\"dataframe\">\n",
       "  <thead>\n",
       "    <tr style=\"text-align: right;\">\n",
       "      <th></th>\n",
       "      <th>PatientId</th>\n",
       "      <th>AppointmentID</th>\n",
       "      <th>Gender</th>\n",
       "      <th>ScheduledDay</th>\n",
       "      <th>AppointmentDay</th>\n",
       "      <th>Age</th>\n",
       "      <th>Neighbourhood</th>\n",
       "      <th>Scholarship</th>\n",
       "      <th>Hipertension</th>\n",
       "      <th>Diabetes</th>\n",
       "      <th>Alcoholism</th>\n",
       "      <th>Handcap</th>\n",
       "      <th>SMS_received</th>\n",
       "      <th>No-show</th>\n",
       "    </tr>\n",
       "  </thead>\n",
       "  <tbody>\n",
       "    <tr>\n",
       "      <th>0</th>\n",
       "      <td>2.987250e+13</td>\n",
       "      <td>5642903</td>\n",
       "      <td>F</td>\n",
       "      <td>2016-04-29T18:38:08Z</td>\n",
       "      <td>2016-04-29T00:00:00Z</td>\n",
       "      <td>62</td>\n",
       "      <td>JARDIM DA PENHA</td>\n",
       "      <td>0</td>\n",
       "      <td>1</td>\n",
       "      <td>0</td>\n",
       "      <td>0</td>\n",
       "      <td>0</td>\n",
       "      <td>0</td>\n",
       "      <td>No</td>\n",
       "    </tr>\n",
       "    <tr>\n",
       "      <th>1</th>\n",
       "      <td>5.589978e+14</td>\n",
       "      <td>5642503</td>\n",
       "      <td>M</td>\n",
       "      <td>2016-04-29T16:08:27Z</td>\n",
       "      <td>2016-04-29T00:00:00Z</td>\n",
       "      <td>56</td>\n",
       "      <td>JARDIM DA PENHA</td>\n",
       "      <td>0</td>\n",
       "      <td>0</td>\n",
       "      <td>0</td>\n",
       "      <td>0</td>\n",
       "      <td>0</td>\n",
       "      <td>0</td>\n",
       "      <td>No</td>\n",
       "    </tr>\n",
       "    <tr>\n",
       "      <th>2</th>\n",
       "      <td>4.262962e+12</td>\n",
       "      <td>5642549</td>\n",
       "      <td>F</td>\n",
       "      <td>2016-04-29T16:19:04Z</td>\n",
       "      <td>2016-04-29T00:00:00Z</td>\n",
       "      <td>62</td>\n",
       "      <td>MATA DA PRAIA</td>\n",
       "      <td>0</td>\n",
       "      <td>0</td>\n",
       "      <td>0</td>\n",
       "      <td>0</td>\n",
       "      <td>0</td>\n",
       "      <td>0</td>\n",
       "      <td>No</td>\n",
       "    </tr>\n",
       "    <tr>\n",
       "      <th>3</th>\n",
       "      <td>8.679512e+11</td>\n",
       "      <td>5642828</td>\n",
       "      <td>F</td>\n",
       "      <td>2016-04-29T17:29:31Z</td>\n",
       "      <td>2016-04-29T00:00:00Z</td>\n",
       "      <td>8</td>\n",
       "      <td>PONTAL DE CAMBURI</td>\n",
       "      <td>0</td>\n",
       "      <td>0</td>\n",
       "      <td>0</td>\n",
       "      <td>0</td>\n",
       "      <td>0</td>\n",
       "      <td>0</td>\n",
       "      <td>No</td>\n",
       "    </tr>\n",
       "    <tr>\n",
       "      <th>4</th>\n",
       "      <td>8.841186e+12</td>\n",
       "      <td>5642494</td>\n",
       "      <td>F</td>\n",
       "      <td>2016-04-29T16:07:23Z</td>\n",
       "      <td>2016-04-29T00:00:00Z</td>\n",
       "      <td>56</td>\n",
       "      <td>JARDIM DA PENHA</td>\n",
       "      <td>0</td>\n",
       "      <td>1</td>\n",
       "      <td>1</td>\n",
       "      <td>0</td>\n",
       "      <td>0</td>\n",
       "      <td>0</td>\n",
       "      <td>No</td>\n",
       "    </tr>\n",
       "  </tbody>\n",
       "</table>\n",
       "</div>"
      ],
      "text/plain": [
       "      PatientId  AppointmentID Gender          ScheduledDay  \\\n",
       "0  2.987250e+13        5642903      F  2016-04-29T18:38:08Z   \n",
       "1  5.589978e+14        5642503      M  2016-04-29T16:08:27Z   \n",
       "2  4.262962e+12        5642549      F  2016-04-29T16:19:04Z   \n",
       "3  8.679512e+11        5642828      F  2016-04-29T17:29:31Z   \n",
       "4  8.841186e+12        5642494      F  2016-04-29T16:07:23Z   \n",
       "\n",
       "         AppointmentDay  Age      Neighbourhood  Scholarship  Hipertension  \\\n",
       "0  2016-04-29T00:00:00Z   62    JARDIM DA PENHA            0             1   \n",
       "1  2016-04-29T00:00:00Z   56    JARDIM DA PENHA            0             0   \n",
       "2  2016-04-29T00:00:00Z   62      MATA DA PRAIA            0             0   \n",
       "3  2016-04-29T00:00:00Z    8  PONTAL DE CAMBURI            0             0   \n",
       "4  2016-04-29T00:00:00Z   56    JARDIM DA PENHA            0             1   \n",
       "\n",
       "   Diabetes  Alcoholism  Handcap  SMS_received No-show  \n",
       "0         0           0        0             0      No  \n",
       "1         0           0        0             0      No  \n",
       "2         0           0        0             0      No  \n",
       "3         0           0        0             0      No  \n",
       "4         1           0        0             0      No  "
      ]
     },
     "execution_count": 2,
     "metadata": {},
     "output_type": "execute_result"
    }
   ],
   "source": [
    "url = 'url.csv'\n",
    "df = pd.read_csv(url)\n",
    "df.head()"
   ]
  },
  {
   "cell_type": "code",
   "execution_count": 164,
   "metadata": {
    "execution": {
     "iopub.execute_input": "2021-09-15T15:27:34.259011Z",
     "iopub.status.busy": "2021-09-15T15:27:34.258357Z",
     "iopub.status.idle": "2021-09-15T15:27:34.342895Z",
     "shell.execute_reply": "2021-09-15T15:27:34.342385Z",
     "shell.execute_reply.started": "2021-09-15T15:26:00.842596Z"
    },
    "papermill": {
     "duration": 0.136673,
     "end_time": "2021-09-15T15:27:34.343043",
     "exception": false,
     "start_time": "2021-09-15T15:27:34.206370",
     "status": "completed"
    },
    "tags": []
   },
   "outputs": [
    {
     "name": "stdout",
     "output_type": "stream",
     "text": [
      "<class 'pandas.core.frame.DataFrame'>\n",
      "RangeIndex: 110527 entries, 0 to 110526\n",
      "Data columns (total 14 columns):\n",
      " #   Column          Non-Null Count   Dtype  \n",
      "---  ------          --------------   -----  \n",
      " 0   PatientId       110527 non-null  float64\n",
      " 1   AppointmentID   110527 non-null  int64  \n",
      " 2   Gender          110527 non-null  object \n",
      " 3   ScheduledDay    110527 non-null  object \n",
      " 4   AppointmentDay  110527 non-null  object \n",
      " 5   Age             110527 non-null  int64  \n",
      " 6   Neighbourhood   110527 non-null  object \n",
      " 7   Scholarship     110527 non-null  int64  \n",
      " 8   Hipertension    110527 non-null  int64  \n",
      " 9   Diabetes        110527 non-null  int64  \n",
      " 10  Alcoholism      110527 non-null  int64  \n",
      " 11  Handcap         110527 non-null  int64  \n",
      " 12  SMS_received    110527 non-null  int64  \n",
      " 13  No-show         110527 non-null  object \n",
      "dtypes: float64(1), int64(8), object(5)\n",
      "memory usage: 11.8+ MB\n"
     ]
    }
   ],
   "source": [
    "df.info()"
   ]
  },
  {
   "cell_type": "markdown",
   "metadata": {
    "papermill": {
     "duration": 0.045626,
     "end_time": "2021-09-15T15:27:34.434546",
     "exception": false,
     "start_time": "2021-09-15T15:27:34.388920",
     "status": "completed"
    },
    "tags": []
   },
   "source": [
    "this shows that we have 14 columns in total besides index, and we have 110527 record.\n",
    "\n",
    "patientId is float while it supposed to be an integer.\n",
    "\n",
    "Convert Scheduled and Appointment columns to date time.\n",
    "\n",
    "Remove Row(s) with Negative Age Value(s):"
   ]
  },
  {
   "cell_type": "code",
   "execution_count": 4,
   "metadata": {
    "execution": {
     "iopub.execute_input": "2021-09-15T15:27:34.532154Z",
     "iopub.status.busy": "2021-09-15T15:27:34.531179Z",
     "iopub.status.idle": "2021-09-15T15:27:34.535679Z",
     "shell.execute_reply": "2021-09-15T15:27:34.535039Z",
     "shell.execute_reply.started": "2021-09-15T15:26:00.888473Z"
    },
    "papermill": {
     "duration": 0.055738,
     "end_time": "2021-09-15T15:27:34.535831",
     "exception": false,
     "start_time": "2021-09-15T15:27:34.480093",
     "status": "completed"
    },
    "tags": []
   },
   "outputs": [
    {
     "data": {
      "text/plain": [
       "(110527, 14)"
      ]
     },
     "execution_count": 4,
     "metadata": {},
     "output_type": "execute_result"
    }
   ],
   "source": [
    "df.shape"
   ]
  },
  {
   "cell_type": "code",
   "execution_count": 5,
   "metadata": {
    "execution": {
     "iopub.execute_input": "2021-09-15T15:27:34.692113Z",
     "iopub.status.busy": "2021-09-15T15:27:34.691464Z",
     "iopub.status.idle": "2021-09-15T15:27:34.700340Z",
     "shell.execute_reply": "2021-09-15T15:27:34.699721Z",
     "shell.execute_reply.started": "2021-09-15T15:26:00.897123Z"
    },
    "papermill": {
     "duration": 0.118779,
     "end_time": "2021-09-15T15:27:34.700496",
     "exception": false,
     "start_time": "2021-09-15T15:27:34.581717",
     "status": "completed"
    },
    "tags": []
   },
   "outputs": [
    {
     "data": {
      "text/plain": [
       "PatientId         0\n",
       "AppointmentID     0\n",
       "Gender            0\n",
       "ScheduledDay      0\n",
       "AppointmentDay    0\n",
       "Age               0\n",
       "Neighbourhood     0\n",
       "Scholarship       0\n",
       "Hipertension      0\n",
       "Diabetes          0\n",
       "Alcoholism        0\n",
       "Handcap           0\n",
       "SMS_received      0\n",
       "No-show           0\n",
       "dtype: int64"
      ]
     },
     "execution_count": 5,
     "metadata": {},
     "output_type": "execute_result"
    }
   ],
   "source": [
    "df.isnull().sum()"
   ]
  },
  {
   "cell_type": "code",
   "execution_count": 6,
   "metadata": {
    "execution": {
     "iopub.execute_input": "2021-09-15T15:27:34.802829Z",
     "iopub.status.busy": "2021-09-15T15:27:34.801868Z",
     "iopub.status.idle": "2021-09-15T15:27:34.866131Z",
     "shell.execute_reply": "2021-09-15T15:27:34.866873Z",
     "shell.execute_reply.started": "2021-09-15T15:26:00.939708Z"
    },
    "papermill": {
     "duration": 0.117111,
     "end_time": "2021-09-15T15:27:34.867112",
     "exception": false,
     "start_time": "2021-09-15T15:27:34.750001",
     "status": "completed"
    },
    "tags": []
   },
   "outputs": [
    {
     "data": {
      "text/html": [
       "<div>\n",
       "<style scoped>\n",
       "    .dataframe tbody tr th:only-of-type {\n",
       "        vertical-align: middle;\n",
       "    }\n",
       "\n",
       "    .dataframe tbody tr th {\n",
       "        vertical-align: top;\n",
       "    }\n",
       "\n",
       "    .dataframe thead th {\n",
       "        text-align: right;\n",
       "    }\n",
       "</style>\n",
       "<table border=\"1\" class=\"dataframe\">\n",
       "  <thead>\n",
       "    <tr style=\"text-align: right;\">\n",
       "      <th></th>\n",
       "      <th>PatientId</th>\n",
       "      <th>AppointmentID</th>\n",
       "      <th>Age</th>\n",
       "      <th>Scholarship</th>\n",
       "      <th>Hipertension</th>\n",
       "      <th>Diabetes</th>\n",
       "      <th>Alcoholism</th>\n",
       "      <th>Handcap</th>\n",
       "      <th>SMS_received</th>\n",
       "    </tr>\n",
       "  </thead>\n",
       "  <tbody>\n",
       "    <tr>\n",
       "      <th>count</th>\n",
       "      <td>1.105270e+05</td>\n",
       "      <td>1.105270e+05</td>\n",
       "      <td>110527.000000</td>\n",
       "      <td>110527.000000</td>\n",
       "      <td>110527.000000</td>\n",
       "      <td>110527.000000</td>\n",
       "      <td>110527.000000</td>\n",
       "      <td>110527.000000</td>\n",
       "      <td>110527.000000</td>\n",
       "    </tr>\n",
       "    <tr>\n",
       "      <th>mean</th>\n",
       "      <td>1.474963e+14</td>\n",
       "      <td>5.675305e+06</td>\n",
       "      <td>37.088874</td>\n",
       "      <td>0.098266</td>\n",
       "      <td>0.197246</td>\n",
       "      <td>0.071865</td>\n",
       "      <td>0.030400</td>\n",
       "      <td>0.022248</td>\n",
       "      <td>0.321026</td>\n",
       "    </tr>\n",
       "    <tr>\n",
       "      <th>std</th>\n",
       "      <td>2.560949e+14</td>\n",
       "      <td>7.129575e+04</td>\n",
       "      <td>23.110205</td>\n",
       "      <td>0.297675</td>\n",
       "      <td>0.397921</td>\n",
       "      <td>0.258265</td>\n",
       "      <td>0.171686</td>\n",
       "      <td>0.161543</td>\n",
       "      <td>0.466873</td>\n",
       "    </tr>\n",
       "    <tr>\n",
       "      <th>min</th>\n",
       "      <td>3.921784e+04</td>\n",
       "      <td>5.030230e+06</td>\n",
       "      <td>-1.000000</td>\n",
       "      <td>0.000000</td>\n",
       "      <td>0.000000</td>\n",
       "      <td>0.000000</td>\n",
       "      <td>0.000000</td>\n",
       "      <td>0.000000</td>\n",
       "      <td>0.000000</td>\n",
       "    </tr>\n",
       "    <tr>\n",
       "      <th>25%</th>\n",
       "      <td>4.172614e+12</td>\n",
       "      <td>5.640286e+06</td>\n",
       "      <td>18.000000</td>\n",
       "      <td>0.000000</td>\n",
       "      <td>0.000000</td>\n",
       "      <td>0.000000</td>\n",
       "      <td>0.000000</td>\n",
       "      <td>0.000000</td>\n",
       "      <td>0.000000</td>\n",
       "    </tr>\n",
       "    <tr>\n",
       "      <th>50%</th>\n",
       "      <td>3.173184e+13</td>\n",
       "      <td>5.680573e+06</td>\n",
       "      <td>37.000000</td>\n",
       "      <td>0.000000</td>\n",
       "      <td>0.000000</td>\n",
       "      <td>0.000000</td>\n",
       "      <td>0.000000</td>\n",
       "      <td>0.000000</td>\n",
       "      <td>0.000000</td>\n",
       "    </tr>\n",
       "    <tr>\n",
       "      <th>75%</th>\n",
       "      <td>9.439172e+13</td>\n",
       "      <td>5.725524e+06</td>\n",
       "      <td>55.000000</td>\n",
       "      <td>0.000000</td>\n",
       "      <td>0.000000</td>\n",
       "      <td>0.000000</td>\n",
       "      <td>0.000000</td>\n",
       "      <td>0.000000</td>\n",
       "      <td>1.000000</td>\n",
       "    </tr>\n",
       "    <tr>\n",
       "      <th>max</th>\n",
       "      <td>9.999816e+14</td>\n",
       "      <td>5.790484e+06</td>\n",
       "      <td>115.000000</td>\n",
       "      <td>1.000000</td>\n",
       "      <td>1.000000</td>\n",
       "      <td>1.000000</td>\n",
       "      <td>1.000000</td>\n",
       "      <td>4.000000</td>\n",
       "      <td>1.000000</td>\n",
       "    </tr>\n",
       "  </tbody>\n",
       "</table>\n",
       "</div>"
      ],
      "text/plain": [
       "          PatientId  AppointmentID            Age    Scholarship  \\\n",
       "count  1.105270e+05   1.105270e+05  110527.000000  110527.000000   \n",
       "mean   1.474963e+14   5.675305e+06      37.088874       0.098266   \n",
       "std    2.560949e+14   7.129575e+04      23.110205       0.297675   \n",
       "min    3.921784e+04   5.030230e+06      -1.000000       0.000000   \n",
       "25%    4.172614e+12   5.640286e+06      18.000000       0.000000   \n",
       "50%    3.173184e+13   5.680573e+06      37.000000       0.000000   \n",
       "75%    9.439172e+13   5.725524e+06      55.000000       0.000000   \n",
       "max    9.999816e+14   5.790484e+06     115.000000       1.000000   \n",
       "\n",
       "        Hipertension       Diabetes     Alcoholism        Handcap  \\\n",
       "count  110527.000000  110527.000000  110527.000000  110527.000000   \n",
       "mean        0.197246       0.071865       0.030400       0.022248   \n",
       "std         0.397921       0.258265       0.171686       0.161543   \n",
       "min         0.000000       0.000000       0.000000       0.000000   \n",
       "25%         0.000000       0.000000       0.000000       0.000000   \n",
       "50%         0.000000       0.000000       0.000000       0.000000   \n",
       "75%         0.000000       0.000000       0.000000       0.000000   \n",
       "max         1.000000       1.000000       1.000000       4.000000   \n",
       "\n",
       "        SMS_received  \n",
       "count  110527.000000  \n",
       "mean        0.321026  \n",
       "std         0.466873  \n",
       "min         0.000000  \n",
       "25%         0.000000  \n",
       "50%         0.000000  \n",
       "75%         1.000000  \n",
       "max         1.000000  "
      ]
     },
     "execution_count": 6,
     "metadata": {},
     "output_type": "execute_result"
    }
   ],
   "source": [
    " df.describe()"
   ]
  },
  {
   "cell_type": "code",
   "execution_count": 7,
   "metadata": {
    "execution": {
     "iopub.execute_input": "2021-09-15T15:27:35.072779Z",
     "iopub.status.busy": "2021-09-15T15:27:35.071831Z",
     "iopub.status.idle": "2021-09-15T15:27:35.179727Z",
     "shell.execute_reply": "2021-09-15T15:27:35.180180Z",
     "shell.execute_reply.started": "2021-09-15T15:26:01.130210Z"
    },
    "papermill": {
     "duration": 0.163026,
     "end_time": "2021-09-15T15:27:35.180377",
     "exception": false,
     "start_time": "2021-09-15T15:27:35.017351",
     "status": "completed"
    },
    "tags": []
   },
   "outputs": [
    {
     "data": {
      "text/plain": [
       "0"
      ]
     },
     "execution_count": 7,
     "metadata": {},
     "output_type": "execute_result"
    }
   ],
   "source": [
    "df.duplicated().sum()"
   ]
  },
  {
   "cell_type": "markdown",
   "metadata": {
    "papermill": {
     "duration": 0.049503,
     "end_time": "2021-09-15T15:27:35.375457",
     "exception": false,
     "start_time": "2021-09-15T15:27:35.325954",
     "status": "completed"
    },
    "tags": []
   },
   "source": [
    "\n",
    "### Data Cleaning"
   ]
  },
  {
   "cell_type": "markdown",
   "metadata": {
    "papermill": {
     "duration": 0.048987,
     "end_time": "2021-09-15T15:27:35.581794",
     "exception": false,
     "start_time": "2021-09-15T15:27:35.532807",
     "status": "completed"
    },
    "tags": []
   },
   "source": [
    " **1 - Edit the \"ScheduledDay\", and \"AppointmentDay\" Columns' Datatype to be Datetime**"
   ]
  },
  {
   "cell_type": "code",
   "execution_count": 170,
   "metadata": {
    "execution": {
     "iopub.execute_input": "2021-09-15T15:27:35.716871Z",
     "iopub.status.busy": "2021-09-15T15:27:35.711773Z",
     "iopub.status.idle": "2021-09-15T15:27:35.771587Z",
     "shell.execute_reply": "2021-09-15T15:27:35.770991Z",
     "shell.execute_reply.started": "2021-09-15T15:26:01.225839Z"
    },
    "papermill": {
     "duration": 0.141912,
     "end_time": "2021-09-15T15:27:35.771734",
     "exception": false,
     "start_time": "2021-09-15T15:27:35.629822",
     "status": "completed"
    },
    "tags": []
   },
   "outputs": [],
   "source": [
    "df['ScheduledDay'] = pd.to_datetime(df['ScheduledDay'])"
   ]
  },
  {
   "cell_type": "code",
   "execution_count": 171,
   "metadata": {
    "execution": {
     "iopub.execute_input": "2021-09-15T15:27:35.879460Z",
     "iopub.status.busy": "2021-09-15T15:27:35.878731Z",
     "iopub.status.idle": "2021-09-15T15:27:35.900538Z",
     "shell.execute_reply": "2021-09-15T15:27:35.899994Z",
     "shell.execute_reply.started": "2021-09-15T15:26:01.286609Z"
    },
    "papermill": {
     "duration": 0.08145,
     "end_time": "2021-09-15T15:27:35.900690",
     "exception": false,
     "start_time": "2021-09-15T15:27:35.819240",
     "status": "completed"
    },
    "tags": []
   },
   "outputs": [],
   "source": [
    "df['AppointmentDay'] = pd.to_datetime(df['AppointmentDay'])"
   ]
  },
  {
   "cell_type": "code",
   "execution_count": 172,
   "metadata": {
    "execution": {
     "iopub.execute_input": "2021-09-15T15:27:36.035633Z",
     "iopub.status.busy": "2021-09-15T15:27:35.999863Z",
     "iopub.status.idle": "2021-09-15T15:27:36.050008Z",
     "shell.execute_reply": "2021-09-15T15:27:36.049324Z",
     "shell.execute_reply.started": "2021-09-15T15:26:01.311654Z"
    },
    "papermill": {
     "duration": 0.101873,
     "end_time": "2021-09-15T15:27:36.050158",
     "exception": false,
     "start_time": "2021-09-15T15:27:35.948285",
     "status": "completed"
    },
    "tags": []
   },
   "outputs": [
    {
     "name": "stdout",
     "output_type": "stream",
     "text": [
      "<class 'pandas.core.frame.DataFrame'>\n",
      "RangeIndex: 110527 entries, 0 to 110526\n",
      "Data columns (total 14 columns):\n",
      " #   Column          Non-Null Count   Dtype              \n",
      "---  ------          --------------   -----              \n",
      " 0   PatientId       110527 non-null  float64            \n",
      " 1   AppointmentID   110527 non-null  int64              \n",
      " 2   Gender          110527 non-null  object             \n",
      " 3   ScheduledDay    110527 non-null  datetime64[ns, UTC]\n",
      " 4   AppointmentDay  110527 non-null  datetime64[ns, UTC]\n",
      " 5   Age             110527 non-null  int64              \n",
      " 6   Neighbourhood   110527 non-null  object             \n",
      " 7   Scholarship     110527 non-null  int64              \n",
      " 8   Hipertension    110527 non-null  int64              \n",
      " 9   Diabetes        110527 non-null  int64              \n",
      " 10  Alcoholism      110527 non-null  int64              \n",
      " 11  Handcap         110527 non-null  int64              \n",
      " 12  SMS_received    110527 non-null  int64              \n",
      " 13  No-show         110527 non-null  object             \n",
      "dtypes: datetime64[ns, UTC](2), float64(1), int64(8), object(3)\n",
      "memory usage: 11.8+ MB\n"
     ]
    }
   ],
   "source": [
    "df.info()"
   ]
  },
  {
   "cell_type": "code",
   "execution_count": 173,
   "metadata": {
    "execution": {
     "iopub.execute_input": "2021-09-15T15:27:36.158734Z",
     "iopub.status.busy": "2021-09-15T15:27:36.158038Z",
     "iopub.status.idle": "2021-09-15T15:27:36.169130Z",
     "shell.execute_reply": "2021-09-15T15:27:36.169610Z",
     "shell.execute_reply.started": "2021-09-15T15:26:01.343117Z"
    },
    "papermill": {
     "duration": 0.071225,
     "end_time": "2021-09-15T15:27:36.169797",
     "exception": false,
     "start_time": "2021-09-15T15:27:36.098572",
     "status": "completed"
    },
    "tags": []
   },
   "outputs": [
    {
     "data": {
      "text/html": [
       "<div>\n",
       "<style scoped>\n",
       "    .dataframe tbody tr th:only-of-type {\n",
       "        vertical-align: middle;\n",
       "    }\n",
       "\n",
       "    .dataframe tbody tr th {\n",
       "        vertical-align: top;\n",
       "    }\n",
       "\n",
       "    .dataframe thead th {\n",
       "        text-align: right;\n",
       "    }\n",
       "</style>\n",
       "<table border=\"1\" class=\"dataframe\">\n",
       "  <thead>\n",
       "    <tr style=\"text-align: right;\">\n",
       "      <th></th>\n",
       "      <th>PatientId</th>\n",
       "      <th>AppointmentID</th>\n",
       "      <th>Gender</th>\n",
       "      <th>ScheduledDay</th>\n",
       "      <th>AppointmentDay</th>\n",
       "      <th>Age</th>\n",
       "      <th>Neighbourhood</th>\n",
       "      <th>Scholarship</th>\n",
       "      <th>Hipertension</th>\n",
       "      <th>Diabetes</th>\n",
       "      <th>Alcoholism</th>\n",
       "      <th>Handcap</th>\n",
       "      <th>SMS_received</th>\n",
       "      <th>No-show</th>\n",
       "    </tr>\n",
       "  </thead>\n",
       "  <tbody>\n",
       "    <tr>\n",
       "      <th>0</th>\n",
       "      <td>2.987250e+13</td>\n",
       "      <td>5642903</td>\n",
       "      <td>F</td>\n",
       "      <td>2016-04-29 18:38:08+00:00</td>\n",
       "      <td>2016-04-29 00:00:00+00:00</td>\n",
       "      <td>62</td>\n",
       "      <td>JARDIM DA PENHA</td>\n",
       "      <td>0</td>\n",
       "      <td>1</td>\n",
       "      <td>0</td>\n",
       "      <td>0</td>\n",
       "      <td>0</td>\n",
       "      <td>0</td>\n",
       "      <td>No</td>\n",
       "    </tr>\n",
       "    <tr>\n",
       "      <th>1</th>\n",
       "      <td>5.589978e+14</td>\n",
       "      <td>5642503</td>\n",
       "      <td>M</td>\n",
       "      <td>2016-04-29 16:08:27+00:00</td>\n",
       "      <td>2016-04-29 00:00:00+00:00</td>\n",
       "      <td>56</td>\n",
       "      <td>JARDIM DA PENHA</td>\n",
       "      <td>0</td>\n",
       "      <td>0</td>\n",
       "      <td>0</td>\n",
       "      <td>0</td>\n",
       "      <td>0</td>\n",
       "      <td>0</td>\n",
       "      <td>No</td>\n",
       "    </tr>\n",
       "    <tr>\n",
       "      <th>2</th>\n",
       "      <td>4.262962e+12</td>\n",
       "      <td>5642549</td>\n",
       "      <td>F</td>\n",
       "      <td>2016-04-29 16:19:04+00:00</td>\n",
       "      <td>2016-04-29 00:00:00+00:00</td>\n",
       "      <td>62</td>\n",
       "      <td>MATA DA PRAIA</td>\n",
       "      <td>0</td>\n",
       "      <td>0</td>\n",
       "      <td>0</td>\n",
       "      <td>0</td>\n",
       "      <td>0</td>\n",
       "      <td>0</td>\n",
       "      <td>No</td>\n",
       "    </tr>\n",
       "    <tr>\n",
       "      <th>3</th>\n",
       "      <td>8.679512e+11</td>\n",
       "      <td>5642828</td>\n",
       "      <td>F</td>\n",
       "      <td>2016-04-29 17:29:31+00:00</td>\n",
       "      <td>2016-04-29 00:00:00+00:00</td>\n",
       "      <td>8</td>\n",
       "      <td>PONTAL DE CAMBURI</td>\n",
       "      <td>0</td>\n",
       "      <td>0</td>\n",
       "      <td>0</td>\n",
       "      <td>0</td>\n",
       "      <td>0</td>\n",
       "      <td>0</td>\n",
       "      <td>No</td>\n",
       "    </tr>\n",
       "    <tr>\n",
       "      <th>4</th>\n",
       "      <td>8.841186e+12</td>\n",
       "      <td>5642494</td>\n",
       "      <td>F</td>\n",
       "      <td>2016-04-29 16:07:23+00:00</td>\n",
       "      <td>2016-04-29 00:00:00+00:00</td>\n",
       "      <td>56</td>\n",
       "      <td>JARDIM DA PENHA</td>\n",
       "      <td>0</td>\n",
       "      <td>1</td>\n",
       "      <td>1</td>\n",
       "      <td>0</td>\n",
       "      <td>0</td>\n",
       "      <td>0</td>\n",
       "      <td>No</td>\n",
       "    </tr>\n",
       "  </tbody>\n",
       "</table>\n",
       "</div>"
      ],
      "text/plain": [
       "      PatientId  AppointmentID Gender              ScheduledDay  \\\n",
       "0  2.987250e+13        5642903      F 2016-04-29 18:38:08+00:00   \n",
       "1  5.589978e+14        5642503      M 2016-04-29 16:08:27+00:00   \n",
       "2  4.262962e+12        5642549      F 2016-04-29 16:19:04+00:00   \n",
       "3  8.679512e+11        5642828      F 2016-04-29 17:29:31+00:00   \n",
       "4  8.841186e+12        5642494      F 2016-04-29 16:07:23+00:00   \n",
       "\n",
       "             AppointmentDay  Age      Neighbourhood  Scholarship  \\\n",
       "0 2016-04-29 00:00:00+00:00   62    JARDIM DA PENHA            0   \n",
       "1 2016-04-29 00:00:00+00:00   56    JARDIM DA PENHA            0   \n",
       "2 2016-04-29 00:00:00+00:00   62      MATA DA PRAIA            0   \n",
       "3 2016-04-29 00:00:00+00:00    8  PONTAL DE CAMBURI            0   \n",
       "4 2016-04-29 00:00:00+00:00   56    JARDIM DA PENHA            0   \n",
       "\n",
       "   Hipertension  Diabetes  Alcoholism  Handcap  SMS_received No-show  \n",
       "0             1         0           0        0             0      No  \n",
       "1             0         0           0        0             0      No  \n",
       "2             0         0           0        0             0      No  \n",
       "3             0         0           0        0             0      No  \n",
       "4             1         1           0        0             0      No  "
      ]
     },
     "execution_count": 173,
     "metadata": {},
     "output_type": "execute_result"
    }
   ],
   "source": [
    "df.head()"
   ]
  },
  {
   "cell_type": "markdown",
   "metadata": {
    "papermill": {
     "duration": 0.051717,
     "end_time": "2021-09-15T15:27:36.271391",
     "exception": false,
     "start_time": "2021-09-15T15:27:36.219674",
     "status": "completed"
    },
    "tags": []
   },
   "source": [
    "2 - Edit \"PatientId\" Column Datatype to be integer:"
   ]
  },
  {
   "cell_type": "code",
   "execution_count": 174,
   "metadata": {
    "execution": {
     "iopub.execute_input": "2021-09-15T15:27:36.376583Z",
     "iopub.status.busy": "2021-09-15T15:27:36.375932Z",
     "iopub.status.idle": "2021-09-15T15:27:36.380842Z",
     "shell.execute_reply": "2021-09-15T15:27:36.380300Z",
     "shell.execute_reply.started": "2021-09-15T15:26:01.359410Z"
    },
    "papermill": {
     "duration": 0.058239,
     "end_time": "2021-09-15T15:27:36.381007",
     "exception": false,
     "start_time": "2021-09-15T15:27:36.322768",
     "status": "completed"
    },
    "tags": []
   },
   "outputs": [],
   "source": [
    "df['PatientId'] = df['PatientId'].astype(int)"
   ]
  },
  {
   "cell_type": "code",
   "execution_count": 175,
   "metadata": {
    "execution": {
     "iopub.execute_input": "2021-09-15T15:27:36.521813Z",
     "iopub.status.busy": "2021-09-15T15:27:36.521146Z",
     "iopub.status.idle": "2021-09-15T15:27:36.535399Z",
     "shell.execute_reply": "2021-09-15T15:27:36.535969Z",
     "shell.execute_reply.started": "2021-09-15T15:26:01.371742Z"
    },
    "papermill": {
     "duration": 0.106396,
     "end_time": "2021-09-15T15:27:36.536155",
     "exception": false,
     "start_time": "2021-09-15T15:27:36.429759",
     "status": "completed"
    },
    "tags": []
   },
   "outputs": [
    {
     "name": "stdout",
     "output_type": "stream",
     "text": [
      "<class 'pandas.core.frame.DataFrame'>\n",
      "RangeIndex: 110527 entries, 0 to 110526\n",
      "Data columns (total 14 columns):\n",
      " #   Column          Non-Null Count   Dtype              \n",
      "---  ------          --------------   -----              \n",
      " 0   PatientId       110527 non-null  int32              \n",
      " 1   AppointmentID   110527 non-null  int64              \n",
      " 2   Gender          110527 non-null  object             \n",
      " 3   ScheduledDay    110527 non-null  datetime64[ns, UTC]\n",
      " 4   AppointmentDay  110527 non-null  datetime64[ns, UTC]\n",
      " 5   Age             110527 non-null  int64              \n",
      " 6   Neighbourhood   110527 non-null  object             \n",
      " 7   Scholarship     110527 non-null  int64              \n",
      " 8   Hipertension    110527 non-null  int64              \n",
      " 9   Diabetes        110527 non-null  int64              \n",
      " 10  Alcoholism      110527 non-null  int64              \n",
      " 11  Handcap         110527 non-null  int64              \n",
      " 12  SMS_received    110527 non-null  int64              \n",
      " 13  No-show         110527 non-null  object             \n",
      "dtypes: datetime64[ns, UTC](2), int32(1), int64(8), object(3)\n",
      "memory usage: 11.4+ MB\n"
     ]
    }
   ],
   "source": [
    "# make sure the datatype changed\n",
    "df.info() "
   ]
  },
  {
   "cell_type": "markdown",
   "metadata": {
    "papermill": {
     "duration": 0.049236,
     "end_time": "2021-09-15T15:27:36.634288",
     "exception": false,
     "start_time": "2021-09-15T15:27:36.585052",
     "status": "completed"
    },
    "tags": []
   },
   "source": [
    "#### let's explore for extreme values"
   ]
  },
  {
   "cell_type": "code",
   "execution_count": 176,
   "metadata": {
    "execution": {
     "iopub.execute_input": "2021-09-15T15:27:36.738375Z",
     "iopub.status.busy": "2021-09-15T15:27:36.737194Z",
     "iopub.status.idle": "2021-09-15T15:27:36.801248Z",
     "shell.execute_reply": "2021-09-15T15:27:36.800660Z",
     "shell.execute_reply.started": "2021-09-15T15:26:01.413820Z"
    },
    "papermill": {
     "duration": 0.117219,
     "end_time": "2021-09-15T15:27:36.801428",
     "exception": false,
     "start_time": "2021-09-15T15:27:36.684209",
     "status": "completed"
    },
    "tags": []
   },
   "outputs": [
    {
     "data": {
      "text/plain": [
       "PatientId                        2141273554\n",
       "AppointmentID                       5790484\n",
       "Gender                                    M\n",
       "ScheduledDay      2016-06-08 20:07:23+00:00\n",
       "AppointmentDay    2016-06-08 00:00:00+00:00\n",
       "Age                                     115\n",
       "Neighbourhood                    VILA RUBIM\n",
       "Scholarship                               1\n",
       "Hipertension                              1\n",
       "Diabetes                                  1\n",
       "Alcoholism                                1\n",
       "Handcap                                   4\n",
       "SMS_received                              1\n",
       "No-show                                 Yes\n",
       "dtype: object"
      ]
     },
     "execution_count": 176,
     "metadata": {},
     "output_type": "execute_result"
    }
   ],
   "source": [
    "df.max()"
   ]
  },
  {
   "cell_type": "code",
   "execution_count": 177,
   "metadata": {
    "execution": {
     "iopub.execute_input": "2021-09-15T15:27:36.904707Z",
     "iopub.status.busy": "2021-09-15T15:27:36.903960Z",
     "iopub.status.idle": "2021-09-15T15:27:36.964342Z",
     "shell.execute_reply": "2021-09-15T15:27:36.964916Z",
     "shell.execute_reply.started": "2021-09-15T15:26:01.470040Z"
    },
    "papermill": {
     "duration": 0.114307,
     "end_time": "2021-09-15T15:27:36.965091",
     "exception": false,
     "start_time": "2021-09-15T15:27:36.850784",
     "status": "completed"
    },
    "tags": []
   },
   "outputs": [
    {
     "data": {
      "text/plain": [
       "PatientId                       -2147483648\n",
       "AppointmentID                       5030230\n",
       "Gender                                    F\n",
       "ScheduledDay      2015-11-10 07:13:56+00:00\n",
       "AppointmentDay    2016-04-29 00:00:00+00:00\n",
       "Age                                      -1\n",
       "Neighbourhood                     AEROPORTO\n",
       "Scholarship                               0\n",
       "Hipertension                              0\n",
       "Diabetes                                  0\n",
       "Alcoholism                                0\n",
       "Handcap                                   0\n",
       "SMS_received                              0\n",
       "No-show                                  No\n",
       "dtype: object"
      ]
     },
     "execution_count": 177,
     "metadata": {},
     "output_type": "execute_result"
    }
   ],
   "source": [
    "df.min()"
   ]
  },
  {
   "cell_type": "markdown",
   "metadata": {
    "papermill": {
     "duration": 0.049696,
     "end_time": "2021-09-15T15:27:37.064476",
     "exception": false,
     "start_time": "2021-09-15T15:27:37.014780",
     "status": "completed"
    },
    "tags": []
   },
   "source": [
    "#### here we found there is a nagative value in age, so let drop it as it's illogical to have an age by negative "
   ]
  },
  {
   "cell_type": "markdown",
   "metadata": {
    "papermill": {
     "duration": 0.0491,
     "end_time": "2021-09-15T15:27:37.164075",
     "exception": false,
     "start_time": "2021-09-15T15:27:37.114975",
     "status": "completed"
    },
    "tags": []
   },
   "source": [
    "3- Remove Row(s) with Negative Age Value(s):"
   ]
  },
  {
   "cell_type": "code",
   "execution_count": 178,
   "metadata": {
    "execution": {
     "iopub.execute_input": "2021-09-15T15:27:37.265885Z",
     "iopub.status.busy": "2021-09-15T15:27:37.265209Z",
     "iopub.status.idle": "2021-09-15T15:27:37.286535Z",
     "shell.execute_reply": "2021-09-15T15:27:37.287065Z",
     "shell.execute_reply.started": "2021-09-15T15:26:01.513229Z"
    },
    "papermill": {
     "duration": 0.074032,
     "end_time": "2021-09-15T15:27:37.287264",
     "exception": false,
     "start_time": "2021-09-15T15:27:37.213232",
     "status": "completed"
    },
    "tags": []
   },
   "outputs": [
    {
     "data": {
      "text/html": [
       "<div>\n",
       "<style scoped>\n",
       "    .dataframe tbody tr th:only-of-type {\n",
       "        vertical-align: middle;\n",
       "    }\n",
       "\n",
       "    .dataframe tbody tr th {\n",
       "        vertical-align: top;\n",
       "    }\n",
       "\n",
       "    .dataframe thead th {\n",
       "        text-align: right;\n",
       "    }\n",
       "</style>\n",
       "<table border=\"1\" class=\"dataframe\">\n",
       "  <thead>\n",
       "    <tr style=\"text-align: right;\">\n",
       "      <th></th>\n",
       "      <th>PatientId</th>\n",
       "      <th>AppointmentID</th>\n",
       "      <th>Gender</th>\n",
       "      <th>ScheduledDay</th>\n",
       "      <th>AppointmentDay</th>\n",
       "      <th>Age</th>\n",
       "      <th>Neighbourhood</th>\n",
       "      <th>Scholarship</th>\n",
       "      <th>Hipertension</th>\n",
       "      <th>Diabetes</th>\n",
       "      <th>Alcoholism</th>\n",
       "      <th>Handcap</th>\n",
       "      <th>SMS_received</th>\n",
       "      <th>No-show</th>\n",
       "    </tr>\n",
       "  </thead>\n",
       "  <tbody>\n",
       "    <tr>\n",
       "      <th>99832</th>\n",
       "      <td>-2147483648</td>\n",
       "      <td>5775010</td>\n",
       "      <td>F</td>\n",
       "      <td>2016-06-06 08:58:13+00:00</td>\n",
       "      <td>2016-06-06 00:00:00+00:00</td>\n",
       "      <td>-1</td>\n",
       "      <td>ROMÃO</td>\n",
       "      <td>0</td>\n",
       "      <td>0</td>\n",
       "      <td>0</td>\n",
       "      <td>0</td>\n",
       "      <td>0</td>\n",
       "      <td>0</td>\n",
       "      <td>No</td>\n",
       "    </tr>\n",
       "  </tbody>\n",
       "</table>\n",
       "</div>"
      ],
      "text/plain": [
       "        PatientId  AppointmentID Gender              ScheduledDay  \\\n",
       "99832 -2147483648        5775010      F 2016-06-06 08:58:13+00:00   \n",
       "\n",
       "                 AppointmentDay  Age Neighbourhood  Scholarship  Hipertension  \\\n",
       "99832 2016-06-06 00:00:00+00:00   -1         ROMÃO            0             0   \n",
       "\n",
       "       Diabetes  Alcoholism  Handcap  SMS_received No-show  \n",
       "99832         0           0        0             0      No  "
      ]
     },
     "execution_count": 178,
     "metadata": {},
     "output_type": "execute_result"
    }
   ],
   "source": [
    "df[df[\"Age\"]<0]"
   ]
  },
  {
   "cell_type": "markdown",
   "metadata": {
    "papermill": {
     "duration": 0.052808,
     "end_time": "2021-09-15T15:27:37.389961",
     "exception": false,
     "start_time": "2021-09-15T15:27:37.337153",
     "status": "completed"
    },
    "tags": []
   },
   "source": [
    "**there is only one row with this problem, so let's drop it** "
   ]
  },
  {
   "cell_type": "code",
   "execution_count": 179,
   "metadata": {
    "execution": {
     "iopub.execute_input": "2021-09-15T15:27:37.493645Z",
     "iopub.status.busy": "2021-09-15T15:27:37.492966Z",
     "iopub.status.idle": "2021-09-15T15:27:37.507959Z",
     "shell.execute_reply": "2021-09-15T15:27:37.508535Z",
     "shell.execute_reply.started": "2021-09-15T15:26:01.536637Z"
    },
    "papermill": {
     "duration": 0.068647,
     "end_time": "2021-09-15T15:27:37.508717",
     "exception": false,
     "start_time": "2021-09-15T15:27:37.440070",
     "status": "completed"
    },
    "tags": []
   },
   "outputs": [],
   "source": [
    "df = df.drop([99832])"
   ]
  },
  {
   "cell_type": "code",
   "execution_count": 180,
   "metadata": {
    "execution": {
     "iopub.execute_input": "2021-09-15T15:27:37.613759Z",
     "iopub.status.busy": "2021-09-15T15:27:37.613058Z",
     "iopub.status.idle": "2021-09-15T15:27:37.624516Z",
     "shell.execute_reply": "2021-09-15T15:27:37.623863Z",
     "shell.execute_reply.started": "2021-09-15T15:26:01.552126Z"
    },
    "papermill": {
     "duration": 0.064564,
     "end_time": "2021-09-15T15:27:37.624656",
     "exception": false,
     "start_time": "2021-09-15T15:27:37.560092",
     "status": "completed"
    },
    "tags": []
   },
   "outputs": [
    {
     "data": {
      "text/html": [
       "<div>\n",
       "<style scoped>\n",
       "    .dataframe tbody tr th:only-of-type {\n",
       "        vertical-align: middle;\n",
       "    }\n",
       "\n",
       "    .dataframe tbody tr th {\n",
       "        vertical-align: top;\n",
       "    }\n",
       "\n",
       "    .dataframe thead th {\n",
       "        text-align: right;\n",
       "    }\n",
       "</style>\n",
       "<table border=\"1\" class=\"dataframe\">\n",
       "  <thead>\n",
       "    <tr style=\"text-align: right;\">\n",
       "      <th></th>\n",
       "      <th>PatientId</th>\n",
       "      <th>AppointmentID</th>\n",
       "      <th>Gender</th>\n",
       "      <th>ScheduledDay</th>\n",
       "      <th>AppointmentDay</th>\n",
       "      <th>Age</th>\n",
       "      <th>Neighbourhood</th>\n",
       "      <th>Scholarship</th>\n",
       "      <th>Hipertension</th>\n",
       "      <th>Diabetes</th>\n",
       "      <th>Alcoholism</th>\n",
       "      <th>Handcap</th>\n",
       "      <th>SMS_received</th>\n",
       "      <th>No-show</th>\n",
       "    </tr>\n",
       "  </thead>\n",
       "  <tbody>\n",
       "  </tbody>\n",
       "</table>\n",
       "</div>"
      ],
      "text/plain": [
       "Empty DataFrame\n",
       "Columns: [PatientId, AppointmentID, Gender, ScheduledDay, AppointmentDay, Age, Neighbourhood, Scholarship, Hipertension, Diabetes, Alcoholism, Handcap, SMS_received, No-show]\n",
       "Index: []"
      ]
     },
     "execution_count": 180,
     "metadata": {},
     "output_type": "execute_result"
    }
   ],
   "source": [
    "# check if the problem still there \n",
    "df[df[\"Age\"]<0]"
   ]
  },
  {
   "cell_type": "markdown",
   "metadata": {
    "papermill": {
     "duration": 0.050371,
     "end_time": "2021-09-15T15:27:37.725427",
     "exception": false,
     "start_time": "2021-09-15T15:27:37.675056",
     "status": "completed"
    },
    "tags": []
   },
   "source": [
    "<a id='eda'></a>\n",
    "## Exploratory Data Analysis\n",
    "\n",
    "\n",
    "(Q1) What is the percentage of patients who show up on their appointements vs. who don't?"
   ]
  },
  {
   "cell_type": "code",
   "execution_count": 181,
   "metadata": {
    "execution": {
     "iopub.execute_input": "2021-09-15T15:27:37.832469Z",
     "iopub.status.busy": "2021-09-15T15:27:37.831825Z",
     "iopub.status.idle": "2021-09-15T15:27:37.859292Z",
     "shell.execute_reply": "2021-09-15T15:27:37.858664Z",
     "shell.execute_reply.started": "2021-09-15T15:26:01.564099Z"
    },
    "papermill": {
     "duration": 0.081897,
     "end_time": "2021-09-15T15:27:37.859437",
     "exception": false,
     "start_time": "2021-09-15T15:27:37.777540",
     "status": "completed"
    },
    "tags": []
   },
   "outputs": [
    {
     "data": {
      "text/plain": [
       "22319"
      ]
     },
     "execution_count": 181,
     "metadata": {},
     "output_type": "execute_result"
    }
   ],
   "source": [
    "number_no_show_up = df[df[\"No-show\"] == 'Yes'][\"PatientId\"].count()\n",
    "number_no_show_up"
   ]
  },
  {
   "cell_type": "code",
   "execution_count": 182,
   "metadata": {
    "execution": {
     "iopub.execute_input": "2021-09-15T15:27:37.985947Z",
     "iopub.status.busy": "2021-09-15T15:27:37.985304Z",
     "iopub.status.idle": "2021-09-15T15:27:37.996959Z",
     "shell.execute_reply": "2021-09-15T15:27:37.997471Z",
     "shell.execute_reply.started": "2021-09-15T15:26:01.589549Z"
    },
    "papermill": {
     "duration": 0.086934,
     "end_time": "2021-09-15T15:27:37.997643",
     "exception": false,
     "start_time": "2021-09-15T15:27:37.910709",
     "status": "completed"
    },
    "tags": []
   },
   "outputs": [
    {
     "data": {
      "text/plain": [
       "88207"
      ]
     },
     "execution_count": 182,
     "metadata": {},
     "output_type": "execute_result"
    }
   ],
   "source": [
    "number_show_up = df[df['No-show'] == 'No']['PatientId'].count()\n",
    "number_show_up"
   ]
  },
  {
   "cell_type": "code",
   "execution_count": 183,
   "metadata": {
    "execution": {
     "iopub.execute_input": "2021-09-15T15:27:38.104930Z",
     "iopub.status.busy": "2021-09-15T15:27:38.104291Z",
     "iopub.status.idle": "2021-09-15T15:27:38.260812Z",
     "shell.execute_reply": "2021-09-15T15:27:38.259802Z",
     "shell.execute_reply.started": "2021-09-15T15:26:01.613742Z"
    },
    "papermill": {
     "duration": 0.211143,
     "end_time": "2021-09-15T15:27:38.260970",
     "exception": false,
     "start_time": "2021-09-15T15:27:38.049827",
     "status": "completed"
    },
    "tags": []
   },
   "outputs": [
    {
     "data": {
      "image/png": "[encoded data removed]",
      "text/plain": [
       "<Figure size 432x288 with 1 Axes>"
      ]
     },
     "metadata": {},
     "output_type": "display_data"
    }
   ],
   "source": [
    "names = ['number_no_show_up', 'number_show_up']\n",
    "results = [22319 , 88207]\n",
    "plt.axis('equal')\n",
    "plt.title(\"a percentage of patients who showed up and who didn't\")\n",
    "plt.pie(results, labels=names, explode=(0.15, 0), radius=1.2, autopct='%0.1f%%', textprops = {\"fontsize\":15});"
   ]
  },
  {
   "cell_type": "markdown",
   "metadata": {
    "papermill": {
     "duration": 0.053655,
     "end_time": "2021-09-15T15:27:38.368341",
     "exception": false,
     "start_time": "2021-09-15T15:27:38.314686",
     "status": "completed"
    },
    "tags": []
   },
   "source": [
    "## This indicate that the patient who shows up to thier appointment is 79.8%\n",
    "## and the patients who didn't who up to thier appointment is 20.2% ."
   ]
  },
  {
   "cell_type": "markdown",
   "metadata": {
    "papermill": {
     "duration": 0.052854,
     "end_time": "2021-09-15T15:27:38.473132",
     "exception": false,
     "start_time": "2021-09-15T15:27:38.420278",
     "status": "completed"
    },
    "tags": []
   },
   "source": [
    "## (Q2)  Does the period between the scheduled day appointment and the actual appointment day is influencing the attendance?"
   ]
  },
  {
   "cell_type": "code",
   "execution_count": 184,
   "metadata": {
    "execution": {
     "iopub.execute_input": "2021-09-15T15:27:38.640360Z",
     "iopub.status.busy": "2021-09-15T15:27:38.639662Z",
     "iopub.status.idle": "2021-09-15T15:27:39.122158Z",
     "shell.execute_reply": "2021-09-15T15:27:39.122701Z",
     "shell.execute_reply.started": "2021-09-15T15:26:01.716544Z"
    },
    "papermill": {
     "duration": 0.597327,
     "end_time": "2021-09-15T15:27:39.122879",
     "exception": false,
     "start_time": "2021-09-15T15:27:38.525552",
     "status": "completed"
    },
    "tags": []
   },
   "outputs": [],
   "source": [
    "# get duration between the two dates \n",
    "df['waiting'] = (df['AppointmentDay'].dt.date) - (df['ScheduledDay'].dt.date)"
   ]
  },
  {
   "cell_type": "code",
   "execution_count": 185,
   "metadata": {
    "execution": {
     "iopub.execute_input": "2021-09-15T15:27:39.235648Z",
     "iopub.status.busy": "2021-09-15T15:27:39.234973Z",
     "iopub.status.idle": "2021-09-15T15:27:39.240688Z",
     "shell.execute_reply": "2021-09-15T15:27:39.241198Z",
     "shell.execute_reply.started": "2021-09-15T15:26:02.025147Z"
    },
    "papermill": {
     "duration": 0.064215,
     "end_time": "2021-09-15T15:27:39.241404",
     "exception": false,
     "start_time": "2021-09-15T15:27:39.177189",
     "status": "completed"
    },
    "tags": []
   },
   "outputs": [],
   "source": [
    "# remove the days text \n",
    "df['waiting'] = df['waiting'].dt.days"
   ]
  },
  {
   "cell_type": "code",
   "execution_count": 186,
   "metadata": {
    "execution": {
     "iopub.execute_input": "2021-09-15T15:27:39.358948Z",
     "iopub.status.busy": "2021-09-15T15:27:39.358234Z",
     "iopub.status.idle": "2021-09-15T15:27:39.369384Z",
     "shell.execute_reply": "2021-09-15T15:27:39.368865Z",
     "shell.execute_reply.started": "2021-09-15T15:26:02.032680Z"
    },
    "papermill": {
     "duration": 0.075361,
     "end_time": "2021-09-15T15:27:39.369529",
     "exception": false,
     "start_time": "2021-09-15T15:27:39.294168",
     "status": "completed"
    },
    "tags": []
   },
   "outputs": [
    {
     "data": {
      "text/plain": [
       "No-show\n",
       "No      8.754759\n",
       "Yes    15.831489\n",
       "Name: waiting, dtype: float64"
      ]
     },
     "execution_count": 186,
     "metadata": {},
     "output_type": "execute_result"
    }
   ],
   "source": [
    "# get the average of both patients who did show up and who didn't \n",
    "waitTime = df.groupby('No-show')['waiting'].mean()\n",
    "waitTime"
   ]
  },
  {
   "cell_type": "code",
   "execution_count": 187,
   "metadata": {
    "execution": {
     "iopub.execute_input": "2021-09-15T15:27:39.510138Z",
     "iopub.status.busy": "2021-09-15T15:27:39.481084Z",
     "iopub.status.idle": "2021-09-15T15:27:39.683293Z",
     "shell.execute_reply": "2021-09-15T15:27:39.683910Z",
     "shell.execute_reply.started": "2021-09-15T15:26:02.055311Z"
    },
    "papermill": {
     "duration": 0.261468,
     "end_time": "2021-09-15T15:27:39.684121",
     "exception": false,
     "start_time": "2021-09-15T15:27:39.422653",
     "status": "completed"
    },
    "tags": []
   },
   "outputs": [
    {
     "data": {
      "image/png": "[encoded data removed]",
      "text/plain": [
       "<Figure size 432x288 with 1 Axes>"
      ]
     },
     "metadata": {
      "needs_background": "light"
     },
     "output_type": "display_data"
    }
   ],
   "source": [
    "plt.bar(waitTime.index, waitTime.values)\n",
    "plt.title(\"waitTime and it's effect on patients showing up\")\n",
    "plt.xlabel('waitTime index')\n",
    "plt.ylabel('waitTime values');"
   ]
  },
  {
   "cell_type": "markdown",
   "metadata": {
    "papermill": {
     "duration": 0.05507,
     "end_time": "2021-09-15T15:27:39.793753",
     "exception": false,
     "start_time": "2021-09-15T15:27:39.738683",
     "status": "completed"
    },
    "tags": []
   },
   "source": [
    "##### this indcate that patients who attend have a less waiting time than patients who don’t\n",
    "##### patients whom didn't show up have an average of 15 days of waiting before the appointment \n",
    "##### patients whom did show up have an average of 8 days of waiting before the appointment \n"
   ]
  },
  {
   "cell_type": "markdown",
   "metadata": {
    "papermill": {
     "duration": 0.053396,
     "end_time": "2021-09-15T15:27:39.900177",
     "exception": false,
     "start_time": "2021-09-15T15:27:39.846781",
     "status": "completed"
    },
    "tags": []
   },
   "source": [
    "### (Q3) where is the most appointment take place ?"
   ]
  },
  {
   "cell_type": "code",
   "execution_count": 188,
   "metadata": {
    "execution": {
     "iopub.execute_input": "2021-09-15T15:27:40.015331Z",
     "iopub.status.busy": "2021-09-15T15:27:40.014378Z",
     "iopub.status.idle": "2021-09-15T15:27:40.035897Z",
     "shell.execute_reply": "2021-09-15T15:27:40.036368Z",
     "shell.execute_reply.started": "2021-09-15T15:26:02.237927Z"
    },
    "papermill": {
     "duration": 0.078959,
     "end_time": "2021-09-15T15:27:40.036544",
     "exception": false,
     "start_time": "2021-09-15T15:27:39.957585",
     "status": "completed"
    },
    "tags": []
   },
   "outputs": [
    {
     "data": {
      "text/plain": [
       "'JARDIM CAMBURI'"
      ]
     },
     "execution_count": 188,
     "metadata": {},
     "output_type": "execute_result"
    }
   ],
   "source": [
    "df['Neighbourhood'].mode()[0]"
   ]
  },
  {
   "cell_type": "markdown",
   "metadata": {
    "papermill": {
     "duration": 0.054878,
     "end_time": "2021-09-15T15:27:40.145000",
     "exception": false,
     "start_time": "2021-09-15T15:27:40.090122",
     "status": "completed"
    },
    "tags": []
   },
   "source": [
    "##### here it shows us that most appointment has been in **JARDIM CAMBURI** Neighbourhood"
   ]
  },
  {
   "cell_type": "markdown",
   "metadata": {
    "papermill": {
     "duration": 0.052927,
     "end_time": "2021-09-15T15:27:40.252317",
     "exception": false,
     "start_time": "2021-09-15T15:27:40.199390",
     "status": "completed"
    },
    "tags": []
   },
   "source": [
    "### (Q4) Does Hipertension effects the patients showing up  ?"
   ]
  },
  {
   "cell_type": "code",
   "execution_count": 189,
   "metadata": {
    "execution": {
     "iopub.execute_input": "2021-09-15T15:27:40.364276Z",
     "iopub.status.busy": "2021-09-15T15:27:40.363292Z",
     "iopub.status.idle": "2021-09-15T15:27:40.388974Z",
     "shell.execute_reply": "2021-09-15T15:27:40.388448Z",
     "shell.execute_reply.started": "2021-09-15T15:26:02.253331Z"
    },
    "papermill": {
     "duration": 0.08188,
     "end_time": "2021-09-15T15:27:40.389112",
     "exception": false,
     "start_time": "2021-09-15T15:27:40.307232",
     "status": "completed"
    },
    "tags": []
   },
   "outputs": [
    {
     "data": {
      "text/html": [
       "<div>\n",
       "<style scoped>\n",
       "    .dataframe tbody tr th:only-of-type {\n",
       "        vertical-align: middle;\n",
       "    }\n",
       "\n",
       "    .dataframe tbody tr th {\n",
       "        vertical-align: top;\n",
       "    }\n",
       "\n",
       "    .dataframe thead th {\n",
       "        text-align: right;\n",
       "    }\n",
       "</style>\n",
       "<table border=\"1\" class=\"dataframe\">\n",
       "  <thead>\n",
       "    <tr style=\"text-align: right;\">\n",
       "      <th></th>\n",
       "      <th>No-show</th>\n",
       "      <th>Hipertension</th>\n",
       "      <th>size</th>\n",
       "    </tr>\n",
       "  </thead>\n",
       "  <tbody>\n",
       "    <tr>\n",
       "      <th>0</th>\n",
       "      <td>No</td>\n",
       "      <td>0</td>\n",
       "      <td>70178</td>\n",
       "    </tr>\n",
       "    <tr>\n",
       "      <th>1</th>\n",
       "      <td>No</td>\n",
       "      <td>1</td>\n",
       "      <td>18029</td>\n",
       "    </tr>\n",
       "    <tr>\n",
       "      <th>2</th>\n",
       "      <td>Yes</td>\n",
       "      <td>0</td>\n",
       "      <td>18547</td>\n",
       "    </tr>\n",
       "    <tr>\n",
       "      <th>3</th>\n",
       "      <td>Yes</td>\n",
       "      <td>1</td>\n",
       "      <td>3772</td>\n",
       "    </tr>\n",
       "  </tbody>\n",
       "</table>\n",
       "</div>"
      ],
      "text/plain": [
       "  No-show  Hipertension   size\n",
       "0      No             0  70178\n",
       "1      No             1  18029\n",
       "2     Yes             0  18547\n",
       "3     Yes             1   3772"
      ]
     },
     "execution_count": 189,
     "metadata": {},
     "output_type": "execute_result"
    }
   ],
   "source": [
    "Hipertension_effect = df.groupby(['No-show','Hipertension'], as_index=False).size()\n",
    "Hipertension_effect"
   ]
  },
  {
   "cell_type": "code",
   "execution_count": 190,
   "metadata": {
    "execution": {
     "iopub.execute_input": "2021-09-15T15:27:40.511836Z",
     "iopub.status.busy": "2021-09-15T15:27:40.501792Z",
     "iopub.status.idle": "2021-09-15T15:27:40.522418Z",
     "shell.execute_reply": "2021-09-15T15:27:40.522957Z",
     "shell.execute_reply.started": "2021-09-15T15:26:02.285268Z"
    },
    "papermill": {
     "duration": 0.078506,
     "end_time": "2021-09-15T15:27:40.523131",
     "exception": false,
     "start_time": "2021-09-15T15:27:40.444625",
     "status": "completed"
    },
    "tags": []
   },
   "outputs": [
    {
     "data": {
      "text/plain": [
       "No-show\n",
       "No     0.204394\n",
       "Yes    0.169004\n",
       "Name: Hipertension, dtype: float64"
      ]
     },
     "execution_count": 190,
     "metadata": {},
     "output_type": "execute_result"
    }
   ],
   "source": [
    "# let's get the mean of patients that have Hipertension for who attended and whom are not \n",
    "# no == they actully attended \n",
    "# yes == they they didn't attend\n",
    "\n",
    "df.groupby('No-show')['Hipertension'].mean()"
   ]
  },
  {
   "cell_type": "code",
   "execution_count": 191,
   "metadata": {
    "execution": {
     "iopub.execute_input": "2021-09-15T15:27:40.647842Z",
     "iopub.status.busy": "2021-09-15T15:27:40.647141Z",
     "iopub.status.idle": "2021-09-15T15:27:40.857487Z",
     "shell.execute_reply": "2021-09-15T15:27:40.856801Z",
     "shell.execute_reply.started": "2021-09-15T15:26:02.304799Z"
    },
    "papermill": {
     "duration": 0.279725,
     "end_time": "2021-09-15T15:27:40.857631",
     "exception": false,
     "start_time": "2021-09-15T15:27:40.577906",
     "status": "completed"
    },
    "tags": []
   },
   "outputs": [
    {
     "data": {
      "image/png": "[encoded data removed]",
      "text/plain": [
       "<Figure size 432x288 with 1 Axes>"
      ]
     },
     "metadata": {
      "needs_background": "light"
     },
     "output_type": "display_data"
    }
   ],
   "source": [
    "hiper_labels = [\"show-up\", \"didn't show up\"]\n",
    "means_data = [0.204394 , 0.169004]\n",
    "plt.bar(hiper_labels , means_data)\n",
    "plt.title('the relationship between Hipertension and showing up')\n",
    "plt.xlabel('Hipertension showing up labels')\n",
    "plt.ylabel('Hipertension means');"
   ]
  },
  {
   "cell_type": "markdown",
   "metadata": {
    "papermill": {
     "duration": 0.055879,
     "end_time": "2021-09-15T15:27:40.969394",
     "exception": false,
     "start_time": "2021-09-15T15:27:40.913515",
     "status": "completed"
    },
    "tags": []
   },
   "source": [
    "#### This indicate that Hipertension doesn't have a direct effect on patients show up or not as it marely made a difference between both cases"
   ]
  },
  {
   "cell_type": "markdown",
   "metadata": {
    "papermill": {
     "duration": 0.056981,
     "end_time": "2021-09-15T15:27:41.083930",
     "exception": false,
     "start_time": "2021-09-15T15:27:41.026949",
     "status": "completed"
    },
    "tags": []
   },
   "source": [
    "### (Q5) Who is more committed to medical schedules older patients or younger ones ?"
   ]
  },
  {
   "cell_type": "code",
   "execution_count": 192,
   "metadata": {
    "execution": {
     "iopub.execute_input": "2021-09-15T15:27:41.206804Z",
     "iopub.status.busy": "2021-09-15T15:27:41.205811Z",
     "iopub.status.idle": "2021-09-15T15:27:41.214580Z",
     "shell.execute_reply": "2021-09-15T15:27:41.213987Z",
     "shell.execute_reply.started": "2021-09-15T15:26:02.456811Z"
    },
    "papermill": {
     "duration": 0.074896,
     "end_time": "2021-09-15T15:27:41.214748",
     "exception": false,
     "start_time": "2021-09-15T15:27:41.139852",
     "status": "completed"
    },
    "tags": []
   },
   "outputs": [],
   "source": [
    "# let's first categorize ages:\n",
    "bins = [0,5,15,20,50,120]\n",
    "labels = ['child', 'kid', 'teen', 'adult', 'elderly']\n",
    "df['age_segmentation'] = pd.cut(df['Age'], bins=bins, labels=labels, right=False)\n"
   ]
  },
  {
   "cell_type": "code",
   "execution_count": 193,
   "metadata": {
    "execution": {
     "iopub.execute_input": "2021-09-15T15:27:41.335496Z",
     "iopub.status.busy": "2021-09-15T15:27:41.334551Z",
     "iopub.status.idle": "2021-09-15T15:27:41.361596Z",
     "shell.execute_reply": "2021-09-15T15:27:41.362127Z",
     "shell.execute_reply.started": "2021-09-15T15:26:02.469680Z"
    },
    "papermill": {
     "duration": 0.09058,
     "end_time": "2021-09-15T15:27:41.362326",
     "exception": false,
     "start_time": "2021-09-15T15:27:41.271746",
     "status": "completed"
    },
    "scrolled": true,
    "tags": []
   },
   "outputs": [
    {
     "data": {
      "text/plain": [
       "age_segmentation  No-show\n",
       "child             No          8377\n",
       "                  Yes         1865\n",
       "kid               No          9954\n",
       "                  Yes         3061\n",
       "teen              No          5339\n",
       "                  Yes         1815\n",
       "adult             No         33519\n",
       "                  Yes         9560\n",
       "elderly           No         31018\n",
       "                  Yes         6018\n",
       "Name: No-show, dtype: int64"
      ]
     },
     "execution_count": 193,
     "metadata": {},
     "output_type": "execute_result"
    }
   ],
   "source": [
    "# let's calculate mean for each category \n",
    "df.groupby('age_segmentation')['No-show'].value_counts()"
   ]
  },
  {
   "cell_type": "code",
   "execution_count": 194,
   "metadata": {
    "execution": {
     "iopub.execute_input": "2021-09-15T15:27:41.494070Z",
     "iopub.status.busy": "2021-09-15T15:27:41.491401Z",
     "iopub.status.idle": "2021-09-15T15:27:41.796195Z",
     "shell.execute_reply": "2021-09-15T15:27:41.795547Z",
     "shell.execute_reply.started": "2021-09-15T15:26:02.498462Z"
    },
    "papermill": {
     "duration": 0.378378,
     "end_time": "2021-09-15T15:27:41.796353",
     "exception": false,
     "start_time": "2021-09-15T15:27:41.417975",
     "status": "completed"
    },
    "tags": []
   },
   "outputs": [
    {
     "data": {
      "image/png": "[encoded data removed]",
      "text/plain": [
       "<Figure size 1080x720 with 1 Axes>"
      ]
     },
     "metadata": {
      "needs_background": "light"
     },
     "output_type": "display_data"
    }
   ],
   "source": [
    "labels = [\"child & No\",\"child & Yes\",\"kid & No\", \"kid & Yes\", \"teen & No\", \"teen & Yes\", \"adult & No\", \"adult & Yes\", \"elderly & No\", \"elderly & Yes\"]\n",
    "data = [8377, 1865, 9954, 3061, 5339, 1815, 33519, 9560, 31018, 6018]\n",
    "plt.figure(figsize=(15,10)) \n",
    "plt.bar(x=labels, height=data)\n",
    "plt.title('relationship between the age of patients and their commitment to show up')\n",
    "plt.ylabel(\"value counts of patients of showed up and who didn't\")\n",
    "plt.xlabel(\"segamantion of ages between patient who showed up and who didn't\");"
   ]
  },
  {
   "cell_type": "markdown",
   "metadata": {
    "papermill": {
     "duration": 0.060951,
     "end_time": "2021-09-15T15:27:41.916009",
     "exception": false,
     "start_time": "2021-09-15T15:27:41.855058",
     "status": "completed"
    },
    "tags": []
   },
   "source": [
    "# the above analysis indicate that older patients are more committed to showing up than younger patients \n",
    "# as the differance between showing up or not for elders and adults are higher than the younger ones \n",
    "# the graph shows us significant increase in showing up for older patients "
   ]
  },
  {
   "cell_type": "markdown",
   "metadata": {
    "papermill": {
     "duration": 0.0581,
     "end_time": "2021-09-15T15:27:42.593753",
     "exception": false,
     "start_time": "2021-09-15T15:27:42.535653",
     "status": "completed"
    },
    "tags": []
   },
   "source": [
    "### alcohol doesn't make patients miss their appointments cuase most of them had shown up  "
   ]
  },
  {
   "cell_type": "markdown",
   "metadata": {
    "papermill": {
     "duration": 0.083574,
     "end_time": "2021-09-15T15:27:43.055612",
     "exception": false,
     "start_time": "2021-09-15T15:27:42.972038",
     "status": "completed"
    },
    "tags": []
   },
   "source": [
    "## as shown in the above table the handicap does signfically effect showing up for the patients becuase everytime it increase by one\n",
    "## the showing up of patients decreases \n"
   ]
  },
  {
   "cell_type": "code",
   "execution_count": 198,
   "metadata": {},
   "outputs": [],
   "source": [
    "from sklearn.model_selection import train_test_split\n",
    "from sklearn.neighbors import KNeighborsClassifier\n",
    "from sklearn.metrics import confusion_matrix\n",
    "from sklearn.metrics import precision_score\n",
    "from sklearn.metrics import recall_score\n",
    "from sklearn.metrics import f1_score"
   ]
  },
  {
   "cell_type": "markdown",
   "metadata": {},
   "source": [
    "#### Import necessary libraries"
   ]
  },
  {
   "cell_type": "code",
   "execution_count": 199,
   "metadata": {},
   "outputs": [],
   "source": [
    "from sklearn.model_selection import train_test_split, GridSearchCV\n",
    "from sklearn.preprocessing import LabelEncoder\n",
    "\n",
    "# ML Algorithms imports\n",
    "from sklearn.linear_model import LogisticRegression\n",
    "from sklearn.neighbors import KNeighborsClassifier\n",
    "from sklearn.ensemble import RandomForestClassifier\n",
    "\n",
    "# imports for evaluation\n",
    "from sklearn.metrics import classification_report, confusion_matrix"
   ]
  },
  {
   "cell_type": "code",
   "execution_count": 200,
   "metadata": {},
   "outputs": [],
   "source": [
    "# zero_one function to convert a column with 2 values to zeros and ones\n",
    "def zero_one(data, column):\n",
    "    \"\"\"\n",
    "    This function turns a dataframe's column with 2 values into zeros and ones.\n",
    "    \n",
    "    Key Arguments:\n",
    "    data   -- a Dataframe \n",
    "    column -- column name dtype(string) \n",
    "    \"\"\"\n",
    "    data[column].replace({data[column].unique()[0]:0, data[column].unique()[1]:1}, inplace=True)\n",
    "    # Changing NoShow and Gender values to zeros and ones \n",
    "zero_one(df, 'No-show')\n",
    "zero_one(df, 'Gender')"
   ]
  },
  {
   "cell_type": "markdown",
   "metadata": {},
   "source": [
    "# Dropping unnecessary columns"
   ]
  },
  {
   "cell_type": "code",
   "execution_count": 201,
   "metadata": {},
   "outputs": [
    {
     "data": {
      "text/html": [
       "<div>\n",
       "<style scoped>\n",
       "    .dataframe tbody tr th:only-of-type {\n",
       "        vertical-align: middle;\n",
       "    }\n",
       "\n",
       "    .dataframe tbody tr th {\n",
       "        vertical-align: top;\n",
       "    }\n",
       "\n",
       "    .dataframe thead th {\n",
       "        text-align: right;\n",
       "    }\n",
       "</style>\n",
       "<table border=\"1\" class=\"dataframe\">\n",
       "  <thead>\n",
       "    <tr style=\"text-align: right;\">\n",
       "      <th></th>\n",
       "      <th>Gender</th>\n",
       "      <th>Age</th>\n",
       "      <th>Neighbourhood</th>\n",
       "      <th>Scholarship</th>\n",
       "      <th>Hipertension</th>\n",
       "      <th>Diabetes</th>\n",
       "      <th>Alcoholism</th>\n",
       "      <th>Handcap</th>\n",
       "      <th>SMS_received</th>\n",
       "      <th>No-show</th>\n",
       "      <th>waiting</th>\n",
       "    </tr>\n",
       "  </thead>\n",
       "  <tbody>\n",
       "    <tr>\n",
       "      <th>0</th>\n",
       "      <td>0</td>\n",
       "      <td>62</td>\n",
       "      <td>JARDIM DA PENHA</td>\n",
       "      <td>0</td>\n",
       "      <td>1</td>\n",
       "      <td>0</td>\n",
       "      <td>0</td>\n",
       "      <td>0</td>\n",
       "      <td>0</td>\n",
       "      <td>0</td>\n",
       "      <td>0</td>\n",
       "    </tr>\n",
       "    <tr>\n",
       "      <th>1</th>\n",
       "      <td>1</td>\n",
       "      <td>56</td>\n",
       "      <td>JARDIM DA PENHA</td>\n",
       "      <td>0</td>\n",
       "      <td>0</td>\n",
       "      <td>0</td>\n",
       "      <td>0</td>\n",
       "      <td>0</td>\n",
       "      <td>0</td>\n",
       "      <td>0</td>\n",
       "      <td>0</td>\n",
       "    </tr>\n",
       "    <tr>\n",
       "      <th>2</th>\n",
       "      <td>0</td>\n",
       "      <td>62</td>\n",
       "      <td>MATA DA PRAIA</td>\n",
       "      <td>0</td>\n",
       "      <td>0</td>\n",
       "      <td>0</td>\n",
       "      <td>0</td>\n",
       "      <td>0</td>\n",
       "      <td>0</td>\n",
       "      <td>0</td>\n",
       "      <td>0</td>\n",
       "    </tr>\n",
       "    <tr>\n",
       "      <th>3</th>\n",
       "      <td>0</td>\n",
       "      <td>8</td>\n",
       "      <td>PONTAL DE CAMBURI</td>\n",
       "      <td>0</td>\n",
       "      <td>0</td>\n",
       "      <td>0</td>\n",
       "      <td>0</td>\n",
       "      <td>0</td>\n",
       "      <td>0</td>\n",
       "      <td>0</td>\n",
       "      <td>0</td>\n",
       "    </tr>\n",
       "    <tr>\n",
       "      <th>4</th>\n",
       "      <td>0</td>\n",
       "      <td>56</td>\n",
       "      <td>JARDIM DA PENHA</td>\n",
       "      <td>0</td>\n",
       "      <td>1</td>\n",
       "      <td>1</td>\n",
       "      <td>0</td>\n",
       "      <td>0</td>\n",
       "      <td>0</td>\n",
       "      <td>0</td>\n",
       "      <td>0</td>\n",
       "    </tr>\n",
       "  </tbody>\n",
       "</table>\n",
       "</div>"
      ],
      "text/plain": [
       "   Gender  Age      Neighbourhood  Scholarship  Hipertension  Diabetes  \\\n",
       "0       0   62    JARDIM DA PENHA            0             1         0   \n",
       "1       1   56    JARDIM DA PENHA            0             0         0   \n",
       "2       0   62      MATA DA PRAIA            0             0         0   \n",
       "3       0    8  PONTAL DE CAMBURI            0             0         0   \n",
       "4       0   56    JARDIM DA PENHA            0             1         1   \n",
       "\n",
       "   Alcoholism  Handcap  SMS_received  No-show  waiting  \n",
       "0           0        0             0        0        0  \n",
       "1           0        0             0        0        0  \n",
       "2           0        0             0        0        0  \n",
       "3           0        0             0        0        0  \n",
       "4           0        0             0        0        0  "
      ]
     },
     "execution_count": 201,
     "metadata": {},
     "output_type": "execute_result"
    }
   ],
   "source": [
    "df.drop(['AppointmentDay', 'ScheduledDay', 'PatientId', 'AppointmentID','age_segmentation'], axis = 1, inplace =True)\n",
    "df.head()"
   ]
  },
  {
   "cell_type": "markdown",
   "metadata": {},
   "source": [
    "# Dropping biased neighbourhood for having no sufficient number of patients data."
   ]
  },
  {
   "cell_type": "code",
   "execution_count": 202,
   "metadata": {},
   "outputs": [
    {
     "data": {
      "text/plain": [
       "79"
      ]
     },
     "execution_count": 202,
     "metadata": {},
     "output_type": "execute_result"
    }
   ],
   "source": [
    "df = df[(df.Neighbourhood !='ILHAS OCEÂNICAS DE TRINDADE') & (df.Neighbourhood !='PARQUE INDUSTRIAL')]\n",
    "df.Neighbourhood.nunique()"
   ]
  },
  {
   "cell_type": "code",
   "execution_count": 203,
   "metadata": {},
   "outputs": [
    {
     "data": {
      "text/html": [
       "<div>\n",
       "<style scoped>\n",
       "    .dataframe tbody tr th:only-of-type {\n",
       "        vertical-align: middle;\n",
       "    }\n",
       "\n",
       "    .dataframe tbody tr th {\n",
       "        vertical-align: top;\n",
       "    }\n",
       "\n",
       "    .dataframe thead th {\n",
       "        text-align: right;\n",
       "    }\n",
       "</style>\n",
       "<table border=\"1\" class=\"dataframe\">\n",
       "  <thead>\n",
       "    <tr style=\"text-align: right;\">\n",
       "      <th></th>\n",
       "      <th>Gender</th>\n",
       "      <th>Age</th>\n",
       "      <th>Neighbourhood</th>\n",
       "      <th>Scholarship</th>\n",
       "      <th>Hipertension</th>\n",
       "      <th>Diabetes</th>\n",
       "      <th>Alcoholism</th>\n",
       "      <th>Handcap</th>\n",
       "      <th>SMS_received</th>\n",
       "      <th>No-show</th>\n",
       "      <th>waiting</th>\n",
       "    </tr>\n",
       "  </thead>\n",
       "  <tbody>\n",
       "    <tr>\n",
       "      <th>18120</th>\n",
       "      <td>0</td>\n",
       "      <td>0</td>\n",
       "      <td>40</td>\n",
       "      <td>0</td>\n",
       "      <td>0</td>\n",
       "      <td>0</td>\n",
       "      <td>0</td>\n",
       "      <td>0</td>\n",
       "      <td>0</td>\n",
       "      <td>0</td>\n",
       "      <td>0</td>\n",
       "    </tr>\n",
       "  </tbody>\n",
       "</table>\n",
       "</div>"
      ],
      "text/plain": [
       "       Gender  Age  Neighbourhood  Scholarship  Hipertension  Diabetes  \\\n",
       "18120       0    0             40            0             0         0   \n",
       "\n",
       "       Alcoholism  Handcap  SMS_received  No-show  waiting  \n",
       "18120           0        0             0        0        0  "
      ]
     },
     "execution_count": 203,
     "metadata": {},
     "output_type": "execute_result"
    }
   ],
   "source": [
    "label_encoder = LabelEncoder()\n",
    "df['Neighbourhood'] = label_encoder.fit_transform(df['Neighbourhood'])\n",
    "df.sample()"
   ]
  },
  {
   "cell_type": "code",
   "execution_count": 204,
   "metadata": {},
   "outputs": [],
   "source": [
    "X = df.drop('No-show', axis =1)\n",
    "y = df['No-show']"
   ]
  },
  {
   "cell_type": "code",
   "execution_count": 205,
   "metadata": {},
   "outputs": [],
   "source": [
    "# data train test split \n",
    "X_train, X_test, y_train, y_test = train_test_split(X, y, test_size=0.30, random_state=26)"
   ]
  },
  {
   "cell_type": "markdown",
   "metadata": {},
   "source": [
    "##                         Building models"
   ]
  },
  {
   "cell_type": "markdown",
   "metadata": {},
   "source": [
    "Defining a function to fit, predict and evaluate each model."
   ]
  },
  {
   "cell_type": "code",
   "execution_count": 206,
   "metadata": {},
   "outputs": [],
   "source": [
    "# fitting and evaluating function\n",
    "def fit_evaluate(cl, parameters):\n",
    "    \"\"\"\n",
    "    this functions takes a classifier and its parameters to fit \n",
    "    a gridsearch, predict target values and evaluate the model\n",
    "    \n",
    "    Key Arguments:\n",
    "    cl         -- classifier instantiation \n",
    "    parameters -- classifier parameters\n",
    "    \"\"\"\n",
    "    \n",
    "    # instantiate grid search with specified parameters\n",
    "    cv = GridSearchCV(cl, parameters, n_jobs=-1)\n",
    "    \n",
    "    # Fit to the training set\n",
    "    cv.fit(X_train, y_train)\n",
    "\n",
    "    # Predict the labels of the test set: y_pred\n",
    "    y_pred = cv.predict(X_test)\n",
    "\n",
    "    # Compute and print metrics\n",
    "    print(\"Accuracy: {} \".format(cv.score(X_test, y_test)))\n",
    "    print('-' * 60)\n",
    "    print('confusion matrix:\\n{}'.format(confusion_matrix(y_test, y_pred, labels=y.unique())))\n",
    "    print('-' * 60)\n",
    "    print('classification report:\\n\\n{}'.format(classification_report(y_test, y_pred)))\n",
    "    print('-' * 60)\n",
    "    print(\"Tuned Model Parameters: {}\".format(cv.best_params_))"
   ]
  },
  {
   "cell_type": "markdown",
   "metadata": {},
   "source": [
    "## Logistic regression classifier"
   ]
  },
  {
   "cell_type": "code",
   "execution_count": 207,
   "metadata": {},
   "outputs": [
    {
     "name": "stdout",
     "output_type": "stream",
     "text": [
      "Accuracy: 0.797056428506801 \n",
      "------------------------------------------------------------\n",
      "confusion matrix:\n",
      "[[26319   222]\n",
      " [ 6507   109]]\n",
      "------------------------------------------------------------\n",
      "classification report:\n",
      "\n",
      "              precision    recall  f1-score   support\n",
      "\n",
      "           0       0.80      0.99      0.89     26541\n",
      "           1       0.33      0.02      0.03      6616\n",
      "\n",
      "    accuracy                           0.80     33157\n",
      "   macro avg       0.57      0.50      0.46     33157\n",
      "weighted avg       0.71      0.80      0.72     33157\n",
      "\n",
      "------------------------------------------------------------\n",
      "Tuned Model Parameters: {'penalty': 'l2', 'tol': 0.0003}\n"
     ]
    }
   ],
   "source": [
    "# instantiate classifier\n",
    "cl1 = LogisticRegression(n_jobs =-1)\n",
    "\n",
    "# instantiate grid search with specified parameters\n",
    "parameters1 = {'penalty' : ['l2','none'], 'tol':[0.0003,0.001]}\n",
    "\n",
    "# fit, predict and evaluate\n",
    "fit_evaluate(cl1, parameters1)"
   ]
  },
  {
   "cell_type": "markdown",
   "metadata": {},
   "source": [
    "## Random Forest Classifier"
   ]
  },
  {
   "cell_type": "code",
   "execution_count": 208,
   "metadata": {},
   "outputs": [
    {
     "name": "stdout",
     "output_type": "stream",
     "text": [
      "Accuracy: 0.792803932804536 \n",
      "------------------------------------------------------------\n",
      "confusion matrix:\n",
      "[[25403  1138]\n",
      " [ 5732   884]]\n",
      "------------------------------------------------------------\n",
      "classification report:\n",
      "\n",
      "              precision    recall  f1-score   support\n",
      "\n",
      "           0       0.82      0.96      0.88     26541\n",
      "           1       0.44      0.13      0.20      6616\n",
      "\n",
      "    accuracy                           0.79     33157\n",
      "   macro avg       0.63      0.55      0.54     33157\n",
      "weighted avg       0.74      0.79      0.75     33157\n",
      "\n",
      "------------------------------------------------------------\n",
      "Tuned Model Parameters: {'min_samples_split': 9, 'n_estimators': 120}\n"
     ]
    }
   ],
   "source": [
    "# instantiate classifier\n",
    "cl2 = RandomForestClassifier(random_state=26, n_jobs = -1)\n",
    "\n",
    "# instantiate grid search with specified parameters\n",
    "parameters2 ={'n_estimators':[100,120],'min_samples_split':[5,7,9]}\n",
    "\n",
    "# fit, predict and evaluate\n",
    "fit_evaluate(cl2, parameters2)"
   ]
  },
  {
   "cell_type": "markdown",
   "metadata": {},
   "source": [
    "## K-Nearest Neighbors Classifier"
   ]
  },
  {
   "cell_type": "code",
   "execution_count": 210,
   "metadata": {},
   "outputs": [
    {
     "name": "stdout",
     "output_type": "stream",
     "text": [
      "Accuracy: 0.7906022860934343 \n",
      "------------------------------------------------------------\n",
      "confusion matrix:\n",
      "[[25493  1048]\n",
      " [ 5895   721]]\n",
      "------------------------------------------------------------\n",
      "classification report:\n",
      "\n",
      "              precision    recall  f1-score   support\n",
      "\n",
      "           0       0.81      0.96      0.88     26541\n",
      "           1       0.41      0.11      0.17      6616\n",
      "\n",
      "    accuracy                           0.79     33157\n",
      "   macro avg       0.61      0.53      0.53     33157\n",
      "weighted avg       0.73      0.79      0.74     33157\n",
      "\n",
      "------------------------------------------------------------\n",
      "Tuned Model Parameters: {'n_neighbors': 6}\n"
     ]
    }
   ],
   "source": [
    "# instantiate classifier\n",
    "cl3 = KNeighborsClassifier(n_jobs=-1)\n",
    "\n",
    "# instantiate grid search with specified parameters\n",
    "parameters3 = {'n_neighbors':[4,5,6,7]}\n",
    "\n",
    "# fit, predict and evaluate\n",
    "fit_evaluate(cl3, parameters3)"
   ]
  },
  {
   "cell_type": "markdown",
   "metadata": {
    "papermill": {
     "duration": 0.058607,
     "end_time": "2021-09-15T15:27:43.177804",
     "exception": false,
     "start_time": "2021-09-15T15:27:43.119197",
     "status": "completed"
    },
    "tags": []
   },
   "source": [
    "<a id='conclusions'></a>\n",
    "## Conclusions\n",
    "Percentage of patients who show up on their appointments represents 79.8%\n",
    "\n",
    "Percentage of patients who Don't show up on their appointments represents 20.2%\n",
    "\n",
    "Patients who attend have a less waiting time than patients who don’t\n",
    "\n",
    "Patients whom didn't show up have an average of 15 days of waiting before the appointment\n",
    "\n",
    "Patients whom did show up have an average of 8 days of waiting before the appointment\n",
    "\n",
    "Most appointment has been in JARDIM CAMBURI Neighbourhood\n",
    "\n",
    "Hypertension doesn't have a direct effect on patients show up or not as it marely made a difference between both cases\n",
    "\n",
    "Older patients are more committed to showing up than younger patients "
   ]
  },
  {
   "cell_type": "markdown",
   "metadata": {},
   "source": [
    "## This is my Graduation project, i use this dataset to work on my graduation project. I should've used a dataset from Sierra Leone, but unfortunately, i didn't find any, to work on this type of project.\n",
    "## I will produce it, as soon as the dataset is available. Thanks......"
   ]
  },
  {
   "cell_type": "code",
   "execution_count": null,
   "metadata": {},
   "outputs": [],
   "source": []
  }
 ],
 "metadata": {
  "kernelspec": {
   "display_name": "Python 3",
   "language": "python",
   "name": "python3"
  },
  "language_info": {
   "codemirror_mode": {
    "name": "ipython",
    "version": 3
   },
   "file_extension": ".py",
   "mimetype": "text/x-python",
   "name": "python",
   "nbconvert_exporter": "python",
   "pygments_lexer": "ipython3",
   "version": "3.8.5"
  },
  "papermill": {
   "default_parameters": {},
   "duration": 23.871172,
   "end_time": "2021-09-15T15:27:46.757332",
   "environment_variables": {},
   "exception": null,
   "input_path": "__notebook__.ipynb",
   "output_path": "__notebook__.ipynb",
   "parameters": {},
   "start_time": "2021-09-15T15:27:22.886160",
   "version": "2.3.3"
  }
 },
 "nbformat": 4,
 "nbformat_minor": 5
}
