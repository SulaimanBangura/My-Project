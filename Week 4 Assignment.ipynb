{
 "cells": [
  {
   "cell_type": "code",
   "execution_count": 1,
   "metadata": {},
   "outputs": [
    {
     "name": "stdout",
     "output_type": "stream",
     "text": [
      "26\n"
     ]
    }
   ],
   "source": [
    "MOUNT_FUJI = 3776\n",
    "THICKNESS = 0.00008\n",
    "\n",
    "def folds_exceed_height(height=1000, thickness=0.00008):\n",
    "    if height<thickness:\n",
    "        return 0\n",
    "    folded_thickness = 0\n",
    "    i = 0\n",
    "    while height > folded_thickness:\n",
    "        i += 1\n",
    "        folded_thickness=thickness*2**i\n",
    "    return i\n",
    "\n",
    "print(folds_exceed_height(MOUNT_FUJI,THICKNESS))\n"
   ]
  },
  {
   "cell_type": "code",
   "execution_count": null,
   "metadata": {},
   "outputs": [],
   "source": [
    "import math\n",
    "thickness = 0.00008\n",
    "\n",
    "def num_of_fold(distance):\n",
    "    num_of_folds = math.log(distance/thickness)/math.log(2)\n",
    "    return num_of_folds\n",
    "num_of_folds = num_of_fold(distance=float(input(\"Enter the Distance:\")))\n",
    "print(\"The number of folds is:\",round(num_of_folds),\"times\")"
   ]
  },
  {
   "cell_type": "code",
   "execution_count": null,
   "metadata": {},
   "outputs": [],
   "source": [
    "from math import pow\n",
    "THICKNESS=0.00008\n",
    "thickness_folding=43\n",
    "\n",
    "for n in range(1,thickness_folding + 1):\n",
    "    thickness=THICKNEE*pow(2,n)\n",
    "    if(thickness>=3776):\n",
    "        break\n",
    "    print(\"Number of times of folds if exceed Mt.Fuji={}\".format(n))"
   ]
  },
  {
   "cell_type": "code",
   "execution_count": null,
   "metadata": {},
   "outputs": [],
   "source": [
    "def diffraction(distance):\n",
    "    thickness=0.00008\n",
    "    thickness_folding=43\n",
    "    \n",
    "    for n in range(1,thickness_folding + 1):\n",
    "        thickness=Thickness*pow(2,n)\n",
    "        if(thickness>=distance):\n",
    "            break\n",
    "        return n\n",
    "    \n",
    "non_sun_star=4.3*9500000000000\n",
    "diffraction(non_sun_star)"
   ]
  },
  {
   "cell_type": "code",
   "execution_count": null,
   "metadata": {},
   "outputs": [],
   "source": []
  },
  {
   "cell_type": "code",
   "execution_count": null,
   "metadata": {},
   "outputs": [],
   "source": [
    "Required paper length"
   ]
  },
  {
   "cell_type": "code",
   "execution_count": null,
   "metadata": {},
   "outputs": [],
   "source": [
    "from math import pi\n",
    "def paper_length(thickness):\n",
    "    n=diffraction(thickness)\n",
    "    l=(1/6)*(pi*thickness)*(pow(2,n)+4)*(pow(2,n)-1)\n",
    "    return l\n",
    "print(\"The length of the paper to the moon is {},\\n On Mt.Fuji is {}\\n and {} to the closest star.\".format(paper_length(THICKNESS*pow(2,26)),paper_length(THICKNESS*pow(2,43))"
   ]
  },
  {
   "cell_type": "code",
   "execution_count": null,
   "metadata": {},
   "outputs": [],
   "source": []
  },
  {
   "cell_type": "code",
   "execution_count": null,
   "metadata": {},
   "outputs": [],
   "source": [
    "import math\n",
    "moon = 384400\n",
    "\n",
    "def required_length(number_of_fold,thickness=0.00008):\n",
    "    length = (math.pi*thickness *(2**number_of_fold + 4)*(2**number_of_fold))\n",
    "    return int(length)\n",
    "\n",
    "print(required_length(folds_exceed_height(moon,THICKNESS)))"
   ]
  },
  {
   "cell_type": "code",
   "execution_count": null,
   "metadata": {},
   "outputs": [],
   "source": [
    "alpha_centauri = 39924000000000\n",
    "\n",
    "def required_length(number_of_fold,thickness=0.00008):\n",
    "    length=(math.pi*thickness) / 6 *(2**number_of_fold + 4)*(2**number_of_fold - 1)\n",
    "    return int(length)\n",
    "\n",
    "print(required_length(folds_exceed_height(alpha_centauri,THICKNESS)))"
   ]
  },
  {
   "cell_type": "code",
   "execution_count": null,
   "metadata": {},
   "outputs": [],
   "source": []
  },
  {
   "cell_type": "code",
   "execution_count": null,
   "metadata": {},
   "outputs": [],
   "source": []
  },
  {
   "cell_type": "code",
   "execution_count": null,
   "metadata": {},
   "outputs": [],
   "source": []
  }
 ],
 "metadata": {
  "kernelspec": {
   "display_name": "Python 3",
   "language": "python",
   "name": "python3"
  },
  "language_info": {
   "codemirror_mode": {
    "name": "ipython",
    "version": 3
   },
   "file_extension": ".py",
   "mimetype": "text/x-python",
   "name": "python",
   "nbconvert_exporter": "python",
   "pygments_lexer": "ipython3",
   "version": "3.8.5"
  }
 },
 "nbformat": 4,
 "nbformat_minor": 4
}
