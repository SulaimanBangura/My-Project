{
 "cells": [
  {
   "cell_type": "code",
   "execution_count": null,
   "metadata": {},
   "outputs": [],
   "source": [
    "Number of Grains of Rice on the 100th day"
   ]
  },
  {
   "cell_type": "code",
   "execution_count": 24,
   "metadata": {},
   "outputs": [
    {
     "name": "stdout",
     "output_type": "stream",
     "text": [
      "1 1\n",
      "1 2\n",
      "1 4\n",
      "1 8\n",
      "1 16\n",
      "1 32\n",
      "1 64\n",
      "1 128\n",
      "1 256\n",
      "1 512\n",
      "1 1024\n",
      "1 2048\n",
      "1 4096\n",
      "1 8192\n",
      "1 16384\n",
      "1 32768\n",
      "1 65536\n",
      "1 131072\n",
      "1 262144\n",
      "1 524288\n",
      "1 1048576\n",
      "1 2097152\n",
      "1 4194304\n",
      "1 8388608\n",
      "1 16777216\n",
      "1 33554432\n",
      "1 67108864\n",
      "1 134217728\n",
      "1 268435456\n",
      "1 536870912\n",
      "1 1073741824\n",
      "1 2147483648\n",
      "1 4294967296\n",
      "1 8589934592\n",
      "1 17179869184\n",
      "1 34359738368\n",
      "1 68719476736\n",
      "1 137438953472\n",
      "1 274877906944\n",
      "1 549755813888\n",
      "1 1099511627776\n",
      "1 2199023255552\n",
      "1 4398046511104\n",
      "1 8796093022208\n",
      "1 17592186044416\n",
      "1 35184372088832\n",
      "1 70368744177664\n",
      "1 140737488355328\n",
      "1 281474976710656\n",
      "1 562949953421312\n",
      "1 1125899906842624\n",
      "1 2251799813685248\n",
      "1 4503599627370496\n",
      "1 9007199254740992\n",
      "1 18014398509481984\n",
      "1 36028797018963968\n",
      "1 72057594037927936\n",
      "1 144115188075855872\n",
      "1 288230376151711744\n",
      "1 576460752303423488\n",
      "1 1152921504606846976\n",
      "1 2305843009213693952\n",
      "1 4611686018427387904\n",
      "1 9223372036854775808\n",
      "1 18446744073709551616\n",
      "1 36893488147419103232\n",
      "1 73786976294838206464\n",
      "1 147573952589676412928\n",
      "1 295147905179352825856\n",
      "1 590295810358705651712\n",
      "1 1180591620717411303424\n",
      "1 2361183241434822606848\n",
      "1 4722366482869645213696\n",
      "1 9444732965739290427392\n",
      "1 18889465931478580854784\n",
      "1 37778931862957161709568\n",
      "1 75557863725914323419136\n",
      "1 151115727451828646838272\n",
      "1 302231454903657293676544\n",
      "1 604462909807314587353088\n",
      "1 1208925819614629174706176\n",
      "1 2417851639229258349412352\n",
      "1 4835703278458516698824704\n",
      "1 9671406556917033397649408\n",
      "1 19342813113834066795298816\n",
      "1 38685626227668133590597632\n",
      "1 77371252455336267181195264\n",
      "1 154742504910672534362390528\n",
      "1 309485009821345068724781056\n",
      "1 618970019642690137449562112\n",
      "1 1237940039285380274899124224\n",
      "1 2475880078570760549798248448\n",
      "1 4951760157141521099596496896\n",
      "1 9903520314283042199192993792\n",
      "1 19807040628566084398385987584\n",
      "1 39614081257132168796771975168\n",
      "1 79228162514264337593543950336\n",
      "1 158456325028528675187087900672\n",
      "1 316912650057057350374175801344\n",
      "1 633825300114114700748351602688\n",
      "Sum of rice in 1 days is: 1267650600228229401496703205376\n"
     ]
    }
   ],
   "source": [
    "num_days=100\n",
    "total_grain_rice=1\n",
    "\n",
    "for rice in range(1,num_days + 1):\n",
    "    print(i, total_grain_rice)#show the amount of rice receive\n",
    "    total_grain_rice*=2\n",
    "    \n",
    "#grain of rice in the 100th day\n",
    "print(\"Sum of rice in\",i,\"days is:\",total_grain_rice)"
   ]
  },
  {
   "cell_type": "code",
   "execution_count": null,
   "metadata": {},
   "outputs": [],
   "source": [
    "A LINE GRAPH TO REPRESENT THE CHANGE IN THE NUMBER OF GRAINS"
   ]
  },
  {
   "cell_type": "code",
   "execution_count": 27,
   "metadata": {},
   "outputs": [
    {
     "data": {
      "image/png": "[encoded data removed]",
      "text/plain": [
       "<Figure size 432x288 with 1 Axes>"
      ]
     },
     "metadata": {
      "needs_background": "light"
     },
     "output_type": "display_data"
    }
   ],
   "source": [
    "number_grains = 1\n",
    "days=100\n",
    "list_number_grains = [number_grains]\n",
    "list_total_grains =[number_grains]\n",
    "\n",
    "for i in range(days-1):\n",
    "    number_grains *= 2\n",
    "    list_number_grains.append(number_grains)\n",
    "    list_total_grains.append(sum(list_number_grains))\n",
    "    \n",
    "import matplotlib.pyplot as plt\n",
    "plt.title(\"Increase in Number of grains\")\n",
    "plt.xlabel(\"number of days\")\n",
    "plt.ylabel(\"number of grains\")\n",
    "plt.plot(list_total_grains)\n",
    "plt.show()"
   ]
  },
  {
   "cell_type": "code",
   "execution_count": null,
   "metadata": {},
   "outputs": [],
   "source": [
    "Number of rice grains outside of the 100th day"
   ]
  },
  {
   "cell_type": "code",
   "execution_count": 33,
   "metadata": {},
   "outputs": [
    {
     "data": {
      "image/png": "[encoded data removed]",
      "text/plain": [
       "<Figure size 432x288 with 1 Axes>"
      ]
     },
     "metadata": {
      "needs_background": "light"
     },
     "output_type": "display_data"
    }
   ],
   "source": [
    "def compute_sorori_shinzaemon(day=100):\n",
    "    \n",
    "    number_grains = 1\n",
    "    list_n_grains = [number_grains]\n",
    "    list_total_grains = [number_grains]\n",
    "    \n",
    "    for i in range(day-1):\n",
    "        number_grains *=2\n",
    "        list_n_grains.append(number_grains)\n",
    "        list_total_grains.append(sum(list_n_grains))\n",
    "        \n",
    "    plt.title(\"Number of grains per- Day\")\n",
    "    plt.xlabel(\"number of day\")\n",
    "    plt.ylabel(\"number of grains\")\n",
    "    plt.plot(list_n_grains, label='accumulation of grains',color='red')\n",
    "    return list_n_grains, list_total_grains\n",
    "list_n_grains, list_total_grains = compute_sorori_shinzaemon(day=80)"
   ]
  },
  {
   "cell_type": "code",
   "execution_count": 5,
   "metadata": {},
   "outputs": [
    {
     "name": "stdout",
     "output_type": "stream",
     "text": [
      "Number of days to live = 12.0 days\n"
     ]
    }
   ],
   "source": [
    "####let take 300 as the number of grains required per one person to live for one day.\n",
    "def number_of_days_to_live(number_of_grains,number_of_people):\n",
    "    \n",
    "    ###calculating the number of days to live for one person for the given number of grains\n",
    "    days_to_live_per_one_person = number_of_grains/300\n",
    "    \n",
    "    ###hence calculate the number of days to live for the given number of people\n",
    "    num_days_to_live = days_to_live_per_one_person/number_of_people\n",
    "    \n",
    "###Research source by WHO\n",
    "###It takes 400g,which is approximately 19200grains of rice to feed an adult human a day. \n",
    "    \n",
    "    return num_days_to_live\n",
    "n = number_of_days_to_live(19200,5)\n",
    "print(\"Number of days to live = {} days\".format(n//1))"
   ]
  },
  {
   "cell_type": "code",
   "execution_count": null,
   "metadata": {},
   "outputs": [],
   "source": []
  }
 ],
 "metadata": {
  "kernelspec": {
   "display_name": "Python 3",
   "language": "python",
   "name": "python3"
  },
  "language_info": {
   "codemirror_mode": {
    "name": "ipython",
    "version": 3
   },
   "file_extension": ".py",
   "mimetype": "text/x-python",
   "name": "python",
   "nbconvert_exporter": "python",
   "pygments_lexer": "ipython3",
   "version": "3.8.5"
  }
 },
 "nbformat": 4,
 "nbformat_minor": 4
}
