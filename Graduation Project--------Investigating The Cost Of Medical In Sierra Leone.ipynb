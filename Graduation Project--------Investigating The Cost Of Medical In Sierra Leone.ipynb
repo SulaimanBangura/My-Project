{
 "cells": [
  {
   "cell_type": "markdown",
   "metadata": {},
   "source": [
    "# In this Project, i will investigate the cost of medical in Sierra Leone.\n",
    "# Using MedicalCost.csv dataset"
   ]
  },
  {
   "cell_type": "code",
   "execution_count": 1,
   "metadata": {
    "_cell_guid": "b1076dfc-b9ad-4769-8c92-a6c4dae69d19",
    "_uuid": "8f2839f25d086af736a60e9eeb907d3b93b6e0e5",
    "execution": {
     "iopub.execute_input": "2021-05-21T19:16:50.712173Z",
     "iopub.status.busy": "2021-05-21T19:16:50.711206Z",
     "iopub.status.idle": "2021-05-21T19:16:51.706096Z",
     "shell.execute_reply": "2021-05-21T19:16:51.704636Z",
     "shell.execute_reply.started": "2021-05-21T19:16:50.712012Z"
    }
   },
   "outputs": [],
   "source": [
    "import numpy as np \n",
    "import pandas as pd \n",
    "import matplotlib.pyplot as plt"
   ]
  },
  {
   "cell_type": "code",
   "execution_count": 2,
   "metadata": {
    "execution": {
     "iopub.execute_input": "2021-05-21T19:16:51.708140Z",
     "iopub.status.busy": "2021-05-21T19:16:51.707812Z",
     "iopub.status.idle": "2021-05-21T19:16:51.730119Z",
     "shell.execute_reply": "2021-05-21T19:16:51.729211Z",
     "shell.execute_reply.started": "2021-05-21T19:16:51.708109Z"
    }
   },
   "outputs": [],
   "source": [
    "data = pd.read_csv(\"MedicalCost.csv\")"
   ]
  },
  {
   "cell_type": "code",
   "execution_count": 3,
   "metadata": {
    "execution": {
     "iopub.execute_input": "2021-05-21T19:16:51.732782Z",
     "iopub.status.busy": "2021-05-21T19:16:51.732092Z",
     "iopub.status.idle": "2021-05-21T19:16:51.743958Z",
     "shell.execute_reply": "2021-05-21T19:16:51.742662Z",
     "shell.execute_reply.started": "2021-05-21T19:16:51.732734Z"
    }
   },
   "outputs": [
    {
     "name": "stdout",
     "output_type": "stream",
     "text": [
      "Data Columns\n"
     ]
    },
    {
     "data": {
      "text/plain": [
       "Index(['age', 'sex', 'bmi', 'children', 'smoker', 'region', 'charges'], dtype='object')"
      ]
     },
     "execution_count": 3,
     "metadata": {},
     "output_type": "execute_result"
    }
   ],
   "source": [
    "print(\"Data Columns\")\n",
    "data.columns"
   ]
  },
  {
   "cell_type": "code",
   "execution_count": 4,
   "metadata": {
    "execution": {
     "iopub.execute_input": "2021-05-21T19:16:51.746176Z",
     "iopub.status.busy": "2021-05-21T19:16:51.745869Z",
     "iopub.status.idle": "2021-05-21T19:16:51.778269Z",
     "shell.execute_reply": "2021-05-21T19:16:51.777300Z",
     "shell.execute_reply.started": "2021-05-21T19:16:51.746146Z"
    }
   },
   "outputs": [
    {
     "data": {
      "text/html": [
       "<div>\n",
       "<style scoped>\n",
       "    .dataframe tbody tr th:only-of-type {\n",
       "        vertical-align: middle;\n",
       "    }\n",
       "\n",
       "    .dataframe tbody tr th {\n",
       "        vertical-align: top;\n",
       "    }\n",
       "\n",
       "    .dataframe thead th {\n",
       "        text-align: right;\n",
       "    }\n",
       "</style>\n",
       "<table border=\"1\" class=\"dataframe\">\n",
       "  <thead>\n",
       "    <tr style=\"text-align: right;\">\n",
       "      <th></th>\n",
       "      <th>age</th>\n",
       "      <th>sex</th>\n",
       "      <th>bmi</th>\n",
       "      <th>children</th>\n",
       "      <th>smoker</th>\n",
       "      <th>region</th>\n",
       "      <th>charges</th>\n",
       "    </tr>\n",
       "  </thead>\n",
       "  <tbody>\n",
       "    <tr>\n",
       "      <th>0</th>\n",
       "      <td>19</td>\n",
       "      <td>female</td>\n",
       "      <td>27.900</td>\n",
       "      <td>0</td>\n",
       "      <td>yes</td>\n",
       "      <td>southwest</td>\n",
       "      <td>16884.92400</td>\n",
       "    </tr>\n",
       "    <tr>\n",
       "      <th>1</th>\n",
       "      <td>18</td>\n",
       "      <td>male</td>\n",
       "      <td>33.770</td>\n",
       "      <td>1</td>\n",
       "      <td>no</td>\n",
       "      <td>southeast</td>\n",
       "      <td>1725.55230</td>\n",
       "    </tr>\n",
       "    <tr>\n",
       "      <th>2</th>\n",
       "      <td>28</td>\n",
       "      <td>male</td>\n",
       "      <td>33.000</td>\n",
       "      <td>3</td>\n",
       "      <td>no</td>\n",
       "      <td>southeast</td>\n",
       "      <td>4449.46200</td>\n",
       "    </tr>\n",
       "    <tr>\n",
       "      <th>3</th>\n",
       "      <td>33</td>\n",
       "      <td>male</td>\n",
       "      <td>22.705</td>\n",
       "      <td>0</td>\n",
       "      <td>no</td>\n",
       "      <td>northwest</td>\n",
       "      <td>21984.47061</td>\n",
       "    </tr>\n",
       "    <tr>\n",
       "      <th>4</th>\n",
       "      <td>32</td>\n",
       "      <td>male</td>\n",
       "      <td>28.880</td>\n",
       "      <td>0</td>\n",
       "      <td>no</td>\n",
       "      <td>northwest</td>\n",
       "      <td>3866.85520</td>\n",
       "    </tr>\n",
       "  </tbody>\n",
       "</table>\n",
       "</div>"
      ],
      "text/plain": [
       "   age     sex     bmi  children smoker     region      charges\n",
       "0   19  female  27.900         0    yes  southwest  16884.92400\n",
       "1   18    male  33.770         1     no  southeast   1725.55230\n",
       "2   28    male  33.000         3     no  southeast   4449.46200\n",
       "3   33    male  22.705         0     no  northwest  21984.47061\n",
       "4   32    male  28.880         0     no  northwest   3866.85520"
      ]
     },
     "execution_count": 4,
     "metadata": {},
     "output_type": "execute_result"
    }
   ],
   "source": [
    "data.head()"
   ]
  },
  {
   "cell_type": "markdown",
   "metadata": {},
   "source": [
    "we take a look at our data. For things to take shape in our minds."
   ]
  },
  {
   "cell_type": "code",
   "execution_count": 5,
   "metadata": {
    "execution": {
     "iopub.execute_input": "2021-05-21T19:16:51.779954Z",
     "iopub.status.busy": "2021-05-21T19:16:51.779647Z",
     "iopub.status.idle": "2021-05-21T19:16:51.812610Z",
     "shell.execute_reply": "2021-05-21T19:16:51.811349Z",
     "shell.execute_reply.started": "2021-05-21T19:16:51.779927Z"
    }
   },
   "outputs": [
    {
     "data": {
      "text/html": [
       "<div>\n",
       "<style scoped>\n",
       "    .dataframe tbody tr th:only-of-type {\n",
       "        vertical-align: middle;\n",
       "    }\n",
       "\n",
       "    .dataframe tbody tr th {\n",
       "        vertical-align: top;\n",
       "    }\n",
       "\n",
       "    .dataframe thead th {\n",
       "        text-align: right;\n",
       "    }\n",
       "</style>\n",
       "<table border=\"1\" class=\"dataframe\">\n",
       "  <thead>\n",
       "    <tr style=\"text-align: right;\">\n",
       "      <th></th>\n",
       "      <th>age</th>\n",
       "      <th>bmi</th>\n",
       "      <th>children</th>\n",
       "      <th>charges</th>\n",
       "    </tr>\n",
       "  </thead>\n",
       "  <tbody>\n",
       "    <tr>\n",
       "      <th>count</th>\n",
       "      <td>1338.000000</td>\n",
       "      <td>1338.000000</td>\n",
       "      <td>1338.000000</td>\n",
       "      <td>1338.000000</td>\n",
       "    </tr>\n",
       "    <tr>\n",
       "      <th>mean</th>\n",
       "      <td>39.207025</td>\n",
       "      <td>30.663397</td>\n",
       "      <td>1.094918</td>\n",
       "      <td>13270.422265</td>\n",
       "    </tr>\n",
       "    <tr>\n",
       "      <th>std</th>\n",
       "      <td>14.049960</td>\n",
       "      <td>6.098187</td>\n",
       "      <td>1.205493</td>\n",
       "      <td>12110.011237</td>\n",
       "    </tr>\n",
       "    <tr>\n",
       "      <th>min</th>\n",
       "      <td>18.000000</td>\n",
       "      <td>15.960000</td>\n",
       "      <td>0.000000</td>\n",
       "      <td>1121.873900</td>\n",
       "    </tr>\n",
       "    <tr>\n",
       "      <th>25%</th>\n",
       "      <td>27.000000</td>\n",
       "      <td>26.296250</td>\n",
       "      <td>0.000000</td>\n",
       "      <td>4740.287150</td>\n",
       "    </tr>\n",
       "    <tr>\n",
       "      <th>50%</th>\n",
       "      <td>39.000000</td>\n",
       "      <td>30.400000</td>\n",
       "      <td>1.000000</td>\n",
       "      <td>9382.033000</td>\n",
       "    </tr>\n",
       "    <tr>\n",
       "      <th>75%</th>\n",
       "      <td>51.000000</td>\n",
       "      <td>34.693750</td>\n",
       "      <td>2.000000</td>\n",
       "      <td>16639.912515</td>\n",
       "    </tr>\n",
       "    <tr>\n",
       "      <th>max</th>\n",
       "      <td>64.000000</td>\n",
       "      <td>53.130000</td>\n",
       "      <td>5.000000</td>\n",
       "      <td>63770.428010</td>\n",
       "    </tr>\n",
       "  </tbody>\n",
       "</table>\n",
       "</div>"
      ],
      "text/plain": [
       "               age          bmi     children       charges\n",
       "count  1338.000000  1338.000000  1338.000000   1338.000000\n",
       "mean     39.207025    30.663397     1.094918  13270.422265\n",
       "std      14.049960     6.098187     1.205493  12110.011237\n",
       "min      18.000000    15.960000     0.000000   1121.873900\n",
       "25%      27.000000    26.296250     0.000000   4740.287150\n",
       "50%      39.000000    30.400000     1.000000   9382.033000\n",
       "75%      51.000000    34.693750     2.000000  16639.912515\n",
       "max      64.000000    53.130000     5.000000  63770.428010"
      ]
     },
     "execution_count": 5,
     "metadata": {},
     "output_type": "execute_result"
    }
   ],
   "source": [
    "data.describe()"
   ]
  },
  {
   "cell_type": "markdown",
   "metadata": {},
   "source": [
    "#    Variable Description\n",
    "\n",
    "<ol>\n",
    "    <li style = \"color:darkred\"> <p style = \"color:black;font-family:Comic Sans MS\" > <strong>age : </strong> age of primary beneficiary </p> </li>\n",
    "        <li style = \"color:darkred\"> <p style = \"color:black;font-family:Comic Sans MS\" > <strong>sex : </strong> insurance contractor gender, female, male</p> </li>\n",
    "        <li style = \"color:darkred\"> <p style = \"color:black;font-family:Comic Sans MS\" > <strong>bmi : </strong> Body mass index, providing an understanding of body, weights that are relatively high or low relative to height,\n",
    "objective index of body weight (kg / m ^ 2) using the ratio of height to weight, ideally 18.5 to 24.9 </p> </li>\n",
    "        <li style = \"color:darkred\"> <p style = \"color:black;font-family:Comic Sans MS\" > <strong>children : </strong> Number of children covered by health insurance / Number of dependents </p> </li>\n",
    "        <li style = \"color:darkred\"> <p style = \"color:black;font-family:Comic Sans MS\" > <strong>smoker : </strong> Smoking </p> </li>\n",
    "        <li style = \"color:darkred\"> <p style = \"color:black;font-family:Comic Sans MS\" > <strong>region : </strong> the beneficiary's residential area in the US, northeast, southeast, southwest, northwest. </p> </li>\n",
    "        <li style = \"color:darkred\"> <p style = \"color:black;font-family:Comic Sans MS\" > <strong>charges : </strong> Individual medical costs billed by health insurance </p> </li>\n",
    "</ol>"
   ]
  },
  {
   "cell_type": "code",
   "execution_count": 6,
   "metadata": {
    "execution": {
     "iopub.execute_input": "2021-05-21T19:16:51.814508Z",
     "iopub.status.busy": "2021-05-21T19:16:51.814133Z",
     "iopub.status.idle": "2021-05-21T19:16:51.834300Z",
     "shell.execute_reply": "2021-05-21T19:16:51.833520Z",
     "shell.execute_reply.started": "2021-05-21T19:16:51.814473Z"
    }
   },
   "outputs": [
    {
     "name": "stdout",
     "output_type": "stream",
     "text": [
      "Data Info\n",
      "<class 'pandas.core.frame.DataFrame'>\n",
      "RangeIndex: 1338 entries, 0 to 1337\n",
      "Data columns (total 7 columns):\n",
      " #   Column    Non-Null Count  Dtype  \n",
      "---  ------    --------------  -----  \n",
      " 0   age       1338 non-null   int64  \n",
      " 1   sex       1338 non-null   object \n",
      " 2   bmi       1338 non-null   float64\n",
      " 3   children  1338 non-null   int64  \n",
      " 4   smoker    1338 non-null   object \n",
      " 5   region    1338 non-null   object \n",
      " 6   charges   1338 non-null   float64\n",
      "dtypes: float64(2), int64(2), object(3)\n",
      "memory usage: 73.3+ KB\n"
     ]
    }
   ],
   "source": [
    "print(\"Data Info\")\n",
    "data.info()"
   ]
  },
  {
   "cell_type": "markdown",
   "metadata": {},
   "source": [
    "<ul>\n",
    "    <li style = \"color:darkred\"> <p style = \"color:black;font-family:Comic Sans MS\" > <strong> float64 : </strong> bmi, charges </p> </li>\n",
    "        <li style = \"color:darkred\"> <p style = \"color:black;font-family:Comic Sans MS\" > <strong>int64 : </strong> age, children </p> </li>\n",
    "            <li style = \"color:darkred\"> <p style = \"color:black;font-family:Comic Sans MS\" > <strong>object : </strong> sex, smoker, region </p> </li>\n",
    "</ul>"
   ]
  },
  {
   "cell_type": "markdown",
   "metadata": {},
   "source": [
    "#    Data Analysis\n",
    "\n",
    "<p style = \"color:darkred;font-family:Comic Sans MS;font-weight:bold\" >In this section, we will look at the effects of attributes on target attributes and other attributes.</p> \n",
    "\n",
    "<ul>\n",
    "    <li style = \"color:darkgreen\"> <p style = \"color:black;font-family:Comic Sans MS\" > sex - <strong> charges </strong> </p> </li>\n",
    "        <li style = \"color:darkgreen\"> <p style = \"color:black;font-family:Comic Sans MS\" > children - <strong> charges </strong> </p> </li>\n",
    "        <li style = \"color:darkgreen\"> <p style = \"color:black;font-family:Comic Sans MS\" > smoker - <strong> charges </strong> </p> </li>\n",
    "        <li style = \"color:darkgreen\"> <p style = \"color:black;font-family:Comic Sans MS\" > region - <strong> charges </strong> </p> </li>\n",
    "           \n",
    "</ul>"
   ]
  },
  {
   "cell_type": "markdown",
   "metadata": {},
   "source": [
    "Sex - charges"
   ]
  },
  {
   "cell_type": "code",
   "execution_count": 7,
   "metadata": {
    "execution": {
     "iopub.execute_input": "2021-05-21T19:16:51.835957Z",
     "iopub.status.busy": "2021-05-21T19:16:51.835520Z",
     "iopub.status.idle": "2021-05-21T19:16:51.891974Z",
     "shell.execute_reply": "2021-05-21T19:16:51.890840Z",
     "shell.execute_reply.started": "2021-05-21T19:16:51.835925Z"
    }
   },
   "outputs": [
    {
     "data": {
      "text/html": [
       "<style  type=\"text/css\" >\n",
       "#T_167c9_row0_col1{\n",
       "            background-color:  #00441b;\n",
       "            color:  #f1f1f1;\n",
       "        }#T_167c9_row1_col1{\n",
       "            background-color:  #f7fcf5;\n",
       "            color:  #000000;\n",
       "        }</style><table id=\"T_167c9_\" ><thead>    <tr>        <th class=\"blank level0\" ></th>        <th class=\"col_heading level0 col0\" >sex</th>        <th class=\"col_heading level0 col1\" >charges</th>    </tr></thead><tbody>\n",
       "                <tr>\n",
       "                        <th id=\"T_167c9_level0_row0\" class=\"row_heading level0 row0\" >1</th>\n",
       "                        <td id=\"T_167c9_row0_col0\" class=\"data row0 col0\" >male</td>\n",
       "                        <td id=\"T_167c9_row0_col1\" class=\"data row0 col1\" >13956.751178</td>\n",
       "            </tr>\n",
       "            <tr>\n",
       "                        <th id=\"T_167c9_level0_row1\" class=\"row_heading level0 row1\" >0</th>\n",
       "                        <td id=\"T_167c9_row1_col0\" class=\"data row1 col0\" >female</td>\n",
       "                        <td id=\"T_167c9_row1_col1\" class=\"data row1 col1\" >12569.578844</td>\n",
       "            </tr>\n",
       "    </tbody></table>"
      ],
      "text/plain": [
       "<pandas.io.formats.style.Styler at 0x7f904d95d610>"
      ]
     },
     "execution_count": 7,
     "metadata": {},
     "output_type": "execute_result"
    }
   ],
   "source": [
    "data[[\"sex\",\"charges\"]].groupby([\"sex\"], as_index = False).mean().sort_values(by = \"charges\",ascending = False).style.background_gradient(\"Greens\")"
   ]
  },
  {
   "cell_type": "markdown",
   "metadata": {},
   "source": [
    "We see that men pay more than women.Although there is not much difference, we can evaluate this in the model part.\n"
   ]
  },
  {
   "cell_type": "markdown",
   "metadata": {},
   "source": [
    "<a id ='5' ></a>\n",
    "<h4 style = \"background:Red;color:white;border:0;font-family:Comic Sans MS;font-weight:bold\">children - charges </h4>"
   ]
  },
  {
   "cell_type": "code",
   "execution_count": 8,
   "metadata": {
    "execution": {
     "iopub.execute_input": "2021-05-21T19:16:51.895999Z",
     "iopub.status.busy": "2021-05-21T19:16:51.895527Z",
     "iopub.status.idle": "2021-05-21T19:16:51.921414Z",
     "shell.execute_reply": "2021-05-21T19:16:51.920185Z",
     "shell.execute_reply.started": "2021-05-21T19:16:51.895958Z"
    }
   },
   "outputs": [
    {
     "data": {
      "text/html": [
       "<style  type=\"text/css\" >\n",
       "#T_08809_row0_col0,#T_08809_row3_col1{\n",
       "            background-color:  #4bb062;\n",
       "            color:  #000000;\n",
       "        }#T_08809_row0_col1,#T_08809_row5_col0{\n",
       "            background-color:  #00441b;\n",
       "            color:  #f1f1f1;\n",
       "        }#T_08809_row1_col0{\n",
       "            background-color:  #98d594;\n",
       "            color:  #000000;\n",
       "        }#T_08809_row1_col1{\n",
       "            background-color:  #005120;\n",
       "            color:  #f1f1f1;\n",
       "        }#T_08809_row2_col0{\n",
       "            background-color:  #157f3b;\n",
       "            color:  #f1f1f1;\n",
       "        }#T_08809_row2_col1{\n",
       "            background-color:  #1d8640;\n",
       "            color:  #000000;\n",
       "        }#T_08809_row3_col0{\n",
       "            background-color:  #d3eecd;\n",
       "            color:  #000000;\n",
       "        }#T_08809_row4_col0,#T_08809_row5_col1{\n",
       "            background-color:  #f7fcf5;\n",
       "            color:  #000000;\n",
       "        }#T_08809_row4_col1{\n",
       "            background-color:  #62bb6d;\n",
       "            color:  #000000;\n",
       "        }</style><table id=\"T_08809_\" ><thead>    <tr>        <th class=\"blank level0\" ></th>        <th class=\"col_heading level0 col0\" >children</th>        <th class=\"col_heading level0 col1\" >charges</th>    </tr></thead><tbody>\n",
       "                <tr>\n",
       "                        <th id=\"T_08809_level0_row0\" class=\"row_heading level0 row0\" >3</th>\n",
       "                        <td id=\"T_08809_row0_col0\" class=\"data row0 col0\" >3</td>\n",
       "                        <td id=\"T_08809_row0_col1\" class=\"data row0 col1\" >15355.318367</td>\n",
       "            </tr>\n",
       "            <tr>\n",
       "                        <th id=\"T_08809_level0_row1\" class=\"row_heading level0 row1\" >2</th>\n",
       "                        <td id=\"T_08809_row1_col0\" class=\"data row1 col0\" >2</td>\n",
       "                        <td id=\"T_08809_row1_col1\" class=\"data row1 col1\" >15073.563734</td>\n",
       "            </tr>\n",
       "            <tr>\n",
       "                        <th id=\"T_08809_level0_row2\" class=\"row_heading level0 row2\" >4</th>\n",
       "                        <td id=\"T_08809_row2_col0\" class=\"data row2 col0\" >4</td>\n",
       "                        <td id=\"T_08809_row2_col1\" class=\"data row2 col1\" >13850.656311</td>\n",
       "            </tr>\n",
       "            <tr>\n",
       "                        <th id=\"T_08809_level0_row3\" class=\"row_heading level0 row3\" >1</th>\n",
       "                        <td id=\"T_08809_row3_col0\" class=\"data row3 col0\" >1</td>\n",
       "                        <td id=\"T_08809_row3_col1\" class=\"data row3 col1\" >12731.171832</td>\n",
       "            </tr>\n",
       "            <tr>\n",
       "                        <th id=\"T_08809_level0_row4\" class=\"row_heading level0 row4\" >0</th>\n",
       "                        <td id=\"T_08809_row4_col0\" class=\"data row4 col0\" >0</td>\n",
       "                        <td id=\"T_08809_row4_col1\" class=\"data row4 col1\" >12365.975602</td>\n",
       "            </tr>\n",
       "            <tr>\n",
       "                        <th id=\"T_08809_level0_row5\" class=\"row_heading level0 row5\" >5</th>\n",
       "                        <td id=\"T_08809_row5_col0\" class=\"data row5 col0\" >5</td>\n",
       "                        <td id=\"T_08809_row5_col1\" class=\"data row5 col1\" >8786.035247</td>\n",
       "            </tr>\n",
       "    </tbody></table>"
      ],
      "text/plain": [
       "<pandas.io.formats.style.Styler at 0x7f904d9cd250>"
      ]
     },
     "execution_count": 8,
     "metadata": {},
     "output_type": "execute_result"
    }
   ],
   "source": [
    "data[[\"children\",\"charges\"]].groupby([\"children\"], as_index = False).mean().sort_values(by = \"charges\",ascending = False).style.background_gradient(\"Greens\")"
   ]
  },
  {
   "cell_type": "markdown",
   "metadata": {},
   "source": [
    "We see the effect of the number of children on the wages paid.\n",
    "We see that those with 5 children pay less."
   ]
  },
  {
   "cell_type": "markdown",
   "metadata": {},
   "source": [
    "#### Smoker - charges"
   ]
  },
  {
   "cell_type": "code",
   "execution_count": 9,
   "metadata": {
    "execution": {
     "iopub.execute_input": "2021-05-21T19:16:51.924726Z",
     "iopub.status.busy": "2021-05-21T19:16:51.924227Z",
     "iopub.status.idle": "2021-05-21T19:16:51.948315Z",
     "shell.execute_reply": "2021-05-21T19:16:51.947229Z",
     "shell.execute_reply.started": "2021-05-21T19:16:51.924676Z"
    }
   },
   "outputs": [
    {
     "data": {
      "text/html": [
       "<style  type=\"text/css\" >\n",
       "#T_1c83c_row0_col1{\n",
       "            background-color:  #00441b;\n",
       "            color:  #f1f1f1;\n",
       "        }#T_1c83c_row1_col1{\n",
       "            background-color:  #f7fcf5;\n",
       "            color:  #000000;\n",
       "        }</style><table id=\"T_1c83c_\" ><thead>    <tr>        <th class=\"blank level0\" ></th>        <th class=\"col_heading level0 col0\" >smoker</th>        <th class=\"col_heading level0 col1\" >charges</th>    </tr></thead><tbody>\n",
       "                <tr>\n",
       "                        <th id=\"T_1c83c_level0_row0\" class=\"row_heading level0 row0\" >1</th>\n",
       "                        <td id=\"T_1c83c_row0_col0\" class=\"data row0 col0\" >yes</td>\n",
       "                        <td id=\"T_1c83c_row0_col1\" class=\"data row0 col1\" >32050.231832</td>\n",
       "            </tr>\n",
       "            <tr>\n",
       "                        <th id=\"T_1c83c_level0_row1\" class=\"row_heading level0 row1\" >0</th>\n",
       "                        <td id=\"T_1c83c_row1_col0\" class=\"data row1 col0\" >no</td>\n",
       "                        <td id=\"T_1c83c_row1_col1\" class=\"data row1 col1\" >8434.268298</td>\n",
       "            </tr>\n",
       "    </tbody></table>"
      ],
      "text/plain": [
       "<pandas.io.formats.style.Styler at 0x7f904d9cdb10>"
      ]
     },
     "execution_count": 9,
     "metadata": {},
     "output_type": "execute_result"
    }
   ],
   "source": [
    " data[[\"smoker\",\"charges\"]].groupby([\"smoker\"], as_index = False).mean().sort_values(by = \"charges\",ascending = False).style.background_gradient(\"Greens\")"
   ]
  },
  {
   "cell_type": "markdown",
   "metadata": {},
   "source": [
    "We see that smokers pay more than non-smokers.the difference is great, it can have a lot of influence on the model. We can use this by examining it better in the model part.\n"
   ]
  },
  {
   "cell_type": "markdown",
   "metadata": {},
   "source": [
    "#### Region - charges"
   ]
  },
  {
   "cell_type": "code",
   "execution_count": 10,
   "metadata": {
    "execution": {
     "iopub.execute_input": "2021-05-21T19:16:51.949748Z",
     "iopub.status.busy": "2021-05-21T19:16:51.949425Z",
     "iopub.status.idle": "2021-05-21T19:16:51.968665Z",
     "shell.execute_reply": "2021-05-21T19:16:51.967696Z",
     "shell.execute_reply.started": "2021-05-21T19:16:51.949717Z"
    }
   },
   "outputs": [
    {
     "data": {
      "text/html": [
       "<style  type=\"text/css\" >\n",
       "#T_18bb5_row0_col1{\n",
       "            background-color:  #00441b;\n",
       "            color:  #f1f1f1;\n",
       "        }#T_18bb5_row1_col1{\n",
       "            background-color:  #88ce87;\n",
       "            color:  #000000;\n",
       "        }#T_18bb5_row2_col1{\n",
       "            background-color:  #f3faf0;\n",
       "            color:  #000000;\n",
       "        }#T_18bb5_row3_col1{\n",
       "            background-color:  #f7fcf5;\n",
       "            color:  #000000;\n",
       "        }</style><table id=\"T_18bb5_\" ><thead>    <tr>        <th class=\"blank level0\" ></th>        <th class=\"col_heading level0 col0\" >region</th>        <th class=\"col_heading level0 col1\" >charges</th>    </tr></thead><tbody>\n",
       "                <tr>\n",
       "                        <th id=\"T_18bb5_level0_row0\" class=\"row_heading level0 row0\" >2</th>\n",
       "                        <td id=\"T_18bb5_row0_col0\" class=\"data row0 col0\" >southeast</td>\n",
       "                        <td id=\"T_18bb5_row0_col1\" class=\"data row0 col1\" >14735.411438</td>\n",
       "            </tr>\n",
       "            <tr>\n",
       "                        <th id=\"T_18bb5_level0_row1\" class=\"row_heading level0 row1\" >0</th>\n",
       "                        <td id=\"T_18bb5_row1_col0\" class=\"data row1 col0\" >northeast</td>\n",
       "                        <td id=\"T_18bb5_row1_col1\" class=\"data row1 col1\" >13406.384516</td>\n",
       "            </tr>\n",
       "            <tr>\n",
       "                        <th id=\"T_18bb5_level0_row2\" class=\"row_heading level0 row2\" >1</th>\n",
       "                        <td id=\"T_18bb5_row2_col0\" class=\"data row2 col0\" >northwest</td>\n",
       "                        <td id=\"T_18bb5_row2_col1\" class=\"data row2 col1\" >12417.575374</td>\n",
       "            </tr>\n",
       "            <tr>\n",
       "                        <th id=\"T_18bb5_level0_row3\" class=\"row_heading level0 row3\" >3</th>\n",
       "                        <td id=\"T_18bb5_row3_col0\" class=\"data row3 col0\" >southwest</td>\n",
       "                        <td id=\"T_18bb5_row3_col1\" class=\"data row3 col1\" >12346.937377</td>\n",
       "            </tr>\n",
       "    </tbody></table>"
      ],
      "text/plain": [
       "<pandas.io.formats.style.Styler at 0x7f904d941d90>"
      ]
     },
     "execution_count": 10,
     "metadata": {},
     "output_type": "execute_result"
    }
   ],
   "source": [
    " data[[\"region\",\"charges\"]].groupby([\"region\"], as_index = False).mean().sort_values(by = \"charges\",ascending = False).style.background_gradient(\"Greens\")"
   ]
  },
  {
   "cell_type": "markdown",
   "metadata": {},
   "source": [
    "<ul>\n",
    "    <li style = \"color:darkgreen;font-family:Segoe Print\" > <p style = \"color:black;font-family:Comic Sans MS\" >we see the fees paid by regions.</p> </li>\n",
    "</ul>"
   ]
  },
  {
   "cell_type": "markdown",
   "metadata": {},
   "source": [
    "<ul>\n",
    "    <li style = \"color:darkblue;font-family:Segoe Print\" > <p style = \"color:black;font-family:Comic Sans MS\" >We see the status of other features by region.</p> </li>\n",
    "</ul>"
   ]
  },
  {
   "cell_type": "markdown",
   "metadata": {},
   "source": [
    "#### Missing Values\n",
    "We will take a look at if there is any missing data in our data. If there are, we will try to eliminate them. "
   ]
  },
  {
   "cell_type": "code",
   "execution_count": 15,
   "metadata": {
    "execution": {
     "iopub.execute_input": "2021-05-21T19:16:52.098207Z",
     "iopub.status.busy": "2021-05-21T19:16:52.097905Z",
     "iopub.status.idle": "2021-05-21T19:16:52.108390Z",
     "shell.execute_reply": "2021-05-21T19:16:52.107344Z",
     "shell.execute_reply.started": "2021-05-21T19:16:52.098175Z"
    }
   },
   "outputs": [
    {
     "name": "stdout",
     "output_type": "stream",
     "text": [
      "Do we have data with null in columns?\n"
     ]
    },
    {
     "data": {
      "text/plain": [
       "Index([], dtype='object')"
      ]
     },
     "execution_count": 15,
     "metadata": {},
     "output_type": "execute_result"
    }
   ],
   "source": [
    "print(\"Do we have data with null in columns?\")\n",
    "data.columns[data.isnull().any()]"
   ]
  },
  {
   "cell_type": "code",
   "execution_count": 16,
   "metadata": {
    "execution": {
     "iopub.execute_input": "2021-05-21T19:16:52.110449Z",
     "iopub.status.busy": "2021-05-21T19:16:52.110103Z",
     "iopub.status.idle": "2021-05-21T19:16:52.124009Z",
     "shell.execute_reply": "2021-05-21T19:16:52.122568Z",
     "shell.execute_reply.started": "2021-05-21T19:16:52.110414Z"
    }
   },
   "outputs": [
    {
     "data": {
      "text/plain": [
       "age         0\n",
       "sex         0\n",
       "bmi         0\n",
       "children    0\n",
       "smoker      0\n",
       "region      0\n",
       "charges     0\n",
       "dtype: int64"
      ]
     },
     "execution_count": 16,
     "metadata": {},
     "output_type": "execute_result"
    }
   ],
   "source": [
    "data.isnull().sum()"
   ]
  },
  {
   "cell_type": "markdown",
   "metadata": {},
   "source": [
    "<ul>\n",
    "    <li style = \"color:darkred;font-family:Segoe Print\" > <p style = \"color:black;font-family:Comic Sans MS\" >we see that there is no missing data in the data.</p> </li>\n",
    "</ul>"
   ]
  },
  {
   "cell_type": "markdown",
   "metadata": {},
   "source": [
    "In this section, we will visualize our features one by one and make examination of:\n",
    "##        Age \n",
    "##        Sex \n",
    "##        Bmi \n",
    "##        Children \n",
    "##        Smoker \n",
    "##        Region \n",
    "##        Charges \n"
   ]
  },
  {
   "cell_type": "markdown",
   "metadata": {},
   "source": [
    "\n",
    "#### Age"
   ]
  },
  {
   "cell_type": "code",
   "execution_count": 17,
   "metadata": {
    "_kg_hide-input": true,
    "execution": {
     "iopub.execute_input": "2021-05-21T19:16:52.126218Z",
     "iopub.status.busy": "2021-05-21T19:16:52.125765Z",
     "iopub.status.idle": "2021-05-21T19:16:53.080460Z",
     "shell.execute_reply": "2021-05-21T19:16:53.079437Z",
     "shell.execute_reply.started": "2021-05-21T19:16:52.126173Z"
    }
   },
   "outputs": [
    {
     "data": {
      "image/png": "[encoded data removed]",
      "text/plain": [
       "<Figure size 792x1152 with 5 Axes>"
      ]
     },
     "metadata": {
      "needs_background": "light"
     },
     "output_type": "display_data"
    }
   ],
   "source": [
    "regions = [\"southeast\",\"northwest\",\"southwest\",\"northeast\"]\n",
    "children = [0,1,2,3,4,5]\n",
    "genders = [\"female\", \"male\"]\n",
    "\n",
    "regionAgeMean = []\n",
    "sexAgeMean = []\n",
    "childAgeMean = []\n",
    "\n",
    "for region in regions:\n",
    "    x = data[data[\"region\"] == region]\n",
    "    ageMeanRegion = x[\"age\"].mean()\n",
    "    regionAgeMean.append(ageMeanRegion)\n",
    "    \n",
    "for gender in genders:\n",
    "    y = data[data[\"sex\"] == gender]\n",
    "    ageMeanSex = y[\"age\"].mean()\n",
    "    sexAgeMean.append(ageMeanSex)\n",
    "\n",
    "for child in children:\n",
    "    z = data[data[\"children\"] == child]\n",
    "    ageMeanChild = z[\"age\"].mean()\n",
    "    childAgeMean.append(ageMeanChild)\n",
    "\n",
    "ageFirstDecember = data[data[\"age\"].between(18,28, inclusive = True)][\"charges\"].mean()\n",
    "ageSecondDecember = data[data[\"age\"].between(29,39, inclusive = True)][\"charges\"].mean()\n",
    "ageThirdDecember = data[data[\"age\"].between(40,50, inclusive = True)][\"charges\"].mean()\n",
    "ageFourthDecember = data[data[\"age\"].between(51,64, inclusive = True)][\"charges\"].mean()\n",
    "\n",
    "averageAge = [ageFirstDecember,ageSecondDecember,ageThirdDecember,ageFourthDecember]\n",
    "ageRanges = [\"18-28 Age\",\"29-39 Age\",\"40-50 Age\",\"51-64 Age\"]\n",
    "\n",
    "plt.figure(figsize=(11,16))\n",
    "plt.subplot(3,2,1)\n",
    "sns.barplot(x = regions, y = regionAgeMean, palette= \"rocket\")\n",
    "plt.title(\"Average age by region\", color = \"purple\")\n",
    "plt.xlabel(\"regions\")\n",
    "plt.ylabel(\"age mean\")\n",
    "plt.subplot(3,2,2)\n",
    "sns.barplot(x = genders, y = sexAgeMean, palette=\"YlOrBr\")\n",
    "plt.title(\"Average age by sex\", color = \"orange\")\n",
    "plt.xlabel(\"genders\")\n",
    "plt.ylabel(\"age mean\")\n",
    "plt.subplot(3,2,3)\n",
    "sns.barplot(x = children, y = childAgeMean, palette=\"crest\")\n",
    "plt.title(\"Average age by children\", color = \"blue\")\n",
    "plt.xlabel(\"number of children\")\n",
    "plt.ylabel(\"age mean\")\n",
    "plt.subplot(3,2,4)\n",
    "sns.barplot(x=ageRanges, y=averageAge, palette=\"Greens\")\n",
    "plt.title(\"Charges by age range\", color = \"darkgreen\")\n",
    "plt.xlabel(\"age range\")\n",
    "plt.ylabel(\"Charges\")\n",
    "plt.subplot(3,2,(5,6))\n",
    "sns.distplot(data[\"age\"], fit=norm)\n",
    "plt.title(\"Age Distplot\", color = \"darkred\")\n",
    "\n",
    "plt.show()\n"
   ]
  },
  {
   "cell_type": "markdown",
   "metadata": {},
   "source": [
    "<ul>\n",
    "    <li style = \"color:black\"> <p style = \"color:black;font-family:Comic Sans MS\" > We examined the age feature from different angles. </p> </li>\n",
    "        <li style = \"color:purple\"> <p style = \"color:purple;font-family:Comic Sans MS\" > In the first graph, we see that the average age by regions does not differ much. </p> </li>\n",
    "            <li style = \"color:orange\"> <p style = \"color:orange;font-family:Comic Sans MS\" > In the second graph, we see that there is not a huge difference in the average age by gender. </p> </li>\n",
    "         <li style = \"color:darkblue\"> <p style = \"color:darkblue;font-family:Comic Sans MS\" > In the third graph, we looked at the average age by the number of children. We see that people with 5 children have a lower average age. </p> </li>\n",
    "            <li style = \"color:darkgreen\"> <p style = \"color:darkgreen;font-family:Comic Sans MS\" > In the fourth graph, we see the wages paid according to the average age. We see that the wages paid increase as the age gets older. The highest wages appear between the ages of 51-64. We can use this in the model section. </p> </li>\n",
    "                <li style = \"color:black\"> <p style = \"color:black;font-family:Comic Sans MS\" > In the last graph, we see the distribution of age characteristics according to the normal distribution. In fact, there does not seem to be a big difference with the normal distribution, but it can still be corrected.</p> </li>\n",
    "</ul>"
   ]
  },
  {
   "cell_type": "markdown",
   "metadata": {},
   "source": [
    "#  Sex"
   ]
  },
  {
   "cell_type": "code",
   "execution_count": 18,
   "metadata": {
    "_kg_hide-input": true,
    "execution": {
     "iopub.execute_input": "2021-05-21T19:16:53.082170Z",
     "iopub.status.busy": "2021-05-21T19:16:53.081851Z",
     "iopub.status.idle": "2021-05-21T19:16:53.652175Z",
     "shell.execute_reply": "2021-05-21T19:16:53.651044Z",
     "shell.execute_reply.started": "2021-05-21T19:16:53.082132Z"
    }
   },
   "outputs": [
    {
     "data": {
      "image/png": "[encoded data removed]",
      "text/plain": [
       "<Figure size 576x720 with 3 Axes>"
      ]
     },
     "metadata": {
      "needs_background": "light"
     },
     "output_type": "display_data"
    }
   ],
   "source": [
    "bodyMassIndex = []\n",
    "for i in genders:\n",
    "    sex = data[data[\"sex\"] == i]\n",
    "    bmi = sex[\"bmi\"].mean()\n",
    "    bodyMassIndex.append(bmi)\n",
    "    \n",
    "totalNumber = data.sex.value_counts().values\n",
    "genderLabel = data.sex.value_counts().index\n",
    "circle = plt.Circle((0,0),0.2,color = \"white\") \n",
    "explode = (0, 0.1)\n",
    "\n",
    "plt.figure(figsize=(8,10))\n",
    "plt.subplot(2,2,1)\n",
    "sns.barplot(x = genders, y = bodyMassIndex, palette= \"rocket\")\n",
    "plt.title(\"body mass index by gender\", color = \"purple\")\n",
    "plt.xlabel(\"gender\")\n",
    "plt.ylabel(\"bmi\")\n",
    "plt.subplot(2,2,2)\n",
    "plt.pie(totalNumber, labels = genderLabel,autopct='%1.2f%%', explode = explode, colors=['blue','lightgreen'])\n",
    "p = plt.gcf()\n",
    "p.gca().add_artist(circle) \n",
    "plt.title(\"female/male\")\n",
    "plt.legend()\n",
    "plt.subplot(2,2,(3,4))\n",
    "sns.countplot(x = 'sex', hue = 'smoker', data = data, palette=\"Greens\")\n",
    "plt.title(\"smoking status by gender\", color = \"darkgreen\")\n",
    "plt.xlabel(\"gender\")\n",
    "plt.show()\n",
    "\n"
   ]
  },
  {
   "cell_type": "markdown",
   "metadata": {},
   "source": [
    "<ul>\n",
    "    <li style = \"color:purple\"> <p style = \"color:purple;font-family:Comic Sans MS\" > In the first graph we are looking at the effect of gender on bmi. There doesn't seem to be much difference. </p> </li>\n",
    "        <li style = \"color:darkblue\"> <p style = \"color:darkblue;font-family:Comic Sans MS\" > In the second graph, we look at the gender distribution. </p> </li>\n",
    "            <li style = \"color:darkgreen\"> <p style = \"color:darkgreen;font-family:Comic Sans MS\" > In the last graph, we examined the smoking status by gender. they look close to each other as men and women. </p> </li>\n",
    "</ul>"
   ]
  },
  {
   "cell_type": "markdown",
   "metadata": {},
   "source": [
    "#   bmi"
   ]
  },
  {
   "cell_type": "code",
   "execution_count": 19,
   "metadata": {
    "_kg_hide-input": true,
    "execution": {
     "iopub.execute_input": "2021-05-21T19:16:53.653866Z",
     "iopub.status.busy": "2021-05-21T19:16:53.653518Z",
     "iopub.status.idle": "2021-05-21T19:16:54.002328Z",
     "shell.execute_reply": "2021-05-21T19:16:54.001492Z",
     "shell.execute_reply.started": "2021-05-21T19:16:53.653834Z"
    }
   },
   "outputs": [
    {
     "data": {
      "image/png": "[encoded data removed]",
      "text/plain": [
       "<Figure size 720x288 with 2 Axes>"
      ]
     },
     "metadata": {
      "needs_background": "light"
     },
     "output_type": "display_data"
    }
   ],
   "source": [
    "plt.figure(figsize=(10,4))\n",
    "plt.subplot(1,2,1)\n",
    "plt.hist(data[\"bmi\"], color=\"orange\")\n",
    "plt.xlabel(\"bmi\")\n",
    "plt.ylabel(\"Frequency\")\n",
    "plt.title(\"bmi histogram\", color = \"darkred\")\n",
    "plt.subplot(1,2,2)\n",
    "sns.distplot(data[\"bmi\"], fit=norm)\n",
    "plt.title(\"bmi Distplot\", color = \"darkred\")\n",
    "\n",
    "plt.show()"
   ]
  },
  {
   "cell_type": "markdown",
   "metadata": {},
   "source": [
    "<ul>\n",
    "    <li style = \"color:orange\"> <p style = \"color:orange;font-family:Comic Sans MS\" > In the first graph we look at the distribution of bmi. </p> </li>\n",
    "        <li style = \"color:black\"> <p style = \"color:black;font-family:Comic Sans MS\" > We can see from the first graph that it actually has a nice distribution. We supported this with the second chart. Almost the same as the normal distribution. So there is no need to do anything here. </p> </li>\n",
    "</ul>"
   ]
  },
  {
   "cell_type": "markdown",
   "metadata": {},
   "source": [
    "#    Children"
   ]
  },
  {
   "cell_type": "code",
   "execution_count": 20,
   "metadata": {
    "_kg_hide-input": true,
    "execution": {
     "iopub.execute_input": "2021-05-21T19:16:54.004187Z",
     "iopub.status.busy": "2021-05-21T19:16:54.003671Z",
     "iopub.status.idle": "2021-05-21T19:16:54.326711Z",
     "shell.execute_reply": "2021-05-21T19:16:54.325967Z",
     "shell.execute_reply.started": "2021-05-21T19:16:54.004140Z"
    }
   },
   "outputs": [
    {
     "data": {
      "image/png": "[encoded data removed]",
      "text/plain": [
       "<Figure size 864x360 with 2 Axes>"
      ]
     },
     "metadata": {
      "needs_background": "light"
     },
     "output_type": "display_data"
    }
   ],
   "source": [
    "childNumber = []\n",
    "childCharges = []\n",
    "\n",
    "for each in children:\n",
    "    child = data[data[\"children\"] == each]\n",
    "    xx = child[\"age\"].mean()\n",
    "    yy = child[\"charges\"].mean()\n",
    "    childNumber.append(xx)\n",
    "    childCharges.append(yy)\n",
    "    \n",
    "plt.figure(figsize=(12,5))\n",
    "plt.subplot(1,2,1)\n",
    "sns.barplot(x = children, y = childNumber, palette= \"rocket\")\n",
    "plt.title(\"Average age by child number\", color = \"purple\")\n",
    "plt.xlabel(\"child number\")\n",
    "plt.ylabel(\"age mean\")\n",
    "plt.subplot(1,2,2)\n",
    "sns.barplot(x = children, y = childCharges, palette=\"crest\")\n",
    "plt.title(\"Average charges by child number\", color = \"blue\")\n",
    "plt.xlabel(\"child number\")\n",
    "plt.ylabel(\"charges mean\")\n",
    "\n",
    "plt.show()"
   ]
  },
  {
   "cell_type": "markdown",
   "metadata": {},
   "source": [
    "<ul>\n",
    "        <li style = \"color:darkblue\"> <p style = \"color:darkblue;font-family:Comic Sans MS\" > We also examined the first graph in the age section. In the second graph, we look at the effect of the number of children on the wages paid. Here, we see that the wage paid by those with 5 children is lower than the others.Let's make a note here. We can use this in the feature review section.</p> </li>\n",
    "</ul>"
   ]
  },
  {
   "cell_type": "markdown",
   "metadata": {},
   "source": [
    "#  Smoker"
   ]
  },
  {
   "cell_type": "code",
   "execution_count": 21,
   "metadata": {
    "_kg_hide-input": true,
    "execution": {
     "iopub.execute_input": "2021-05-21T19:16:54.328369Z",
     "iopub.status.busy": "2021-05-21T19:16:54.327902Z",
     "iopub.status.idle": "2021-05-21T19:16:54.934602Z",
     "shell.execute_reply": "2021-05-21T19:16:54.933595Z",
     "shell.execute_reply.started": "2021-05-21T19:16:54.328337Z"
    }
   },
   "outputs": [
    {
     "data": {
      "image/png": "[encoded data removed]",
      "text/plain": [
       "<Figure size 792x720 with 3 Axes>"
      ]
     },
     "metadata": {
      "needs_background": "light"
     },
     "output_type": "display_data"
    }
   ],
   "source": [
    "smoker = [\"yes\", \"no\"]\n",
    "\n",
    "smokerAge = []\n",
    "smokerCharges = []\n",
    "\n",
    "for each in smoker:\n",
    "    smokerDistinction = data[data[\"smoker\"] == each]\n",
    "    xxx = smokerDistinction[\"age\"].mean()\n",
    "    yyy = smokerDistinction[\"charges\"].mean()\n",
    "    smokerAge.append(xxx)\n",
    "    smokerCharges.append(yyy)\n",
    "\n",
    "    \n",
    "plt.figure(figsize=(11,10))\n",
    "plt.subplot(2,2,1)\n",
    "sns.barplot(x = smoker, y = smokerAge, palette= \"Greens\")\n",
    "plt.title(\"average age by smoking status\", color = \"darkgreen\")\n",
    "plt.xlabel(\"smoker\")\n",
    "plt.ylabel(\"age mean\")\n",
    "plt.subplot(2,2,2)\n",
    "sns.barplot(x = smoker, y = smokerCharges, palette=\"crest\")\n",
    "plt.title(\"Average charges by child number\", color = \"blue\")\n",
    "plt.xlabel(\"smoker\")\n",
    "plt.ylabel(\"charges mean\")\n",
    "plt.subplot(2,2,(3,4))\n",
    "sns.boxplot(x=\"smoker\", y=\"charges\", hue=\"children\", linewidth=2.2, fliersize= 3.2 ,data=data, saturation=1, palette=\"YlOrRd\")\n",
    "\n",
    "plt.show()"
   ]
  },
  {
   "cell_type": "markdown",
   "metadata": {},
   "source": [
    "<ul>\n",
    "    <li style = \"color:darkgreen\"> <p style = \"color:darkgreen;font-family:Comic Sans MS\" > In the first graph, the average age of smokers and non-smokers is looked at. </p> </li>\n",
    "        <li style = \"color:darkblue\"> <p style = \"color:darkblue;font-family:Comic Sans MS\" > In the second graph, we look at the impact of smoking status on wages. Here we see that smokers pay much more than non-smokers.</p> </li>\n",
    "            <li style = \"color:darkred\"> <p style = \"color:darkred;font-family:Comic Sans MS\" >In the third graph, we see how the smoking status and also how the number of children affected wages.</p> </li>\n",
    "</ul>"
   ]
  },
  {
   "cell_type": "markdown",
   "metadata": {},
   "source": [
    "#   Region"
   ]
  },
  {
   "cell_type": "code",
   "execution_count": 22,
   "metadata": {
    "_kg_hide-input": true,
    "execution": {
     "iopub.execute_input": "2021-05-21T19:16:54.936148Z",
     "iopub.status.busy": "2021-05-21T19:16:54.935854Z",
     "iopub.status.idle": "2021-05-21T19:16:55.216820Z",
     "shell.execute_reply": "2021-05-21T19:16:55.215526Z",
     "shell.execute_reply.started": "2021-05-21T19:16:54.936119Z"
    }
   },
   "outputs": [
    {
     "data": {
      "image/png": "[encoded data removed]",
      "text/plain": [
       "<Figure size 792x720 with 2 Axes>"
      ]
     },
     "metadata": {
      "needs_background": "light"
     },
     "output_type": "display_data"
    }
   ],
   "source": [
    "regionCharges = []\n",
    "regionBmi = []\n",
    "\n",
    "for each in regions:\n",
    "    regionn = data[data[\"region\"] == each]\n",
    "    bmiRegion = regionn[\"bmi\"].mean()\n",
    "    chargesRegion = regionn[\"charges\"].mean()\n",
    "    regionCharges.append(chargesRegion)\n",
    "    regionBmi.append(bmiRegion)\n",
    "    \n",
    "plt.figure(figsize=(11,10))\n",
    "plt.subplot(2,2,1)\n",
    "sns.barplot(x = regions, y = regionCharges, palette= \"Greens\")\n",
    "plt.title(\"charges by region\", color = \"darkgreen\")\n",
    "plt.xlabel(\"regions\")\n",
    "plt.ylabel(\"charges mean\")\n",
    "plt.subplot(2,2,2)\n",
    "sns.barplot(x = regions, y = regionBmi, palette=\"crest\")\n",
    "plt.title(\"bmi by region\", color = \"blue\")\n",
    "plt.xlabel(\"regions\")\n",
    "plt.ylabel(\"bmi mean\")\n",
    "\n",
    "plt.show()"
   ]
  },
  {
   "cell_type": "markdown",
   "metadata": {},
   "source": [
    "<ul>\n",
    "    <li style = \"color:darkgreen\"> <p style = \"color:darkgreen;font-family:Comic Sans MS\" > In the first graph, we see the average wage paid by region. Southeast also we see that the wage paid is higher than the others.</p> </li>\n",
    "        <li style = \"color:darkblue\"> <p style = \"color:darkblue;font-family:Comic Sans MS\" >In the second graph, we look at the bmi by region.</p> </li>\n",
    "</ul>"
   ]
  },
  {
   "cell_type": "markdown",
   "metadata": {},
   "source": [
    "#  Charges"
   ]
  },
  {
   "cell_type": "code",
   "execution_count": 23,
   "metadata": {
    "_kg_hide-input": true,
    "execution": {
     "iopub.execute_input": "2021-05-21T19:16:55.222714Z",
     "iopub.status.busy": "2021-05-21T19:16:55.222383Z",
     "iopub.status.idle": "2021-05-21T19:16:55.598055Z",
     "shell.execute_reply": "2021-05-21T19:16:55.596852Z",
     "shell.execute_reply.started": "2021-05-21T19:16:55.222683Z"
    }
   },
   "outputs": [
    {
     "data": {
      "image/png": "[encoded data removed]",
      "text/plain": [
       "<Figure size 720x288 with 2 Axes>"
      ]
     },
     "metadata": {
      "needs_background": "light"
     },
     "output_type": "display_data"
    }
   ],
   "source": [
    "plt.figure(figsize=(10,4))\n",
    "plt.subplot(1,2,1)\n",
    "plt.hist(data[\"charges\"], color=\"pink\")\n",
    "plt.xlabel(\"charges\")\n",
    "plt.ylabel(\"Frequency\")\n",
    "plt.title(\"charges histogram\", color = \"darkred\")\n",
    "plt.subplot(1,2,2)\n",
    "sns.distplot(data[\"charges\"], fit=norm)\n",
    "plt.title(\"charges Distplot\", color = \"darkred\")\n",
    "\n",
    "plt.show()"
   ]
  },
  {
   "cell_type": "markdown",
   "metadata": {},
   "source": [
    "<ul>\n",
    "    <li style = \"color:black\"> <p style = \"color:black;font-family:Comic Sans MS\" > We take a look at the charges distribution. On the second graph we can see more clearly that there is a tail to the right. We can edit this in the feature review section. It will make our model better.</p> </li>\n",
    "        <li style = \"color:darkblue\"> <p style = \"color:darkblue;font-family:Comic Sans MS\" > this is called positive skewness or right skewness.</p> </li>\n",
    "           \n",
    "</ul>"
   ]
  },
  {
   "cell_type": "markdown",
   "metadata": {},
   "source": [
    "#  Feature Engineering\n",
    "\n",
    "In this section, we will make some corrections that we noted above and we will make the features more suitable for the model. \n",
    "\n",
    "<ul>\n",
    "        <li style = \"color:darkred\"> <p style = \"color:black;font-family:Comic Sans MS;font-weight:bold\" > Sex </p> </li>\n",
    "        <li style = \"color:darkred\"> <p style = \"color:black;font-family:Comic Sans MS;font-weight:bold\" > Children </p> </li>\n",
    "            <li style = \"color:darkred\"> <p style = \"color:black;font-family:Comic Sans MS;font-weight:bold\" >Smoker </p> </li>\n",
    "                <li style = \"color:darkred\"> <p style = \"color:black;font-family:Comic Sans MS;font-weight:bold\" >Region </p> </li>\n",
    "                <li style = \"color:darkred\"> <p style = \"color:black;font-family:Comic Sans MS;font-weight:bold\" >Charges </p> </li>\n",
    "</ul>"
   ]
  },
  {
   "cell_type": "code",
   "execution_count": null,
   "metadata": {},
   "outputs": [],
   "source": []
  },
  {
   "cell_type": "markdown",
   "metadata": {},
   "source": [
    "#  Sex"
   ]
  },
  {
   "cell_type": "code",
   "execution_count": 24,
   "metadata": {
    "execution": {
     "iopub.execute_input": "2021-05-21T19:16:55.602185Z",
     "iopub.status.busy": "2021-05-21T19:16:55.601829Z",
     "iopub.status.idle": "2021-05-21T19:16:55.630307Z",
     "shell.execute_reply": "2021-05-21T19:16:55.629189Z",
     "shell.execute_reply.started": "2021-05-21T19:16:55.602155Z"
    }
   },
   "outputs": [
    {
     "data": {
      "text/html": [
       "<div>\n",
       "<style scoped>\n",
       "    .dataframe tbody tr th:only-of-type {\n",
       "        vertical-align: middle;\n",
       "    }\n",
       "\n",
       "    .dataframe tbody tr th {\n",
       "        vertical-align: top;\n",
       "    }\n",
       "\n",
       "    .dataframe thead th {\n",
       "        text-align: right;\n",
       "    }\n",
       "</style>\n",
       "<table border=\"1\" class=\"dataframe\">\n",
       "  <thead>\n",
       "    <tr style=\"text-align: right;\">\n",
       "      <th></th>\n",
       "      <th>age</th>\n",
       "      <th>bmi</th>\n",
       "      <th>children</th>\n",
       "      <th>smoker</th>\n",
       "      <th>region</th>\n",
       "      <th>charges</th>\n",
       "      <th>sex_0</th>\n",
       "      <th>sex_1</th>\n",
       "    </tr>\n",
       "  </thead>\n",
       "  <tbody>\n",
       "    <tr>\n",
       "      <th>0</th>\n",
       "      <td>19</td>\n",
       "      <td>27.900</td>\n",
       "      <td>0</td>\n",
       "      <td>yes</td>\n",
       "      <td>southwest</td>\n",
       "      <td>16884.92400</td>\n",
       "      <td>1</td>\n",
       "      <td>0</td>\n",
       "    </tr>\n",
       "    <tr>\n",
       "      <th>1</th>\n",
       "      <td>18</td>\n",
       "      <td>33.770</td>\n",
       "      <td>1</td>\n",
       "      <td>no</td>\n",
       "      <td>southeast</td>\n",
       "      <td>1725.55230</td>\n",
       "      <td>0</td>\n",
       "      <td>1</td>\n",
       "    </tr>\n",
       "    <tr>\n",
       "      <th>2</th>\n",
       "      <td>28</td>\n",
       "      <td>33.000</td>\n",
       "      <td>3</td>\n",
       "      <td>no</td>\n",
       "      <td>southeast</td>\n",
       "      <td>4449.46200</td>\n",
       "      <td>0</td>\n",
       "      <td>1</td>\n",
       "    </tr>\n",
       "    <tr>\n",
       "      <th>3</th>\n",
       "      <td>33</td>\n",
       "      <td>22.705</td>\n",
       "      <td>0</td>\n",
       "      <td>no</td>\n",
       "      <td>northwest</td>\n",
       "      <td>21984.47061</td>\n",
       "      <td>0</td>\n",
       "      <td>1</td>\n",
       "    </tr>\n",
       "    <tr>\n",
       "      <th>4</th>\n",
       "      <td>32</td>\n",
       "      <td>28.880</td>\n",
       "      <td>0</td>\n",
       "      <td>no</td>\n",
       "      <td>northwest</td>\n",
       "      <td>3866.85520</td>\n",
       "      <td>0</td>\n",
       "      <td>1</td>\n",
       "    </tr>\n",
       "  </tbody>\n",
       "</table>\n",
       "</div>"
      ],
      "text/plain": [
       "   age     bmi  children smoker     region      charges  sex_0  sex_1\n",
       "0   19  27.900         0    yes  southwest  16884.92400      1      0\n",
       "1   18  33.770         1     no  southeast   1725.55230      0      1\n",
       "2   28  33.000         3     no  southeast   4449.46200      0      1\n",
       "3   33  22.705         0     no  northwest  21984.47061      0      1\n",
       "4   32  28.880         0     no  northwest   3866.85520      0      1"
      ]
     },
     "execution_count": 24,
     "metadata": {},
     "output_type": "execute_result"
    }
   ],
   "source": [
    "data[\"sex\"] = [0 if i == \"female\" else 1 for i in data[\"sex\"]]\n",
    "data[\"sex\"] = data[\"sex\"].astype(\"category\")\n",
    "data = pd.get_dummies(data, columns= [\"sex\"])\n",
    "data.head()"
   ]
  },
  {
   "cell_type": "markdown",
   "metadata": {},
   "source": [
    "<ul>\n",
    "    <li style = \"color:black\"> <p style = \"color:black;font-family:Comic Sans MS\" >the gender is recorded as male and female. We change this to 0 and 1 so that our model can understand.</p> </li>\n",
    "        <li style = \"color:darkblue\"> <p style = \"color:darkblue;font-family:Comic Sans MS\" > female --> 0</p> </li>    \n",
    "            <li style = \"color:darkblue\"> <p style = \"color:darkblue;font-family:Comic Sans MS\" > male --> 1</p> </li>    \n",
    "</ul>"
   ]
  },
  {
   "cell_type": "markdown",
   "metadata": {},
   "source": [
    "# Children"
   ]
  },
  {
   "cell_type": "code",
   "execution_count": 25,
   "metadata": {
    "execution": {
     "iopub.execute_input": "2021-05-21T19:16:55.632006Z",
     "iopub.status.busy": "2021-05-21T19:16:55.631644Z",
     "iopub.status.idle": "2021-05-21T19:16:56.112948Z",
     "shell.execute_reply": "2021-05-21T19:16:56.111959Z",
     "shell.execute_reply.started": "2021-05-21T19:16:55.631970Z"
    }
   },
   "outputs": [
    {
     "data": {
      "image/png": "[encoded data removed]",
      "text/plain": [
       "<Figure size 360x360 with 1 Axes>"
      ]
     },
     "metadata": {
      "needs_background": "light"
     },
     "output_type": "display_data"
    }
   ],
   "source": [
    "g = sns.factorplot(x = \"children\", y = \"charges\", data = data, kind = \"bar\")\n",
    "g.set_ylabels(\"Charges Probability\")\n",
    "plt.show()"
   ]
  },
  {
   "cell_type": "markdown",
   "metadata": {},
   "source": [
    "<ul>\n",
    "    <li style = \"color:black\"> <p style = \"color:black;font-family:Comic Sans MS\" >We look at the effect of the number of children on wages. The effect of 2 and 3 on the model is almost the same, maybe they can be combined, but there is no need for now.</p> </li>\n",
    "</ul>"
   ]
  },
  {
   "cell_type": "code",
   "execution_count": 26,
   "metadata": {
    "execution": {
     "iopub.execute_input": "2021-05-21T19:16:56.116332Z",
     "iopub.status.busy": "2021-05-21T19:16:56.115612Z",
     "iopub.status.idle": "2021-05-21T19:16:56.139601Z",
     "shell.execute_reply": "2021-05-21T19:16:56.138619Z",
     "shell.execute_reply.started": "2021-05-21T19:16:56.116284Z"
    }
   },
   "outputs": [
    {
     "data": {
      "text/html": [
       "<div>\n",
       "<style scoped>\n",
       "    .dataframe tbody tr th:only-of-type {\n",
       "        vertical-align: middle;\n",
       "    }\n",
       "\n",
       "    .dataframe tbody tr th {\n",
       "        vertical-align: top;\n",
       "    }\n",
       "\n",
       "    .dataframe thead th {\n",
       "        text-align: right;\n",
       "    }\n",
       "</style>\n",
       "<table border=\"1\" class=\"dataframe\">\n",
       "  <thead>\n",
       "    <tr style=\"text-align: right;\">\n",
       "      <th></th>\n",
       "      <th>age</th>\n",
       "      <th>bmi</th>\n",
       "      <th>smoker</th>\n",
       "      <th>region</th>\n",
       "      <th>charges</th>\n",
       "      <th>sex_0</th>\n",
       "      <th>sex_1</th>\n",
       "      <th>children_0</th>\n",
       "      <th>children_1</th>\n",
       "      <th>children_2</th>\n",
       "      <th>children_3</th>\n",
       "      <th>children_4</th>\n",
       "      <th>children_5</th>\n",
       "    </tr>\n",
       "  </thead>\n",
       "  <tbody>\n",
       "    <tr>\n",
       "      <th>0</th>\n",
       "      <td>19</td>\n",
       "      <td>27.900</td>\n",
       "      <td>yes</td>\n",
       "      <td>southwest</td>\n",
       "      <td>16884.92400</td>\n",
       "      <td>1</td>\n",
       "      <td>0</td>\n",
       "      <td>1</td>\n",
       "      <td>0</td>\n",
       "      <td>0</td>\n",
       "      <td>0</td>\n",
       "      <td>0</td>\n",
       "      <td>0</td>\n",
       "    </tr>\n",
       "    <tr>\n",
       "      <th>1</th>\n",
       "      <td>18</td>\n",
       "      <td>33.770</td>\n",
       "      <td>no</td>\n",
       "      <td>southeast</td>\n",
       "      <td>1725.55230</td>\n",
       "      <td>0</td>\n",
       "      <td>1</td>\n",
       "      <td>0</td>\n",
       "      <td>1</td>\n",
       "      <td>0</td>\n",
       "      <td>0</td>\n",
       "      <td>0</td>\n",
       "      <td>0</td>\n",
       "    </tr>\n",
       "    <tr>\n",
       "      <th>2</th>\n",
       "      <td>28</td>\n",
       "      <td>33.000</td>\n",
       "      <td>no</td>\n",
       "      <td>southeast</td>\n",
       "      <td>4449.46200</td>\n",
       "      <td>0</td>\n",
       "      <td>1</td>\n",
       "      <td>0</td>\n",
       "      <td>0</td>\n",
       "      <td>0</td>\n",
       "      <td>1</td>\n",
       "      <td>0</td>\n",
       "      <td>0</td>\n",
       "    </tr>\n",
       "    <tr>\n",
       "      <th>3</th>\n",
       "      <td>33</td>\n",
       "      <td>22.705</td>\n",
       "      <td>no</td>\n",
       "      <td>northwest</td>\n",
       "      <td>21984.47061</td>\n",
       "      <td>0</td>\n",
       "      <td>1</td>\n",
       "      <td>1</td>\n",
       "      <td>0</td>\n",
       "      <td>0</td>\n",
       "      <td>0</td>\n",
       "      <td>0</td>\n",
       "      <td>0</td>\n",
       "    </tr>\n",
       "    <tr>\n",
       "      <th>4</th>\n",
       "      <td>32</td>\n",
       "      <td>28.880</td>\n",
       "      <td>no</td>\n",
       "      <td>northwest</td>\n",
       "      <td>3866.85520</td>\n",
       "      <td>0</td>\n",
       "      <td>1</td>\n",
       "      <td>1</td>\n",
       "      <td>0</td>\n",
       "      <td>0</td>\n",
       "      <td>0</td>\n",
       "      <td>0</td>\n",
       "      <td>0</td>\n",
       "    </tr>\n",
       "  </tbody>\n",
       "</table>\n",
       "</div>"
      ],
      "text/plain": [
       "   age     bmi smoker     region      charges  sex_0  sex_1  children_0  \\\n",
       "0   19  27.900    yes  southwest  16884.92400      1      0           1   \n",
       "1   18  33.770     no  southeast   1725.55230      0      1           0   \n",
       "2   28  33.000     no  southeast   4449.46200      0      1           0   \n",
       "3   33  22.705     no  northwest  21984.47061      0      1           1   \n",
       "4   32  28.880     no  northwest   3866.85520      0      1           1   \n",
       "\n",
       "   children_1  children_2  children_3  children_4  children_5  \n",
       "0           0           0           0           0           0  \n",
       "1           1           0           0           0           0  \n",
       "2           0           0           1           0           0  \n",
       "3           0           0           0           0           0  \n",
       "4           0           0           0           0           0  "
      ]
     },
     "execution_count": 26,
     "metadata": {},
     "output_type": "execute_result"
    }
   ],
   "source": [
    "data[\"children\"] = data[\"children\"].astype(\"category\")\n",
    "data = pd.get_dummies(data, columns= [\"children\"])\n",
    "data.head()"
   ]
  },
  {
   "cell_type": "markdown",
   "metadata": {},
   "source": [
    "#  Smoker"
   ]
  },
  {
   "cell_type": "code",
   "execution_count": 27,
   "metadata": {
    "execution": {
     "iopub.execute_input": "2021-05-21T19:16:56.141734Z",
     "iopub.status.busy": "2021-05-21T19:16:56.141039Z",
     "iopub.status.idle": "2021-05-21T19:16:56.149084Z",
     "shell.execute_reply": "2021-05-21T19:16:56.148281Z",
     "shell.execute_reply.started": "2021-05-21T19:16:56.141687Z"
    }
   },
   "outputs": [],
   "source": [
    "data[\"smoker\"] = [0 if i == \"no\" else 1 for i in data[\"smoker\"]]"
   ]
  },
  {
   "cell_type": "markdown",
   "metadata": {},
   "source": [
    "<ul>\n",
    "    <li style = \"color:black\"> <p style = \"color:black;font-family:Comic Sans MS\" >We change the data saved as yes and no to 0 and 1.</p> </li>\n",
    "        <li style = \"color:darkred\"> <p style = \"color:darkred;font-family:Comic Sans MS\" > no --> 0</p> </li>    \n",
    "            <li style = \"color:darkred\"> <p style = \"color:darkred;font-family:Comic Sans MS\" > yes --> 1</p> </li>    \n",
    "</ul>"
   ]
  },
  {
   "cell_type": "code",
   "execution_count": 28,
   "metadata": {
    "execution": {
     "iopub.execute_input": "2021-05-21T19:16:56.151096Z",
     "iopub.status.busy": "2021-05-21T19:16:56.150507Z",
     "iopub.status.idle": "2021-05-21T19:16:56.266887Z",
     "shell.execute_reply": "2021-05-21T19:16:56.266180Z",
     "shell.execute_reply.started": "2021-05-21T19:16:56.151052Z"
    }
   },
   "outputs": [
    {
     "data": {
      "image/png": "[encoded data removed]",
      "text/plain": [
       "<Figure size 360x216 with 1 Axes>"
      ]
     },
     "metadata": {
      "needs_background": "light"
     },
     "output_type": "display_data"
    }
   ],
   "source": [
    "plt.figure(figsize=(5,3))\n",
    "sns.countplot(x=\"smoker\", data = data)\n",
    "plt.xticks(rotation = 60)\n",
    "plt.show()"
   ]
  },
  {
   "cell_type": "code",
   "execution_count": 29,
   "metadata": {
    "execution": {
     "iopub.execute_input": "2021-05-21T19:16:56.268666Z",
     "iopub.status.busy": "2021-05-21T19:16:56.268094Z",
     "iopub.status.idle": "2021-05-21T19:16:56.585874Z",
     "shell.execute_reply": "2021-05-21T19:16:56.585074Z",
     "shell.execute_reply.started": "2021-05-21T19:16:56.268622Z"
    }
   },
   "outputs": [
    {
     "data": {
      "image/png": "[encoded data removed]",
      "text/plain": [
       "<Figure size 360x360 with 1 Axes>"
      ]
     },
     "metadata": {
      "needs_background": "light"
     },
     "output_type": "display_data"
    }
   ],
   "source": [
    "g = sns.factorplot(x = \"smoker\", y = \"charges\", data = data, kind = \"bar\")\n",
    "g.set_ylabels(\"Charges Probability\")\n",
    "plt.show()"
   ]
  },
  {
   "cell_type": "code",
   "execution_count": 30,
   "metadata": {
    "execution": {
     "iopub.execute_input": "2021-05-21T19:16:56.587761Z",
     "iopub.status.busy": "2021-05-21T19:16:56.587120Z",
     "iopub.status.idle": "2021-05-21T19:16:56.611446Z",
     "shell.execute_reply": "2021-05-21T19:16:56.610365Z",
     "shell.execute_reply.started": "2021-05-21T19:16:56.587714Z"
    }
   },
   "outputs": [
    {
     "data": {
      "text/html": [
       "<div>\n",
       "<style scoped>\n",
       "    .dataframe tbody tr th:only-of-type {\n",
       "        vertical-align: middle;\n",
       "    }\n",
       "\n",
       "    .dataframe tbody tr th {\n",
       "        vertical-align: top;\n",
       "    }\n",
       "\n",
       "    .dataframe thead th {\n",
       "        text-align: right;\n",
       "    }\n",
       "</style>\n",
       "<table border=\"1\" class=\"dataframe\">\n",
       "  <thead>\n",
       "    <tr style=\"text-align: right;\">\n",
       "      <th></th>\n",
       "      <th>age</th>\n",
       "      <th>bmi</th>\n",
       "      <th>region</th>\n",
       "      <th>charges</th>\n",
       "      <th>sex_0</th>\n",
       "      <th>sex_1</th>\n",
       "      <th>children_0</th>\n",
       "      <th>children_1</th>\n",
       "      <th>children_2</th>\n",
       "      <th>children_3</th>\n",
       "      <th>children_4</th>\n",
       "      <th>children_5</th>\n",
       "      <th>smoker_0</th>\n",
       "      <th>smoker_1</th>\n",
       "    </tr>\n",
       "  </thead>\n",
       "  <tbody>\n",
       "    <tr>\n",
       "      <th>0</th>\n",
       "      <td>19</td>\n",
       "      <td>27.900</td>\n",
       "      <td>southwest</td>\n",
       "      <td>16884.92400</td>\n",
       "      <td>1</td>\n",
       "      <td>0</td>\n",
       "      <td>1</td>\n",
       "      <td>0</td>\n",
       "      <td>0</td>\n",
       "      <td>0</td>\n",
       "      <td>0</td>\n",
       "      <td>0</td>\n",
       "      <td>0</td>\n",
       "      <td>1</td>\n",
       "    </tr>\n",
       "    <tr>\n",
       "      <th>1</th>\n",
       "      <td>18</td>\n",
       "      <td>33.770</td>\n",
       "      <td>southeast</td>\n",
       "      <td>1725.55230</td>\n",
       "      <td>0</td>\n",
       "      <td>1</td>\n",
       "      <td>0</td>\n",
       "      <td>1</td>\n",
       "      <td>0</td>\n",
       "      <td>0</td>\n",
       "      <td>0</td>\n",
       "      <td>0</td>\n",
       "      <td>1</td>\n",
       "      <td>0</td>\n",
       "    </tr>\n",
       "    <tr>\n",
       "      <th>2</th>\n",
       "      <td>28</td>\n",
       "      <td>33.000</td>\n",
       "      <td>southeast</td>\n",
       "      <td>4449.46200</td>\n",
       "      <td>0</td>\n",
       "      <td>1</td>\n",
       "      <td>0</td>\n",
       "      <td>0</td>\n",
       "      <td>0</td>\n",
       "      <td>1</td>\n",
       "      <td>0</td>\n",
       "      <td>0</td>\n",
       "      <td>1</td>\n",
       "      <td>0</td>\n",
       "    </tr>\n",
       "    <tr>\n",
       "      <th>3</th>\n",
       "      <td>33</td>\n",
       "      <td>22.705</td>\n",
       "      <td>northwest</td>\n",
       "      <td>21984.47061</td>\n",
       "      <td>0</td>\n",
       "      <td>1</td>\n",
       "      <td>1</td>\n",
       "      <td>0</td>\n",
       "      <td>0</td>\n",
       "      <td>0</td>\n",
       "      <td>0</td>\n",
       "      <td>0</td>\n",
       "      <td>1</td>\n",
       "      <td>0</td>\n",
       "    </tr>\n",
       "    <tr>\n",
       "      <th>4</th>\n",
       "      <td>32</td>\n",
       "      <td>28.880</td>\n",
       "      <td>northwest</td>\n",
       "      <td>3866.85520</td>\n",
       "      <td>0</td>\n",
       "      <td>1</td>\n",
       "      <td>1</td>\n",
       "      <td>0</td>\n",
       "      <td>0</td>\n",
       "      <td>0</td>\n",
       "      <td>0</td>\n",
       "      <td>0</td>\n",
       "      <td>1</td>\n",
       "      <td>0</td>\n",
       "    </tr>\n",
       "  </tbody>\n",
       "</table>\n",
       "</div>"
      ],
      "text/plain": [
       "   age     bmi     region      charges  sex_0  sex_1  children_0  children_1  \\\n",
       "0   19  27.900  southwest  16884.92400      1      0           1           0   \n",
       "1   18  33.770  southeast   1725.55230      0      1           0           1   \n",
       "2   28  33.000  southeast   4449.46200      0      1           0           0   \n",
       "3   33  22.705  northwest  21984.47061      0      1           1           0   \n",
       "4   32  28.880  northwest   3866.85520      0      1           1           0   \n",
       "\n",
       "   children_2  children_3  children_4  children_5  smoker_0  smoker_1  \n",
       "0           0           0           0           0         0         1  \n",
       "1           0           0           0           0         1         0  \n",
       "2           0           1           0           0         1         0  \n",
       "3           0           0           0           0         1         0  \n",
       "4           0           0           0           0         1         0  "
      ]
     },
     "execution_count": 30,
     "metadata": {},
     "output_type": "execute_result"
    }
   ],
   "source": [
    "data[\"smoker\"] = data[\"smoker\"].astype(\"category\")\n",
    "data = pd.get_dummies(data, columns= [\"smoker\"])\n",
    "data.head()"
   ]
  },
  {
   "cell_type": "markdown",
   "metadata": {},
   "source": [
    "#  Region"
   ]
  },
  {
   "cell_type": "code",
   "execution_count": 31,
   "metadata": {
    "execution": {
     "iopub.execute_input": "2021-05-21T19:16:56.613863Z",
     "iopub.status.busy": "2021-05-21T19:16:56.613123Z",
     "iopub.status.idle": "2021-05-21T19:16:56.621752Z",
     "shell.execute_reply": "2021-05-21T19:16:56.620965Z",
     "shell.execute_reply.started": "2021-05-21T19:16:56.613815Z"
    }
   },
   "outputs": [],
   "source": [
    "data[\"region\"] = [0 if i == \"southeast\" else 1 if i == \"southwest\" else 2 if i == \"northwest\" else 3 for i in data[\"region\"]]"
   ]
  },
  {
   "cell_type": "markdown",
   "metadata": {},
   "source": [
    "<ul>\n",
    "    <li style = \"color:black\"> <p style = \"color:black;font-family:Comic Sans MS\" >we are doing to the regions as we did above.</p> </li>\n",
    "        <li style = \"color:darkgreen\"> <p style = \"color:darkgreen;font-family:Comic Sans MS\" > southeast --> 0</p> </li>    \n",
    "            <li style = \"color:darkgreen\"> <p style = \"color:darkgreen;font-family:Comic Sans MS\" > southwest --> 1</p> </li>  \n",
    "            <li style = \"color:darkgreen\"> <p style = \"color:darkgreen;font-family:Comic Sans MS\" > northwest --> 2</p> </li>    \n",
    "            <li style = \"color:darkgreen\"> <p style = \"color:darkgreen;font-family:Comic Sans MS\" > northeast --> 3</p> </li>  \n",
    "</ul>"
   ]
  },
  {
   "cell_type": "code",
   "execution_count": 32,
   "metadata": {
    "execution": {
     "iopub.execute_input": "2021-05-21T19:16:56.623274Z",
     "iopub.status.busy": "2021-05-21T19:16:56.622874Z",
     "iopub.status.idle": "2021-05-21T19:16:56.917474Z",
     "shell.execute_reply": "2021-05-21T19:16:56.916682Z",
     "shell.execute_reply.started": "2021-05-21T19:16:56.623244Z"
    }
   },
   "outputs": [
    {
     "data": {
      "image/png": "[encoded data removed]",
      "text/plain": [
       "<Figure size 432x288 with 1 Axes>"
      ]
     },
     "metadata": {
      "needs_background": "light"
     },
     "output_type": "display_data"
    }
   ],
   "source": [
    "plt.figure(figsize=(6,4))\n",
    "sns.countplot(x=\"region\", data = data)\n",
    "plt.xticks(rotation = 60)\n",
    "plt.show()"
   ]
  },
  {
   "cell_type": "code",
   "execution_count": 33,
   "metadata": {
    "execution": {
     "iopub.execute_input": "2021-05-21T19:16:56.918908Z",
     "iopub.status.busy": "2021-05-21T19:16:56.918505Z",
     "iopub.status.idle": "2021-05-21T19:16:57.309427Z",
     "shell.execute_reply": "2021-05-21T19:16:57.308638Z",
     "shell.execute_reply.started": "2021-05-21T19:16:56.918878Z"
    }
   },
   "outputs": [
    {
     "data": {
      "image/png": "[encoded data removed]",
      "text/plain": [
       "<Figure size 360x360 with 1 Axes>"
      ]
     },
     "metadata": {
      "needs_background": "light"
     },
     "output_type": "display_data"
    }
   ],
   "source": [
    "g = sns.factorplot(x = \"region\", y = \"charges\", data = data, kind = \"bar\")\n",
    "g.set_ylabels(\"Charges Probability\")\n",
    "plt.show()"
   ]
  },
  {
   "cell_type": "code",
   "execution_count": 34,
   "metadata": {
    "execution": {
     "iopub.execute_input": "2021-05-21T19:16:57.311263Z",
     "iopub.status.busy": "2021-05-21T19:16:57.310686Z",
     "iopub.status.idle": "2021-05-21T19:16:57.333761Z",
     "shell.execute_reply": "2021-05-21T19:16:57.332782Z",
     "shell.execute_reply.started": "2021-05-21T19:16:57.311217Z"
    }
   },
   "outputs": [
    {
     "data": {
      "text/html": [
       "<div>\n",
       "<style scoped>\n",
       "    .dataframe tbody tr th:only-of-type {\n",
       "        vertical-align: middle;\n",
       "    }\n",
       "\n",
       "    .dataframe tbody tr th {\n",
       "        vertical-align: top;\n",
       "    }\n",
       "\n",
       "    .dataframe thead th {\n",
       "        text-align: right;\n",
       "    }\n",
       "</style>\n",
       "<table border=\"1\" class=\"dataframe\">\n",
       "  <thead>\n",
       "    <tr style=\"text-align: right;\">\n",
       "      <th></th>\n",
       "      <th>age</th>\n",
       "      <th>bmi</th>\n",
       "      <th>charges</th>\n",
       "      <th>sex_0</th>\n",
       "      <th>sex_1</th>\n",
       "      <th>children_0</th>\n",
       "      <th>children_1</th>\n",
       "      <th>children_2</th>\n",
       "      <th>children_3</th>\n",
       "      <th>children_4</th>\n",
       "      <th>children_5</th>\n",
       "      <th>smoker_0</th>\n",
       "      <th>smoker_1</th>\n",
       "      <th>region_0</th>\n",
       "      <th>region_1</th>\n",
       "      <th>region_2</th>\n",
       "      <th>region_3</th>\n",
       "    </tr>\n",
       "  </thead>\n",
       "  <tbody>\n",
       "    <tr>\n",
       "      <th>0</th>\n",
       "      <td>19</td>\n",
       "      <td>27.900</td>\n",
       "      <td>16884.92400</td>\n",
       "      <td>1</td>\n",
       "      <td>0</td>\n",
       "      <td>1</td>\n",
       "      <td>0</td>\n",
       "      <td>0</td>\n",
       "      <td>0</td>\n",
       "      <td>0</td>\n",
       "      <td>0</td>\n",
       "      <td>0</td>\n",
       "      <td>1</td>\n",
       "      <td>0</td>\n",
       "      <td>1</td>\n",
       "      <td>0</td>\n",
       "      <td>0</td>\n",
       "    </tr>\n",
       "    <tr>\n",
       "      <th>1</th>\n",
       "      <td>18</td>\n",
       "      <td>33.770</td>\n",
       "      <td>1725.55230</td>\n",
       "      <td>0</td>\n",
       "      <td>1</td>\n",
       "      <td>0</td>\n",
       "      <td>1</td>\n",
       "      <td>0</td>\n",
       "      <td>0</td>\n",
       "      <td>0</td>\n",
       "      <td>0</td>\n",
       "      <td>1</td>\n",
       "      <td>0</td>\n",
       "      <td>1</td>\n",
       "      <td>0</td>\n",
       "      <td>0</td>\n",
       "      <td>0</td>\n",
       "    </tr>\n",
       "    <tr>\n",
       "      <th>2</th>\n",
       "      <td>28</td>\n",
       "      <td>33.000</td>\n",
       "      <td>4449.46200</td>\n",
       "      <td>0</td>\n",
       "      <td>1</td>\n",
       "      <td>0</td>\n",
       "      <td>0</td>\n",
       "      <td>0</td>\n",
       "      <td>1</td>\n",
       "      <td>0</td>\n",
       "      <td>0</td>\n",
       "      <td>1</td>\n",
       "      <td>0</td>\n",
       "      <td>1</td>\n",
       "      <td>0</td>\n",
       "      <td>0</td>\n",
       "      <td>0</td>\n",
       "    </tr>\n",
       "    <tr>\n",
       "      <th>3</th>\n",
       "      <td>33</td>\n",
       "      <td>22.705</td>\n",
       "      <td>21984.47061</td>\n",
       "      <td>0</td>\n",
       "      <td>1</td>\n",
       "      <td>1</td>\n",
       "      <td>0</td>\n",
       "      <td>0</td>\n",
       "      <td>0</td>\n",
       "      <td>0</td>\n",
       "      <td>0</td>\n",
       "      <td>1</td>\n",
       "      <td>0</td>\n",
       "      <td>0</td>\n",
       "      <td>0</td>\n",
       "      <td>1</td>\n",
       "      <td>0</td>\n",
       "    </tr>\n",
       "    <tr>\n",
       "      <th>4</th>\n",
       "      <td>32</td>\n",
       "      <td>28.880</td>\n",
       "      <td>3866.85520</td>\n",
       "      <td>0</td>\n",
       "      <td>1</td>\n",
       "      <td>1</td>\n",
       "      <td>0</td>\n",
       "      <td>0</td>\n",
       "      <td>0</td>\n",
       "      <td>0</td>\n",
       "      <td>0</td>\n",
       "      <td>1</td>\n",
       "      <td>0</td>\n",
       "      <td>0</td>\n",
       "      <td>0</td>\n",
       "      <td>1</td>\n",
       "      <td>0</td>\n",
       "    </tr>\n",
       "  </tbody>\n",
       "</table>\n",
       "</div>"
      ],
      "text/plain": [
       "   age     bmi      charges  sex_0  sex_1  children_0  children_1  children_2  \\\n",
       "0   19  27.900  16884.92400      1      0           1           0           0   \n",
       "1   18  33.770   1725.55230      0      1           0           1           0   \n",
       "2   28  33.000   4449.46200      0      1           0           0           0   \n",
       "3   33  22.705  21984.47061      0      1           1           0           0   \n",
       "4   32  28.880   3866.85520      0      1           1           0           0   \n",
       "\n",
       "   children_3  children_4  children_5  smoker_0  smoker_1  region_0  region_1  \\\n",
       "0           0           0           0         0         1         0         1   \n",
       "1           0           0           0         1         0         1         0   \n",
       "2           1           0           0         1         0         1         0   \n",
       "3           0           0           0         1         0         0         0   \n",
       "4           0           0           0         1         0         0         0   \n",
       "\n",
       "   region_2  region_3  \n",
       "0         0         0  \n",
       "1         0         0  \n",
       "2         0         0  \n",
       "3         1         0  \n",
       "4         1         0  "
      ]
     },
     "execution_count": 34,
     "metadata": {},
     "output_type": "execute_result"
    }
   ],
   "source": [
    "data[\"region\"] = data[\"region\"].astype(\"category\")\n",
    "data = pd.get_dummies(data, columns= [\"region\"])\n",
    "data.head()"
   ]
  },
  {
   "cell_type": "markdown",
   "metadata": {},
   "source": [
    "#   Charges\n",
    "\n",
    "<ul>\n",
    "    <li style = \"color:darkred\"> <p style = \"color:darkred;font-family:Comic Sans MS\" >While examining the charges in the charts above, we noticed that there was skewness. We took notes to fix this. We're going to fix this here.</p> </li>\n",
    "</ul>"
   ]
  },
  {
   "cell_type": "code",
   "execution_count": 35,
   "metadata": {
    "execution": {
     "iopub.execute_input": "2021-05-21T19:16:57.337431Z",
     "iopub.status.busy": "2021-05-21T19:16:57.337111Z",
     "iopub.status.idle": "2021-05-21T19:16:57.342967Z",
     "shell.execute_reply": "2021-05-21T19:16:57.342164Z",
     "shell.execute_reply.started": "2021-05-21T19:16:57.337400Z"
    }
   },
   "outputs": [
    {
     "name": "stdout",
     "output_type": "stream",
     "text": [
      "mu charges : 13270.422265141257, sigma charges : 12105.484975561612\n"
     ]
    }
   ],
   "source": [
    "(mu, sigma) = norm.fit(data[\"charges\"])\n",
    "print(\"mu {} : {}, sigma {} : {}\".format(\"charges\", mu, \"charges\", sigma))\n"
   ]
  },
  {
   "cell_type": "code",
   "execution_count": 36,
   "metadata": {
    "execution": {
     "iopub.execute_input": "2021-05-21T19:16:57.344386Z",
     "iopub.status.busy": "2021-05-21T19:16:57.343984Z",
     "iopub.status.idle": "2021-05-21T19:16:57.706266Z",
     "shell.execute_reply": "2021-05-21T19:16:57.705220Z",
     "shell.execute_reply.started": "2021-05-21T19:16:57.344356Z"
    }
   },
   "outputs": [
    {
     "data": {
      "image/png": "[encoded data removed]",
      "text/plain": [
       "<Figure size 720x288 with 2 Axes>"
      ]
     },
     "metadata": {
      "needs_background": "light"
     },
     "output_type": "display_data"
    }
   ],
   "source": [
    "plt.figure(figsize=(10,4))\n",
    "plt.subplot(1,2,1)\n",
    "sns.distplot(data[\"charges\"], fit=norm)\n",
    "plt.title(\"charges Distplot\", color = \"darkred\")\n",
    "plt.subplot(1,2,2)\n",
    "stats.probplot(data[\"charges\"], plot = plt)\n",
    "plt.show()"
   ]
  },
  {
   "cell_type": "markdown",
   "metadata": {},
   "source": [
    "<ul>\n",
    "    <li style = \"color:darkblue\"> <p style = \"color:darkblue;font-family:Comic Sans MS\" >We have already taken a look at the first graphic above. We can see from the second graph that we have skewness in our data.</p> </li>\n",
    "        <li style = \"color:darkgreen\"> <p style = \"color:darkgreen;font-family:Comic Sans MS\" >The more data is collected above the middle red line, the better.</p> </li>\n",
    "</ul>"
   ]
  },
  {
   "cell_type": "code",
   "execution_count": 37,
   "metadata": {
    "execution": {
     "iopub.execute_input": "2021-05-21T19:16:57.707957Z",
     "iopub.status.busy": "2021-05-21T19:16:57.707664Z",
     "iopub.status.idle": "2021-05-21T19:16:57.712755Z",
     "shell.execute_reply": "2021-05-21T19:16:57.711851Z",
     "shell.execute_reply.started": "2021-05-21T19:16:57.707929Z"
    }
   },
   "outputs": [],
   "source": [
    "data[\"charges\"] = np.log1p(data[\"charges\"])"
   ]
  },
  {
   "cell_type": "markdown",
   "metadata": {},
   "source": [
    "<ul>\n",
    "    <li style = \"color:darkred\"> <p style = \"color:darkred;font-family:Comic Sans MS\" >There are many ways to fix this. one here we will use numpy library.</p> </li>\n",
    "</ul>"
   ]
  },
  {
   "cell_type": "code",
   "execution_count": 38,
   "metadata": {
    "execution": {
     "iopub.execute_input": "2021-05-21T19:16:57.714429Z",
     "iopub.status.busy": "2021-05-21T19:16:57.713964Z",
     "iopub.status.idle": "2021-05-21T19:16:57.731549Z",
     "shell.execute_reply": "2021-05-21T19:16:57.730365Z",
     "shell.execute_reply.started": "2021-05-21T19:16:57.714390Z"
    }
   },
   "outputs": [
    {
     "name": "stdout",
     "output_type": "stream",
     "text": [
      "mu charges : 9.098827980629359, sigma charges : 0.9190355163595243\n"
     ]
    }
   ],
   "source": [
    "(mu, sigma) = norm.fit(data[\"charges\"])\n",
    "print(\"mu {} : {}, sigma {} : {}\".format(\"charges\", mu, \"charges\", sigma))"
   ]
  },
  {
   "cell_type": "code",
   "execution_count": 39,
   "metadata": {
    "execution": {
     "iopub.execute_input": "2021-05-21T19:16:57.733501Z",
     "iopub.status.busy": "2021-05-21T19:16:57.733178Z",
     "iopub.status.idle": "2021-05-21T19:16:58.090218Z",
     "shell.execute_reply": "2021-05-21T19:16:58.088905Z",
     "shell.execute_reply.started": "2021-05-21T19:16:57.733472Z"
    }
   },
   "outputs": [
    {
     "data": {
      "image/png": "[encoded data removed]",
      "text/plain": [
       "<Figure size 720x288 with 2 Axes>"
      ]
     },
     "metadata": {
      "needs_background": "light"
     },
     "output_type": "display_data"
    }
   ],
   "source": [
    "plt.figure(figsize=(10,4))\n",
    "plt.subplot(1,2,1)\n",
    "sns.distplot(data[\"charges\"], fit=norm)\n",
    "plt.title(\"charges Distplot\", color = \"darkred\")\n",
    "plt.subplot(1,2,2)\n",
    "stats.probplot(data[\"charges\"], plot = plt)\n",
    "plt.show()"
   ]
  },
  {
   "cell_type": "markdown",
   "metadata": {},
   "source": [
    "<ul>\n",
    "    <li style = \"color:black\"> <p style = \"color:black;font-family:Comic Sans MS\" >As you can see by comparing with the 2 graphs above. We see the fix.</p> </li>\n",
    "</ul>"
   ]
  },
  {
   "cell_type": "markdown",
   "metadata": {},
   "source": [
    "#  Modeling\n",
    "\n",
    "<ul>\n",
    "        <li style = \"color:darkred\"> <p style = \"color:black;font-family:Comic Sans MS;font-weight:bold\" > Import Model Library </p> </li>\n",
    "        <li style = \"color:darkred\"> <p style = \"color:black;font-family:Comic Sans MS;font-weight:bold\" > Train - Test Split </p> </li>\n",
    "            <li style = \"color:darkred\"> <p style = \"color:black;font-family:Comic Sans MS;font-weight:bold\" >StandardScaler </p> </li>\n",
    "                <li style = \"color:darkred\"> <p style = \"color:black;font-family:Comic Sans MS;font-weight:bold\" >Linear Regression </p> </li>\n",
    "                <li style = \"color:darkred\"> <p style = \"color:black;font-family:Comic Sans MS;font-weight:bold\" >Random Forest Regression </p> </li>\n",
    "            <li style = \"color:darkred\"> <p style = \"color:black;font-family:Comic Sans MS;font-weight:bold\" > XGB Regression </p> </li>\n",
    "        <li style = \"color:darkred\"> <p style = \"color:black;font-family:Comic Sans MS;font-weight:bold\" > XGBRF Regression </p> </li>\n",
    "            <li style = \"color:darkred\"> <p style = \"color:black;font-family:Comic Sans MS;font-weight:bold\" >MLP Regression </p> </li>\n",
    "                <li style = \"color:darkred\"> <p style = \"color:black;font-family:Comic Sans MS;font-weight:bold\" >Ridge Regression</p> </li>\n",
    "                <li style = \"color:darkred\"> <p style = \"color:black;font-family:Comic Sans MS;font-weight:bold\" >KNN Regression </p> </li>\n",
    "                <li style = \"color:darkred\"> <p style = \"color:black;font-family:Comic Sans MS;font-weight:bold\" >Ridge Regression</p> </li>\n",
    "</ul>"
   ]
  },
  {
   "cell_type": "markdown",
   "metadata": {},
   "source": [
    "#   Import Model Libraries"
   ]
  },
  {
   "cell_type": "code",
   "execution_count": 40,
   "metadata": {
    "execution": {
     "iopub.execute_input": "2021-05-21T19:16:58.092192Z",
     "iopub.status.busy": "2021-05-21T19:16:58.091728Z",
     "iopub.status.idle": "2021-05-21T19:16:58.783295Z",
     "shell.execute_reply": "2021-05-21T19:16:58.782274Z",
     "shell.execute_reply.started": "2021-05-21T19:16:58.092143Z"
    }
   },
   "outputs": [],
   "source": [
    "from sklearn.linear_model import LinearRegression, Ridge\n",
    "from sklearn.model_selection import train_test_split, StratifiedKFold, GridSearchCV, RandomizedSearchCV\n",
    "from sklearn.preprocessing import StandardScaler\n",
    "from sklearn.metrics import r2_score\n",
    "from sklearn import metrics\n",
    "from sklearn.ensemble import RandomForestRegressor\n",
    "from sklearn.neural_network import MLPRegressor\n",
    "from sklearn.ensemble import GradientBoostingRegressor"
   ]
  },
  {
   "cell_type": "code",
   "execution_count": 41,
   "metadata": {
    "execution": {
     "iopub.execute_input": "2021-05-21T19:16:58.785598Z",
     "iopub.status.busy": "2021-05-21T19:16:58.785155Z",
     "iopub.status.idle": "2021-05-21T19:16:58.803364Z",
     "shell.execute_reply": "2021-05-21T19:16:58.802578Z",
     "shell.execute_reply.started": "2021-05-21T19:16:58.785534Z"
    }
   },
   "outputs": [
    {
     "data": {
      "text/html": [
       "<div>\n",
       "<style scoped>\n",
       "    .dataframe tbody tr th:only-of-type {\n",
       "        vertical-align: middle;\n",
       "    }\n",
       "\n",
       "    .dataframe tbody tr th {\n",
       "        vertical-align: top;\n",
       "    }\n",
       "\n",
       "    .dataframe thead th {\n",
       "        text-align: right;\n",
       "    }\n",
       "</style>\n",
       "<table border=\"1\" class=\"dataframe\">\n",
       "  <thead>\n",
       "    <tr style=\"text-align: right;\">\n",
       "      <th></th>\n",
       "      <th>age</th>\n",
       "      <th>bmi</th>\n",
       "      <th>charges</th>\n",
       "      <th>sex_0</th>\n",
       "      <th>sex_1</th>\n",
       "      <th>children_0</th>\n",
       "      <th>children_1</th>\n",
       "      <th>children_2</th>\n",
       "      <th>children_3</th>\n",
       "      <th>children_4</th>\n",
       "      <th>children_5</th>\n",
       "      <th>smoker_0</th>\n",
       "      <th>smoker_1</th>\n",
       "      <th>region_0</th>\n",
       "      <th>region_1</th>\n",
       "      <th>region_2</th>\n",
       "      <th>region_3</th>\n",
       "    </tr>\n",
       "  </thead>\n",
       "  <tbody>\n",
       "    <tr>\n",
       "      <th>0</th>\n",
       "      <td>19</td>\n",
       "      <td>27.900</td>\n",
       "      <td>9.734236</td>\n",
       "      <td>1</td>\n",
       "      <td>0</td>\n",
       "      <td>1</td>\n",
       "      <td>0</td>\n",
       "      <td>0</td>\n",
       "      <td>0</td>\n",
       "      <td>0</td>\n",
       "      <td>0</td>\n",
       "      <td>0</td>\n",
       "      <td>1</td>\n",
       "      <td>0</td>\n",
       "      <td>1</td>\n",
       "      <td>0</td>\n",
       "      <td>0</td>\n",
       "    </tr>\n",
       "    <tr>\n",
       "      <th>1</th>\n",
       "      <td>18</td>\n",
       "      <td>33.770</td>\n",
       "      <td>7.453882</td>\n",
       "      <td>0</td>\n",
       "      <td>1</td>\n",
       "      <td>0</td>\n",
       "      <td>1</td>\n",
       "      <td>0</td>\n",
       "      <td>0</td>\n",
       "      <td>0</td>\n",
       "      <td>0</td>\n",
       "      <td>1</td>\n",
       "      <td>0</td>\n",
       "      <td>1</td>\n",
       "      <td>0</td>\n",
       "      <td>0</td>\n",
       "      <td>0</td>\n",
       "    </tr>\n",
       "    <tr>\n",
       "      <th>2</th>\n",
       "      <td>28</td>\n",
       "      <td>33.000</td>\n",
       "      <td>8.400763</td>\n",
       "      <td>0</td>\n",
       "      <td>1</td>\n",
       "      <td>0</td>\n",
       "      <td>0</td>\n",
       "      <td>0</td>\n",
       "      <td>1</td>\n",
       "      <td>0</td>\n",
       "      <td>0</td>\n",
       "      <td>1</td>\n",
       "      <td>0</td>\n",
       "      <td>1</td>\n",
       "      <td>0</td>\n",
       "      <td>0</td>\n",
       "      <td>0</td>\n",
       "    </tr>\n",
       "    <tr>\n",
       "      <th>3</th>\n",
       "      <td>33</td>\n",
       "      <td>22.705</td>\n",
       "      <td>9.998137</td>\n",
       "      <td>0</td>\n",
       "      <td>1</td>\n",
       "      <td>1</td>\n",
       "      <td>0</td>\n",
       "      <td>0</td>\n",
       "      <td>0</td>\n",
       "      <td>0</td>\n",
       "      <td>0</td>\n",
       "      <td>1</td>\n",
       "      <td>0</td>\n",
       "      <td>0</td>\n",
       "      <td>0</td>\n",
       "      <td>1</td>\n",
       "      <td>0</td>\n",
       "    </tr>\n",
       "    <tr>\n",
       "      <th>4</th>\n",
       "      <td>32</td>\n",
       "      <td>28.880</td>\n",
       "      <td>8.260455</td>\n",
       "      <td>0</td>\n",
       "      <td>1</td>\n",
       "      <td>1</td>\n",
       "      <td>0</td>\n",
       "      <td>0</td>\n",
       "      <td>0</td>\n",
       "      <td>0</td>\n",
       "      <td>0</td>\n",
       "      <td>1</td>\n",
       "      <td>0</td>\n",
       "      <td>0</td>\n",
       "      <td>0</td>\n",
       "      <td>1</td>\n",
       "      <td>0</td>\n",
       "    </tr>\n",
       "  </tbody>\n",
       "</table>\n",
       "</div>"
      ],
      "text/plain": [
       "   age     bmi   charges  sex_0  sex_1  children_0  children_1  children_2  \\\n",
       "0   19  27.900  9.734236      1      0           1           0           0   \n",
       "1   18  33.770  7.453882      0      1           0           1           0   \n",
       "2   28  33.000  8.400763      0      1           0           0           0   \n",
       "3   33  22.705  9.998137      0      1           1           0           0   \n",
       "4   32  28.880  8.260455      0      1           1           0           0   \n",
       "\n",
       "   children_3  children_4  children_5  smoker_0  smoker_1  region_0  region_1  \\\n",
       "0           0           0           0         0         1         0         1   \n",
       "1           0           0           0         1         0         1         0   \n",
       "2           1           0           0         1         0         1         0   \n",
       "3           0           0           0         1         0         0         0   \n",
       "4           0           0           0         1         0         0         0   \n",
       "\n",
       "   region_2  region_3  \n",
       "0         0         0  \n",
       "1         0         0  \n",
       "2         0         0  \n",
       "3         1         0  \n",
       "4         1         0  "
      ]
     },
     "execution_count": 41,
     "metadata": {},
     "output_type": "execute_result"
    }
   ],
   "source": [
    "data.head()"
   ]
  },
  {
   "cell_type": "code",
   "execution_count": 42,
   "metadata": {
    "execution": {
     "iopub.execute_input": "2021-05-21T19:16:58.804945Z",
     "iopub.status.busy": "2021-05-21T19:16:58.804455Z",
     "iopub.status.idle": "2021-05-21T19:16:58.821026Z",
     "shell.execute_reply": "2021-05-21T19:16:58.819872Z",
     "shell.execute_reply.started": "2021-05-21T19:16:58.804905Z"
    }
   },
   "outputs": [],
   "source": [
    "y = data.charges\n",
    "X = data.drop([\"charges\"], axis = 1)"
   ]
  },
  {
   "cell_type": "markdown",
   "metadata": {},
   "source": [
    "#  Train - Test - Split"
   ]
  },
  {
   "cell_type": "code",
   "execution_count": 43,
   "metadata": {
    "execution": {
     "iopub.execute_input": "2021-05-21T19:16:58.822708Z",
     "iopub.status.busy": "2021-05-21T19:16:58.822397Z",
     "iopub.status.idle": "2021-05-21T19:16:58.837430Z",
     "shell.execute_reply": "2021-05-21T19:16:58.836375Z",
     "shell.execute_reply.started": "2021-05-21T19:16:58.822679Z"
    }
   },
   "outputs": [],
   "source": [
    "test_size = 0.2\n",
    "X_train, X_test, Y_train, Y_test = train_test_split(X, y, test_size = test_size, random_state = 20)"
   ]
  },
  {
   "cell_type": "code",
   "execution_count": 44,
   "metadata": {
    "execution": {
     "iopub.execute_input": "2021-05-21T19:16:58.839031Z",
     "iopub.status.busy": "2021-05-21T19:16:58.838743Z",
     "iopub.status.idle": "2021-05-21T19:16:58.850767Z",
     "shell.execute_reply": "2021-05-21T19:16:58.849837Z",
     "shell.execute_reply.started": "2021-05-21T19:16:58.839003Z"
    }
   },
   "outputs": [
    {
     "name": "stdout",
     "output_type": "stream",
     "text": [
      "X_train shape (1070, 16), len 1070.\n",
      "X_test shape (268, 16), len 268.\n",
      "Y_train shape (1070,), len 1070.\n",
      "Y_test shape (268,), len 268.\n"
     ]
    }
   ],
   "source": [
    "print(\"X_train shape {}, len {}.\".format(X_train.shape,len(X_train)))\n",
    "print(\"X_test shape {}, len {}.\".format(X_test.shape,len(X_test)))\n",
    "print(\"Y_train shape {}, len {}.\".format(Y_train.shape,len(Y_train)))\n",
    "print(\"Y_test shape {}, len {}.\".format(Y_test.shape,len(Y_test)))\n"
   ]
  },
  {
   "cell_type": "markdown",
   "metadata": {},
   "source": [
    "#   StandardScaler"
   ]
  },
  {
   "cell_type": "code",
   "execution_count": 45,
   "metadata": {
    "execution": {
     "iopub.execute_input": "2021-05-21T19:16:58.852774Z",
     "iopub.status.busy": "2021-05-21T19:16:58.852125Z",
     "iopub.status.idle": "2021-05-21T19:16:58.872406Z",
     "shell.execute_reply": "2021-05-21T19:16:58.871496Z",
     "shell.execute_reply.started": "2021-05-21T19:16:58.852725Z"
    }
   },
   "outputs": [],
   "source": [
    "scaler = StandardScaler()\n",
    "X_train = scaler.fit_transform(X_train) \n",
    "X_test = scaler.transform(X_test) "
   ]
  },
  {
   "cell_type": "code",
   "execution_count": 46,
   "metadata": {
    "execution": {
     "iopub.execute_input": "2021-05-21T19:16:58.874438Z",
     "iopub.status.busy": "2021-05-21T19:16:58.873730Z",
     "iopub.status.idle": "2021-05-21T19:16:58.882835Z",
     "shell.execute_reply": "2021-05-21T19:16:58.881268Z",
     "shell.execute_reply.started": "2021-05-21T19:16:58.874387Z"
    }
   },
   "outputs": [],
   "source": [
    "result = []"
   ]
  },
  {
   "cell_type": "markdown",
   "metadata": {},
   "source": [
    "<ul>\n",
    "    <li style = \"color:darkgreen\"> <p style = \"color:darkgreen;font-family:Comic Sans MS\" >We have defined the list in which we will save the model results for later comparison.</p> </li>\n",
    "</ul>"
   ]
  },
  {
   "cell_type": "markdown",
   "metadata": {},
   "source": [
    "#     Linear Regression"
   ]
  },
  {
   "cell_type": "code",
   "execution_count": 47,
   "metadata": {
    "execution": {
     "iopub.execute_input": "2021-05-21T19:16:58.884650Z",
     "iopub.status.busy": "2021-05-21T19:16:58.884189Z",
     "iopub.status.idle": "2021-05-21T19:16:58.913612Z",
     "shell.execute_reply": "2021-05-21T19:16:58.912320Z",
     "shell.execute_reply.started": "2021-05-21T19:16:58.884611Z"
    }
   },
   "outputs": [],
   "source": [
    "multiple_linear = LinearRegression()\n",
    "multiple_linear.fit(X_train, Y_train)\n",
    "predict = multiple_linear.predict(X_test)\n",
    "score = r2_score(Y_test,predict)\n",
    "result.append(score)"
   ]
  },
  {
   "cell_type": "code",
   "execution_count": 48,
   "metadata": {
    "execution": {
     "iopub.execute_input": "2021-05-21T19:16:58.916148Z",
     "iopub.status.busy": "2021-05-21T19:16:58.915356Z",
     "iopub.status.idle": "2021-05-21T19:16:58.931333Z",
     "shell.execute_reply": "2021-05-21T19:16:58.929971Z",
     "shell.execute_reply.started": "2021-05-21T19:16:58.916007Z"
    }
   },
   "outputs": [
    {
     "name": "stdout",
     "output_type": "stream",
     "text": [
      "r_square score -->  0.8269348191817228\n",
      "Mean Absolute Error --> 0.2688020290130517\n",
      "Mean Squared Error --> 0.1485886344807566\n",
      "Root Mean Squared Error --> 0.3854719632875478\n"
     ]
    }
   ],
   "source": [
    "print(\"r_square score --> \",score)\n",
    "print('Mean Absolute Error -->', metrics.mean_absolute_error(Y_test, predict))\n",
    "print('Mean Squared Error -->', metrics.mean_squared_error(Y_test, predict))\n",
    "print('Root Mean Squared Error -->', np.sqrt(metrics.mean_squared_error(Y_test, predict)))"
   ]
  },
  {
   "cell_type": "code",
   "execution_count": 49,
   "metadata": {
    "execution": {
     "iopub.execute_input": "2021-05-21T19:16:58.934298Z",
     "iopub.status.busy": "2021-05-21T19:16:58.933488Z",
     "iopub.status.idle": "2021-05-21T19:16:58.953891Z",
     "shell.execute_reply": "2021-05-21T19:16:58.952736Z",
     "shell.execute_reply.started": "2021-05-21T19:16:58.934246Z"
    }
   },
   "outputs": [
    {
     "data": {
      "text/html": [
       "<div>\n",
       "<style scoped>\n",
       "    .dataframe tbody tr th:only-of-type {\n",
       "        vertical-align: middle;\n",
       "    }\n",
       "\n",
       "    .dataframe tbody tr th {\n",
       "        vertical-align: top;\n",
       "    }\n",
       "\n",
       "    .dataframe thead th {\n",
       "        text-align: right;\n",
       "    }\n",
       "</style>\n",
       "<table border=\"1\" class=\"dataframe\">\n",
       "  <thead>\n",
       "    <tr style=\"text-align: right;\">\n",
       "      <th></th>\n",
       "      <th>Actual</th>\n",
       "      <th>Predicted</th>\n",
       "    </tr>\n",
       "  </thead>\n",
       "  <tbody>\n",
       "    <tr>\n",
       "      <th>698</th>\n",
       "      <td>9.303580</td>\n",
       "      <td>9.218628</td>\n",
       "    </tr>\n",
       "    <tr>\n",
       "      <th>520</th>\n",
       "      <td>10.152594</td>\n",
       "      <td>9.075744</td>\n",
       "    </tr>\n",
       "    <tr>\n",
       "      <th>1144</th>\n",
       "      <td>9.172784</td>\n",
       "      <td>9.257385</td>\n",
       "    </tr>\n",
       "    <tr>\n",
       "      <th>908</th>\n",
       "      <td>9.627146</td>\n",
       "      <td>9.749084</td>\n",
       "    </tr>\n",
       "    <tr>\n",
       "      <th>559</th>\n",
       "      <td>7.406972</td>\n",
       "      <td>8.011841</td>\n",
       "    </tr>\n",
       "  </tbody>\n",
       "</table>\n",
       "</div>"
      ],
      "text/plain": [
       "         Actual  Predicted\n",
       "698    9.303580   9.218628\n",
       "520   10.152594   9.075744\n",
       "1144   9.172784   9.257385\n",
       "908    9.627146   9.749084\n",
       "559    7.406972   8.011841"
      ]
     },
     "execution_count": 49,
     "metadata": {},
     "output_type": "execute_result"
    }
   ],
   "source": [
    "df_linearRegression = pd.DataFrame({'Actual': Y_test, 'Predicted': predict})\n",
    "df_linearRegression.head()"
   ]
  },
  {
   "cell_type": "markdown",
   "metadata": {},
   "source": [
    "<ul>\n",
    "    <li style = \"color:darkred\"> <p style = \"color:darkred;font-family:Comic Sans MS\" >For Linear Regression, we see the actual result and the results we predicted.</p> </li>\n",
    "</ul>"
   ]
  },
  {
   "cell_type": "markdown",
   "metadata": {},
   "source": [
    "<ul>\n",
    "    <li style = \"color:darkblue\"> <p style = \"color:darkblue;font-family:Comic Sans MS\" >Normal line and the line of the model we created.</p> </li>\n",
    "</ul>"
   ]
  },
  {
   "cell_type": "markdown",
   "metadata": {},
   "source": [
    "#     Random Forest Regression"
   ]
  },
  {
   "cell_type": "code",
   "execution_count": 51,
   "metadata": {
    "execution": {
     "iopub.execute_input": "2021-05-21T19:16:59.406830Z",
     "iopub.status.busy": "2021-05-21T19:16:59.406409Z",
     "iopub.status.idle": "2021-05-21T19:16:59.414030Z",
     "shell.execute_reply": "2021-05-21T19:16:59.413198Z",
     "shell.execute_reply.started": "2021-05-21T19:16:59.406799Z"
    }
   },
   "outputs": [],
   "source": [
    "n_estimators = [int(x) for x in np.linspace(start = 200, stop = 2000, num = 10)]\n",
    "max_features = ['auto', 'sqrt']\n",
    "max_depth = [int(x) for x in np.linspace(10, 110, num = 11)]\n",
    "max_depth.append(None)\n",
    "min_samples_split = [2, 5, 10]\n",
    "min_samples_leaf = [1, 2, 4]\n",
    "bootstrap = [True, False]\n",
    "\n",
    "rf_param_grid = {'n_estimators': n_estimators,\n",
    "               'max_features': max_features,\n",
    "               'max_depth': max_depth,\n",
    "               'min_samples_split': min_samples_split,\n",
    "               'min_samples_leaf': min_samples_leaf,\n",
    "               'bootstrap': bootstrap}"
   ]
  },
  {
   "cell_type": "markdown",
   "metadata": {},
   "source": [
    "<ul>\n",
    "    <li style = \"color:purple\"> <p style = \"color:purple;font-family:Comic Sans MS\" >We define the parameters for random forest. We will use these to find the best parameters when building our model.</p> </li>\n",
    "</ul>"
   ]
  },
  {
   "cell_type": "code",
   "execution_count": 52,
   "metadata": {
    "execution": {
     "iopub.execute_input": "2021-05-21T19:16:59.415732Z",
     "iopub.status.busy": "2021-05-21T19:16:59.415200Z",
     "iopub.status.idle": "2021-05-21T19:22:13.919029Z",
     "shell.execute_reply": "2021-05-21T19:22:13.917668Z",
     "shell.execute_reply.started": "2021-05-21T19:16:59.415701Z"
    }
   },
   "outputs": [
    {
     "name": "stdout",
     "output_type": "stream",
     "text": [
      "Fitting 3 folds for each of 100 candidates, totalling 300 fits\n"
     ]
    }
   ],
   "source": [
    "rf = RandomForestRegressor()\n",
    "rf_random = RandomizedSearchCV(estimator = rf, param_distributions = rf_param_grid, n_iter = 100, cv = 3, verbose=2, random_state=42, n_jobs = -1)\n",
    "rf_random.fit(X_train, Y_train)\n",
    "rf_predict = rf_random.predict(X_test)\n",
    "score_rf = r2_score(Y_test,rf_predict)\n",
    "result.append(score_rf)"
   ]
  },
  {
   "cell_type": "code",
   "execution_count": 53,
   "metadata": {
    "execution": {
     "iopub.execute_input": "2021-05-21T19:22:13.921386Z",
     "iopub.status.busy": "2021-05-21T19:22:13.920951Z",
     "iopub.status.idle": "2021-05-21T19:22:13.932845Z",
     "shell.execute_reply": "2021-05-21T19:22:13.931536Z",
     "shell.execute_reply.started": "2021-05-21T19:22:13.921335Z"
    }
   },
   "outputs": [
    {
     "name": "stdout",
     "output_type": "stream",
     "text": [
      "r_square score -->  0.9100239865929302\n",
      "Mean Absolute Error --> 0.16258517012330959\n",
      "Mean Squared Error --> 0.07725073816099946\n",
      "Root Mean Squared Error --> 0.27794017011040245\n"
     ]
    }
   ],
   "source": [
    "print(\"r_square score --> \",score_rf)\n",
    "print('Mean Absolute Error -->', metrics.mean_absolute_error(Y_test, rf_predict))\n",
    "print('Mean Squared Error -->', metrics.mean_squared_error(Y_test, rf_predict))\n",
    "print('Root Mean Squared Error -->', np.sqrt(metrics.mean_squared_error(Y_test, rf_predict)))"
   ]
  },
  {
   "cell_type": "code",
   "execution_count": 54,
   "metadata": {
    "execution": {
     "iopub.execute_input": "2021-05-21T19:22:13.935189Z",
     "iopub.status.busy": "2021-05-21T19:22:13.934743Z",
     "iopub.status.idle": "2021-05-21T19:22:13.956178Z",
     "shell.execute_reply": "2021-05-21T19:22:13.955099Z",
     "shell.execute_reply.started": "2021-05-21T19:22:13.935144Z"
    }
   },
   "outputs": [
    {
     "data": {
      "text/html": [
       "<div>\n",
       "<style scoped>\n",
       "    .dataframe tbody tr th:only-of-type {\n",
       "        vertical-align: middle;\n",
       "    }\n",
       "\n",
       "    .dataframe tbody tr th {\n",
       "        vertical-align: top;\n",
       "    }\n",
       "\n",
       "    .dataframe thead th {\n",
       "        text-align: right;\n",
       "    }\n",
       "</style>\n",
       "<table border=\"1\" class=\"dataframe\">\n",
       "  <thead>\n",
       "    <tr style=\"text-align: right;\">\n",
       "      <th></th>\n",
       "      <th>Actual</th>\n",
       "      <th>Predicted</th>\n",
       "    </tr>\n",
       "  </thead>\n",
       "  <tbody>\n",
       "    <tr>\n",
       "      <th>698</th>\n",
       "      <td>9.303580</td>\n",
       "      <td>9.354202</td>\n",
       "    </tr>\n",
       "    <tr>\n",
       "      <th>520</th>\n",
       "      <td>10.152594</td>\n",
       "      <td>9.197027</td>\n",
       "    </tr>\n",
       "    <tr>\n",
       "      <th>1144</th>\n",
       "      <td>9.172784</td>\n",
       "      <td>9.334338</td>\n",
       "    </tr>\n",
       "    <tr>\n",
       "      <th>908</th>\n",
       "      <td>9.627146</td>\n",
       "      <td>9.804992</td>\n",
       "    </tr>\n",
       "    <tr>\n",
       "      <th>559</th>\n",
       "      <td>7.406972</td>\n",
       "      <td>7.529964</td>\n",
       "    </tr>\n",
       "  </tbody>\n",
       "</table>\n",
       "</div>"
      ],
      "text/plain": [
       "         Actual  Predicted\n",
       "698    9.303580   9.354202\n",
       "520   10.152594   9.197027\n",
       "1144   9.172784   9.334338\n",
       "908    9.627146   9.804992\n",
       "559    7.406972   7.529964"
      ]
     },
     "execution_count": 54,
     "metadata": {},
     "output_type": "execute_result"
    }
   ],
   "source": [
    "df_RandomForestRegressor = pd.DataFrame({'Actual': Y_test, 'Predicted': rf_predict})\n",
    "df_RandomForestRegressor.head()"
   ]
  },
  {
   "cell_type": "markdown",
   "metadata": {},
   "source": [
    "<ul>\n",
    "    <li style = \"color:darkred\"> <p style = \"color:darkred;font-family:Comic Sans MS\" >For Random Forest Regression, we see the actual result and the results we predicted.</p> </li>\n",
    "</ul>"
   ]
  },
  {
   "cell_type": "markdown",
   "metadata": {},
   "source": [
    "<ul>\n",
    "    <li style = \"color:darkblue\"> <p style = \"color:darkblue;font-family:Comic Sans MS\" >the result, that is, pretty good compared to the linear regression.</p> </li>\n",
    "</ul>"
   ]
  },
  {
   "cell_type": "markdown",
   "metadata": {},
   "source": [
    "#     XGB Regression"
   ]
  },
  {
   "cell_type": "code",
   "execution_count": 56,
   "metadata": {
    "execution": {
     "iopub.execute_input": "2021-05-21T19:22:14.446637Z",
     "iopub.status.busy": "2021-05-21T19:22:14.446148Z",
     "iopub.status.idle": "2021-05-21T19:22:14.523040Z",
     "shell.execute_reply": "2021-05-21T19:22:14.522184Z",
     "shell.execute_reply.started": "2021-05-21T19:22:14.446589Z"
    }
   },
   "outputs": [],
   "source": [
    "xgb =  XGBRegressor(max_depth = 2, learning_rate = .2)\n",
    "xgb.fit(X_train,Y_train)\n",
    "xgb_predict = xgb.predict(X_test)\n",
    "score_xgb = r2_score(Y_test,xgb_predict)\n",
    "result.append(score_xgb)"
   ]
  },
  {
   "cell_type": "code",
   "execution_count": 57,
   "metadata": {
    "execution": {
     "iopub.execute_input": "2021-05-21T19:22:14.525126Z",
     "iopub.status.busy": "2021-05-21T19:22:14.524492Z",
     "iopub.status.idle": "2021-05-21T19:22:14.535695Z",
     "shell.execute_reply": "2021-05-21T19:22:14.534632Z",
     "shell.execute_reply.started": "2021-05-21T19:22:14.525084Z"
    }
   },
   "outputs": [
    {
     "name": "stdout",
     "output_type": "stream",
     "text": [
      "r_square score -->  0.9146703809893321\n",
      "Mean Absolute Error --> 0.17218690565811323\n",
      "Mean Squared Error --> 0.0732614816545429\n",
      "Root Mean Squared Error --> 0.270668582688392\n"
     ]
    }
   ],
   "source": [
    "print(\"r_square score --> \",score_xgb)\n",
    "print('Mean Absolute Error -->', metrics.mean_absolute_error(Y_test, xgb_predict))\n",
    "print('Mean Squared Error -->', metrics.mean_squared_error(Y_test, xgb_predict))\n",
    "print('Root Mean Squared Error -->', np.sqrt(metrics.mean_squared_error(Y_test, xgb_predict)))"
   ]
  },
  {
   "cell_type": "code",
   "execution_count": 58,
   "metadata": {
    "execution": {
     "iopub.execute_input": "2021-05-21T19:22:14.538707Z",
     "iopub.status.busy": "2021-05-21T19:22:14.538212Z",
     "iopub.status.idle": "2021-05-21T19:22:14.551804Z",
     "shell.execute_reply": "2021-05-21T19:22:14.550332Z",
     "shell.execute_reply.started": "2021-05-21T19:22:14.538671Z"
    }
   },
   "outputs": [
    {
     "data": {
      "text/html": [
       "<div>\n",
       "<style scoped>\n",
       "    .dataframe tbody tr th:only-of-type {\n",
       "        vertical-align: middle;\n",
       "    }\n",
       "\n",
       "    .dataframe tbody tr th {\n",
       "        vertical-align: top;\n",
       "    }\n",
       "\n",
       "    .dataframe thead th {\n",
       "        text-align: right;\n",
       "    }\n",
       "</style>\n",
       "<table border=\"1\" class=\"dataframe\">\n",
       "  <thead>\n",
       "    <tr style=\"text-align: right;\">\n",
       "      <th></th>\n",
       "      <th>Actual</th>\n",
       "      <th>Predicted</th>\n",
       "    </tr>\n",
       "  </thead>\n",
       "  <tbody>\n",
       "    <tr>\n",
       "      <th>698</th>\n",
       "      <td>9.303580</td>\n",
       "      <td>9.398714</td>\n",
       "    </tr>\n",
       "    <tr>\n",
       "      <th>520</th>\n",
       "      <td>10.152594</td>\n",
       "      <td>9.187747</td>\n",
       "    </tr>\n",
       "    <tr>\n",
       "      <th>1144</th>\n",
       "      <td>9.172784</td>\n",
       "      <td>9.232517</td>\n",
       "    </tr>\n",
       "    <tr>\n",
       "      <th>908</th>\n",
       "      <td>9.627146</td>\n",
       "      <td>9.624230</td>\n",
       "    </tr>\n",
       "    <tr>\n",
       "      <th>559</th>\n",
       "      <td>7.406972</td>\n",
       "      <td>7.740064</td>\n",
       "    </tr>\n",
       "  </tbody>\n",
       "</table>\n",
       "</div>"
      ],
      "text/plain": [
       "         Actual  Predicted\n",
       "698    9.303580   9.398714\n",
       "520   10.152594   9.187747\n",
       "1144   9.172784   9.232517\n",
       "908    9.627146   9.624230\n",
       "559    7.406972   7.740064"
      ]
     },
     "execution_count": 58,
     "metadata": {},
     "output_type": "execute_result"
    }
   ],
   "source": [
    "df_XGBRegressor = pd.DataFrame({'Actual': Y_test, 'Predicted': xgb_predict})\n",
    "df_XGBRegressor.head()"
   ]
  },
  {
   "cell_type": "markdown",
   "metadata": {},
   "source": [
    "<ul>\n",
    "    <li style = \"color:darkred\"> <p style = \"color:darkred;font-family:Comic Sans MS\" >For XGB Regression, we see the actual result and the results we predicted.</p> </li>\n",
    "</ul>"
   ]
  },
  {
   "cell_type": "markdown",
   "metadata": {},
   "source": [
    "#      XGBRF Regression"
   ]
  },
  {
   "cell_type": "code",
   "execution_count": 60,
   "metadata": {
    "execution": {
     "iopub.execute_input": "2021-05-21T19:22:14.796241Z",
     "iopub.status.busy": "2021-05-21T19:22:14.795943Z",
     "iopub.status.idle": "2021-05-21T19:22:14.938187Z",
     "shell.execute_reply": "2021-05-21T19:22:14.937069Z",
     "shell.execute_reply.started": "2021-05-21T19:22:14.796213Z"
    }
   },
   "outputs": [],
   "source": [
    "xgbrf = XGBRFRegressor()\n",
    "xgbrf.fit(X_train,Y_train)\n",
    "xgbrf_predict = xgbrf.predict(X_test)\n",
    "score_xgbrf = r2_score(Y_test,xgbrf_predict)\n",
    "result.append(score_xgbrf)"
   ]
  },
  {
   "cell_type": "code",
   "execution_count": 61,
   "metadata": {
    "execution": {
     "iopub.execute_input": "2021-05-21T19:22:14.940073Z",
     "iopub.status.busy": "2021-05-21T19:22:14.939708Z",
     "iopub.status.idle": "2021-05-21T19:22:14.953561Z",
     "shell.execute_reply": "2021-05-21T19:22:14.952359Z",
     "shell.execute_reply.started": "2021-05-21T19:22:14.940037Z"
    }
   },
   "outputs": [
    {
     "name": "stdout",
     "output_type": "stream",
     "text": [
      "r_square score -->  0.9072500514294775\n",
      "Mean Absolute Error --> 0.1673177674860799\n",
      "Mean Squared Error --> 0.0796323566710127\n",
      "Root Mean Squared Error --> 0.2821920563570362\n"
     ]
    }
   ],
   "source": [
    "print(\"r_square score --> \",score_xgbrf)\n",
    "print('Mean Absolute Error -->', metrics.mean_absolute_error(Y_test, xgbrf_predict))\n",
    "print('Mean Squared Error -->', metrics.mean_squared_error(Y_test, xgbrf_predict))\n",
    "print('Root Mean Squared Error -->', np.sqrt(metrics.mean_squared_error(Y_test, xgbrf_predict)))"
   ]
  },
  {
   "cell_type": "code",
   "execution_count": 62,
   "metadata": {
    "execution": {
     "iopub.execute_input": "2021-05-21T19:22:14.955361Z",
     "iopub.status.busy": "2021-05-21T19:22:14.954956Z",
     "iopub.status.idle": "2021-05-21T19:22:14.969534Z",
     "shell.execute_reply": "2021-05-21T19:22:14.968470Z",
     "shell.execute_reply.started": "2021-05-21T19:22:14.955327Z"
    }
   },
   "outputs": [
    {
     "data": {
      "text/html": [
       "<div>\n",
       "<style scoped>\n",
       "    .dataframe tbody tr th:only-of-type {\n",
       "        vertical-align: middle;\n",
       "    }\n",
       "\n",
       "    .dataframe tbody tr th {\n",
       "        vertical-align: top;\n",
       "    }\n",
       "\n",
       "    .dataframe thead th {\n",
       "        text-align: right;\n",
       "    }\n",
       "</style>\n",
       "<table border=\"1\" class=\"dataframe\">\n",
       "  <thead>\n",
       "    <tr style=\"text-align: right;\">\n",
       "      <th></th>\n",
       "      <th>Actual</th>\n",
       "      <th>Predicted</th>\n",
       "    </tr>\n",
       "  </thead>\n",
       "  <tbody>\n",
       "    <tr>\n",
       "      <th>698</th>\n",
       "      <td>9.303580</td>\n",
       "      <td>9.394485</td>\n",
       "    </tr>\n",
       "    <tr>\n",
       "      <th>520</th>\n",
       "      <td>10.152594</td>\n",
       "      <td>9.196170</td>\n",
       "    </tr>\n",
       "    <tr>\n",
       "      <th>1144</th>\n",
       "      <td>9.172784</td>\n",
       "      <td>9.319993</td>\n",
       "    </tr>\n",
       "    <tr>\n",
       "      <th>908</th>\n",
       "      <td>9.627146</td>\n",
       "      <td>9.702251</td>\n",
       "    </tr>\n",
       "    <tr>\n",
       "      <th>559</th>\n",
       "      <td>7.406972</td>\n",
       "      <td>7.533967</td>\n",
       "    </tr>\n",
       "  </tbody>\n",
       "</table>\n",
       "</div>"
      ],
      "text/plain": [
       "         Actual  Predicted\n",
       "698    9.303580   9.394485\n",
       "520   10.152594   9.196170\n",
       "1144   9.172784   9.319993\n",
       "908    9.627146   9.702251\n",
       "559    7.406972   7.533967"
      ]
     },
     "execution_count": 62,
     "metadata": {},
     "output_type": "execute_result"
    }
   ],
   "source": [
    "df_XGBRFRegressor = pd.DataFrame({'Actual': Y_test, 'Predicted': xgbrf_predict})\n",
    "df_XGBRFRegressor.head()"
   ]
  },
  {
   "cell_type": "markdown",
   "metadata": {},
   "source": [
    "<ul>\n",
    "    <li style = \"color:darkgreen\"> <p style = \"color:darkgreen;font-family:Comic Sans MS\" >For XGBRF Regression, we see the actual result and the results we predicted.</p> </li>\n",
    "</ul>"
   ]
  },
  {
   "cell_type": "markdown",
   "metadata": {},
   "source": [
    "#     MLP Regression"
   ]
  },
  {
   "cell_type": "code",
   "execution_count": 64,
   "metadata": {
    "execution": {
     "iopub.execute_input": "2021-05-21T19:22:15.222056Z",
     "iopub.status.busy": "2021-05-21T19:22:15.221637Z",
     "iopub.status.idle": "2021-05-21T19:22:15.228011Z",
     "shell.execute_reply": "2021-05-21T19:22:15.226914Z",
     "shell.execute_reply.started": "2021-05-21T19:22:15.222026Z"
    }
   },
   "outputs": [],
   "source": [
    "parameter_mlp = {\n",
    "    'hidden_layer_sizes': [(50,50,50), (50,50,50), (50,100,50), (100,)],\n",
    "    'activation': ['tanh', 'relu'],\n",
    "    'solver': ['sgd', 'adam'],\n",
    "    'alpha': [0.0001, 0.05],\n",
    "    'learning_rate': ['constant','adaptive'],\n",
    "    'max_iter':[400, 500],\n",
    "}"
   ]
  },
  {
   "cell_type": "code",
   "execution_count": 65,
   "metadata": {
    "execution": {
     "iopub.execute_input": "2021-05-21T19:22:15.230006Z",
     "iopub.status.busy": "2021-05-21T19:22:15.229579Z",
     "iopub.status.idle": "2021-05-21T19:27:29.399313Z",
     "shell.execute_reply": "2021-05-21T19:27:29.398094Z",
     "shell.execute_reply.started": "2021-05-21T19:22:15.229960Z"
    }
   },
   "outputs": [],
   "source": [
    "model = MLPRegressor()\n",
    "clf = GridSearchCV(model, parameter_mlp, n_jobs=-1, cv=3)\n",
    "clf.fit(X_train,Y_train)\n",
    "mlp_predict = clf.predict(X_test)\n",
    "score_mlp = r2_score(Y_test,mlp_predict)\n",
    "result.append(score_mlp)"
   ]
  },
  {
   "cell_type": "code",
   "execution_count": 66,
   "metadata": {
    "execution": {
     "iopub.execute_input": "2021-05-21T19:27:29.401828Z",
     "iopub.status.busy": "2021-05-21T19:27:29.401007Z",
     "iopub.status.idle": "2021-05-21T19:27:29.415468Z",
     "shell.execute_reply": "2021-05-21T19:27:29.414043Z",
     "shell.execute_reply.started": "2021-05-21T19:27:29.401773Z"
    }
   },
   "outputs": [
    {
     "name": "stdout",
     "output_type": "stream",
     "text": [
      "r_square score -->  0.891125874604398\n",
      "Mean Absolute Error --> 0.19729202418461236\n",
      "Mean Squared Error --> 0.09347609696144439\n",
      "Root Mean Squared Error --> 0.30573860888256227\n"
     ]
    }
   ],
   "source": [
    "print(\"r_square score --> \",score_mlp)\n",
    "print('Mean Absolute Error -->', metrics.mean_absolute_error(Y_test, mlp_predict))\n",
    "print('Mean Squared Error -->', metrics.mean_squared_error(Y_test, mlp_predict))\n",
    "print('Root Mean Squared Error -->', np.sqrt(metrics.mean_squared_error(Y_test, mlp_predict)))"
   ]
  },
  {
   "cell_type": "code",
   "execution_count": 67,
   "metadata": {
    "execution": {
     "iopub.execute_input": "2021-05-21T19:27:29.418439Z",
     "iopub.status.busy": "2021-05-21T19:27:29.417375Z",
     "iopub.status.idle": "2021-05-21T19:27:29.438304Z",
     "shell.execute_reply": "2021-05-21T19:27:29.437092Z",
     "shell.execute_reply.started": "2021-05-21T19:27:29.418379Z"
    }
   },
   "outputs": [
    {
     "data": {
      "text/html": [
       "<div>\n",
       "<style scoped>\n",
       "    .dataframe tbody tr th:only-of-type {\n",
       "        vertical-align: middle;\n",
       "    }\n",
       "\n",
       "    .dataframe tbody tr th {\n",
       "        vertical-align: top;\n",
       "    }\n",
       "\n",
       "    .dataframe thead th {\n",
       "        text-align: right;\n",
       "    }\n",
       "</style>\n",
       "<table border=\"1\" class=\"dataframe\">\n",
       "  <thead>\n",
       "    <tr style=\"text-align: right;\">\n",
       "      <th></th>\n",
       "      <th>Actual</th>\n",
       "      <th>Predicted</th>\n",
       "    </tr>\n",
       "  </thead>\n",
       "  <tbody>\n",
       "    <tr>\n",
       "      <th>698</th>\n",
       "      <td>9.303580</td>\n",
       "      <td>9.347339</td>\n",
       "    </tr>\n",
       "    <tr>\n",
       "      <th>520</th>\n",
       "      <td>10.152594</td>\n",
       "      <td>9.241474</td>\n",
       "    </tr>\n",
       "    <tr>\n",
       "      <th>1144</th>\n",
       "      <td>9.172784</td>\n",
       "      <td>9.373085</td>\n",
       "    </tr>\n",
       "    <tr>\n",
       "      <th>908</th>\n",
       "      <td>9.627146</td>\n",
       "      <td>9.745450</td>\n",
       "    </tr>\n",
       "    <tr>\n",
       "      <th>559</th>\n",
       "      <td>7.406972</td>\n",
       "      <td>7.637495</td>\n",
       "    </tr>\n",
       "  </tbody>\n",
       "</table>\n",
       "</div>"
      ],
      "text/plain": [
       "         Actual  Predicted\n",
       "698    9.303580   9.347339\n",
       "520   10.152594   9.241474\n",
       "1144   9.172784   9.373085\n",
       "908    9.627146   9.745450\n",
       "559    7.406972   7.637495"
      ]
     },
     "execution_count": 67,
     "metadata": {},
     "output_type": "execute_result"
    }
   ],
   "source": [
    "df_MLPRegressor = pd.DataFrame({'Actual': Y_test, 'Predicted': mlp_predict})\n",
    "df_MLPRegressor.head()"
   ]
  },
  {
   "cell_type": "markdown",
   "metadata": {},
   "source": [
    "<ul>\n",
    "    <li style = \"color:black\"> <p style = \"color:black;font-family:Comic Sans MS\" >For MLP, we see the actual result and the results we predicted.</p> </li>\n",
    "</ul>"
   ]
  },
  {
   "cell_type": "markdown",
   "metadata": {},
   "source": [
    "#     Ridge Regression"
   ]
  },
  {
   "cell_type": "code",
   "execution_count": 69,
   "metadata": {
    "execution": {
     "iopub.execute_input": "2021-05-21T19:27:29.729317Z",
     "iopub.status.busy": "2021-05-21T19:27:29.729031Z",
     "iopub.status.idle": "2021-05-21T19:27:29.742533Z",
     "shell.execute_reply": "2021-05-21T19:27:29.741189Z",
     "shell.execute_reply.started": "2021-05-21T19:27:29.729290Z"
    }
   },
   "outputs": [],
   "source": [
    "ridge = Ridge()\n",
    "ridge.fit(X_train,Y_train)\n",
    "ridge_predict = ridge.predict(X_test)\n",
    "score_ridge = r2_score(Y_test,ridge_predict)\n",
    "result.append(score_ridge)"
   ]
  },
  {
   "cell_type": "code",
   "execution_count": 70,
   "metadata": {
    "execution": {
     "iopub.execute_input": "2021-05-21T19:27:29.745242Z",
     "iopub.status.busy": "2021-05-21T19:27:29.744634Z",
     "iopub.status.idle": "2021-05-21T19:27:29.760696Z",
     "shell.execute_reply": "2021-05-21T19:27:29.759458Z",
     "shell.execute_reply.started": "2021-05-21T19:27:29.745194Z"
    }
   },
   "outputs": [
    {
     "name": "stdout",
     "output_type": "stream",
     "text": [
      "r_square score -->  0.8281706234831543\n",
      "Mean Absolute Error --> 0.2655657064357028\n",
      "Mean Squared Error --> 0.14752760953762867\n",
      "Root Mean Squared Error --> 0.3840932302678982\n"
     ]
    }
   ],
   "source": [
    "print(\"r_square score --> \",score_ridge)\n",
    "print('Mean Absolute Error -->', metrics.mean_absolute_error(Y_test, ridge_predict))\n",
    "print('Mean Squared Error -->', metrics.mean_squared_error(Y_test, ridge_predict))\n",
    "print('Root Mean Squared Error -->', np.sqrt(metrics.mean_squared_error(Y_test, ridge_predict)))"
   ]
  },
  {
   "cell_type": "code",
   "execution_count": 71,
   "metadata": {
    "execution": {
     "iopub.execute_input": "2021-05-21T19:27:29.763554Z",
     "iopub.status.busy": "2021-05-21T19:27:29.762729Z",
     "iopub.status.idle": "2021-05-21T19:27:29.789158Z",
     "shell.execute_reply": "2021-05-21T19:27:29.788021Z",
     "shell.execute_reply.started": "2021-05-21T19:27:29.763482Z"
    }
   },
   "outputs": [
    {
     "data": {
      "text/html": [
       "<div>\n",
       "<style scoped>\n",
       "    .dataframe tbody tr th:only-of-type {\n",
       "        vertical-align: middle;\n",
       "    }\n",
       "\n",
       "    .dataframe tbody tr th {\n",
       "        vertical-align: top;\n",
       "    }\n",
       "\n",
       "    .dataframe thead th {\n",
       "        text-align: right;\n",
       "    }\n",
       "</style>\n",
       "<table border=\"1\" class=\"dataframe\">\n",
       "  <thead>\n",
       "    <tr style=\"text-align: right;\">\n",
       "      <th></th>\n",
       "      <th>Actual</th>\n",
       "      <th>Predicted</th>\n",
       "    </tr>\n",
       "  </thead>\n",
       "  <tbody>\n",
       "    <tr>\n",
       "      <th>698</th>\n",
       "      <td>9.303580</td>\n",
       "      <td>9.265694</td>\n",
       "    </tr>\n",
       "    <tr>\n",
       "      <th>520</th>\n",
       "      <td>10.152594</td>\n",
       "      <td>9.093411</td>\n",
       "    </tr>\n",
       "    <tr>\n",
       "      <th>1144</th>\n",
       "      <td>9.172784</td>\n",
       "      <td>9.243392</td>\n",
       "    </tr>\n",
       "    <tr>\n",
       "      <th>908</th>\n",
       "      <td>9.627146</td>\n",
       "      <td>9.775224</td>\n",
       "    </tr>\n",
       "    <tr>\n",
       "      <th>559</th>\n",
       "      <td>7.406972</td>\n",
       "      <td>8.038343</td>\n",
       "    </tr>\n",
       "  </tbody>\n",
       "</table>\n",
       "</div>"
      ],
      "text/plain": [
       "         Actual  Predicted\n",
       "698    9.303580   9.265694\n",
       "520   10.152594   9.093411\n",
       "1144   9.172784   9.243392\n",
       "908    9.627146   9.775224\n",
       "559    7.406972   8.038343"
      ]
     },
     "execution_count": 71,
     "metadata": {},
     "output_type": "execute_result"
    }
   ],
   "source": [
    "df_RidgeRegressor = pd.DataFrame({'Actual': Y_test, 'Predicted': ridge_predict})\n",
    "df_RidgeRegressor.head()"
   ]
  },
  {
   "cell_type": "markdown",
   "metadata": {},
   "source": [
    "<ul>\n",
    "    <li style = \"color:brown\"> <p style = \"color:brown;font-family:Comic Sans MS\" >For Ridge, we see the actual result and the results we predicted.</p> </li>\n",
    "</ul>"
   ]
  },
  {
   "cell_type": "markdown",
   "metadata": {},
   "source": [
    "#    KNN Regression"
   ]
  },
  {
   "cell_type": "code",
   "execution_count": 73,
   "metadata": {
    "execution": {
     "iopub.execute_input": "2021-05-21T19:27:30.048142Z",
     "iopub.status.busy": "2021-05-21T19:27:30.047835Z",
     "iopub.status.idle": "2021-05-21T19:27:30.072154Z",
     "shell.execute_reply": "2021-05-21T19:27:30.070611Z",
     "shell.execute_reply.started": "2021-05-21T19:27:30.048114Z"
    }
   },
   "outputs": [],
   "source": [
    "knn = KNeighborsRegressor(n_neighbors=5)\n",
    "knn.fit(X_train, Y_train)\n",
    "knn_predict = knn.predict(X_test)\n",
    "score_knn = r2_score(Y_test,knn_predict)\n",
    "result.append(score_knn)"
   ]
  },
  {
   "cell_type": "code",
   "execution_count": 74,
   "metadata": {
    "execution": {
     "iopub.execute_input": "2021-05-21T19:27:30.074671Z",
     "iopub.status.busy": "2021-05-21T19:27:30.074145Z",
     "iopub.status.idle": "2021-05-21T19:27:30.089239Z",
     "shell.execute_reply": "2021-05-21T19:27:30.087966Z",
     "shell.execute_reply.started": "2021-05-21T19:27:30.074620Z"
    }
   },
   "outputs": [
    {
     "name": "stdout",
     "output_type": "stream",
     "text": [
      "r_square score -->  0.8371182023334395\n",
      "Mean Absolute Error --> 0.2618217316599221\n",
      "Mean Squared Error --> 0.13984548354910417\n",
      "Root Mean Squared Error --> 0.3739592003803412\n"
     ]
    }
   ],
   "source": [
    "print(\"r_square score --> \",score_knn)\n",
    "print('Mean Absolute Error -->', metrics.mean_absolute_error(Y_test, knn_predict))\n",
    "print('Mean Squared Error -->', metrics.mean_squared_error(Y_test, knn_predict))\n",
    "print('Root Mean Squared Error -->', np.sqrt(metrics.mean_squared_error(Y_test, knn_predict)))"
   ]
  },
  {
   "cell_type": "code",
   "execution_count": 75,
   "metadata": {
    "execution": {
     "iopub.execute_input": "2021-05-21T19:27:30.091661Z",
     "iopub.status.busy": "2021-05-21T19:27:30.090939Z",
     "iopub.status.idle": "2021-05-21T19:27:30.110505Z",
     "shell.execute_reply": "2021-05-21T19:27:30.109347Z",
     "shell.execute_reply.started": "2021-05-21T19:27:30.091611Z"
    }
   },
   "outputs": [
    {
     "data": {
      "text/html": [
       "<div>\n",
       "<style scoped>\n",
       "    .dataframe tbody tr th:only-of-type {\n",
       "        vertical-align: middle;\n",
       "    }\n",
       "\n",
       "    .dataframe tbody tr th {\n",
       "        vertical-align: top;\n",
       "    }\n",
       "\n",
       "    .dataframe thead th {\n",
       "        text-align: right;\n",
       "    }\n",
       "</style>\n",
       "<table border=\"1\" class=\"dataframe\">\n",
       "  <thead>\n",
       "    <tr style=\"text-align: right;\">\n",
       "      <th></th>\n",
       "      <th>Actual</th>\n",
       "      <th>Predicted</th>\n",
       "    </tr>\n",
       "  </thead>\n",
       "  <tbody>\n",
       "    <tr>\n",
       "      <th>698</th>\n",
       "      <td>9.303580</td>\n",
       "      <td>9.283840</td>\n",
       "    </tr>\n",
       "    <tr>\n",
       "      <th>520</th>\n",
       "      <td>10.152594</td>\n",
       "      <td>9.493649</td>\n",
       "    </tr>\n",
       "    <tr>\n",
       "      <th>1144</th>\n",
       "      <td>9.172784</td>\n",
       "      <td>8.943938</td>\n",
       "    </tr>\n",
       "    <tr>\n",
       "      <th>908</th>\n",
       "      <td>9.627146</td>\n",
       "      <td>9.407459</td>\n",
       "    </tr>\n",
       "    <tr>\n",
       "      <th>559</th>\n",
       "      <td>7.406972</td>\n",
       "      <td>8.093638</td>\n",
       "    </tr>\n",
       "  </tbody>\n",
       "</table>\n",
       "</div>"
      ],
      "text/plain": [
       "         Actual  Predicted\n",
       "698    9.303580   9.283840\n",
       "520   10.152594   9.493649\n",
       "1144   9.172784   8.943938\n",
       "908    9.627146   9.407459\n",
       "559    7.406972   8.093638"
      ]
     },
     "execution_count": 75,
     "metadata": {},
     "output_type": "execute_result"
    }
   ],
   "source": [
    "df_KNNRegressor = pd.DataFrame({'Actual': Y_test, 'Predicted': knn_predict})\n",
    "df_KNNRegressor.head()"
   ]
  },
  {
   "cell_type": "markdown",
   "metadata": {},
   "source": [
    "<ul>\n",
    "    <li style = \"color:orange\"> <p style = \"color:orange;font-family:Comic Sans MS\" >For KNN, we see the actual result and the results we predicted.</p> </li>\n",
    "</ul>"
   ]
  },
  {
   "cell_type": "markdown",
   "metadata": {},
   "source": [
    "#      Gradient Boosting Regression"
   ]
  },
  {
   "cell_type": "code",
   "execution_count": 77,
   "metadata": {
    "execution": {
     "iopub.execute_input": "2021-05-21T19:27:30.405652Z",
     "iopub.status.busy": "2021-05-21T19:27:30.405137Z",
     "iopub.status.idle": "2021-05-21T19:27:30.517887Z",
     "shell.execute_reply": "2021-05-21T19:27:30.517070Z",
     "shell.execute_reply.started": "2021-05-21T19:27:30.405617Z"
    }
   },
   "outputs": [],
   "source": [
    "gbr = GradientBoostingRegressor(max_depth=3, random_state=42)\n",
    "gbr.fit(X_train, Y_train)\n",
    "gbr_predict = gbr.predict(X_test)\n",
    "score_gbr = r2_score(Y_test,gbr_predict)\n",
    "result.append(score_gbr)"
   ]
  },
  {
   "cell_type": "code",
   "execution_count": 78,
   "metadata": {
    "execution": {
     "iopub.execute_input": "2021-05-21T19:27:30.519532Z",
     "iopub.status.busy": "2021-05-21T19:27:30.519048Z",
     "iopub.status.idle": "2021-05-21T19:27:30.527743Z",
     "shell.execute_reply": "2021-05-21T19:27:30.526758Z",
     "shell.execute_reply.started": "2021-05-21T19:27:30.519500Z"
    }
   },
   "outputs": [
    {
     "name": "stdout",
     "output_type": "stream",
     "text": [
      "r_square score -->  0.9158174342182311\n",
      "Mean Absolute Error --> 0.16442384454098008\n",
      "Mean Squared Error --> 0.07227665575164902\n",
      "Root Mean Squared Error --> 0.26884318059353673\n"
     ]
    }
   ],
   "source": [
    "print(\"r_square score --> \",score_gbr)\n",
    "print('Mean Absolute Error -->', metrics.mean_absolute_error(Y_test, gbr_predict))\n",
    "print('Mean Squared Error -->', metrics.mean_squared_error(Y_test, gbr_predict))\n",
    "print('Root Mean Squared Error -->', np.sqrt(metrics.mean_squared_error(Y_test, gbr_predict)))"
   ]
  },
  {
   "cell_type": "code",
   "execution_count": 79,
   "metadata": {
    "execution": {
     "iopub.execute_input": "2021-05-21T19:27:30.529480Z",
     "iopub.status.busy": "2021-05-21T19:27:30.529183Z",
     "iopub.status.idle": "2021-05-21T19:27:30.545613Z",
     "shell.execute_reply": "2021-05-21T19:27:30.544853Z",
     "shell.execute_reply.started": "2021-05-21T19:27:30.529450Z"
    }
   },
   "outputs": [
    {
     "data": {
      "text/html": [
       "<div>\n",
       "<style scoped>\n",
       "    .dataframe tbody tr th:only-of-type {\n",
       "        vertical-align: middle;\n",
       "    }\n",
       "\n",
       "    .dataframe tbody tr th {\n",
       "        vertical-align: top;\n",
       "    }\n",
       "\n",
       "    .dataframe thead th {\n",
       "        text-align: right;\n",
       "    }\n",
       "</style>\n",
       "<table border=\"1\" class=\"dataframe\">\n",
       "  <thead>\n",
       "    <tr style=\"text-align: right;\">\n",
       "      <th></th>\n",
       "      <th>Actual</th>\n",
       "      <th>Predicted</th>\n",
       "    </tr>\n",
       "  </thead>\n",
       "  <tbody>\n",
       "    <tr>\n",
       "      <th>698</th>\n",
       "      <td>9.303580</td>\n",
       "      <td>9.376363</td>\n",
       "    </tr>\n",
       "    <tr>\n",
       "      <th>520</th>\n",
       "      <td>10.152594</td>\n",
       "      <td>9.153607</td>\n",
       "    </tr>\n",
       "    <tr>\n",
       "      <th>1144</th>\n",
       "      <td>9.172784</td>\n",
       "      <td>9.253696</td>\n",
       "    </tr>\n",
       "    <tr>\n",
       "      <th>908</th>\n",
       "      <td>9.627146</td>\n",
       "      <td>9.666858</td>\n",
       "    </tr>\n",
       "    <tr>\n",
       "      <th>559</th>\n",
       "      <td>7.406972</td>\n",
       "      <td>7.564440</td>\n",
       "    </tr>\n",
       "  </tbody>\n",
       "</table>\n",
       "</div>"
      ],
      "text/plain": [
       "         Actual  Predicted\n",
       "698    9.303580   9.376363\n",
       "520   10.152594   9.153607\n",
       "1144   9.172784   9.253696\n",
       "908    9.627146   9.666858\n",
       "559    7.406972   7.564440"
      ]
     },
     "execution_count": 79,
     "metadata": {},
     "output_type": "execute_result"
    }
   ],
   "source": [
    "df_GBRRegressor = pd.DataFrame({'Actual': Y_test, 'Predicted': gbr_predict})\n",
    "df_GBRRegressor.head()"
   ]
  },
  {
   "cell_type": "markdown",
   "metadata": {},
   "source": [
    "<ul>\n",
    "    <li style = \"color:red\"> <p style = \"color:red;font-family:Comic Sans MS\" >For Gradient Boosting Regression, we see the actual result and the results we predicted.</p> </li>\n",
    "</ul>"
   ]
  },
  {
   "cell_type": "markdown",
   "metadata": {},
   "source": [
    "#    Model Results"
   ]
  },
  {
   "cell_type": "code",
   "execution_count": 81,
   "metadata": {
    "execution": {
     "iopub.execute_input": "2021-05-21T19:27:30.786725Z",
     "iopub.status.busy": "2021-05-21T19:27:30.786420Z",
     "iopub.status.idle": "2021-05-21T19:27:30.791850Z",
     "shell.execute_reply": "2021-05-21T19:27:30.790854Z",
     "shell.execute_reply.started": "2021-05-21T19:27:30.786696Z"
    }
   },
   "outputs": [],
   "source": [
    "df_result = pd.DataFrame({\"Score\":result, \"ML Models\":[\"LinearRegression\",\"RandomForestRegression\",\n",
    "             \"XGBRegression\",\"XGBRFRegression\",\"MLPRegression\",\"RidgeRegression\",\"KNN Regression\",\"Gradient Boosting Regression\"]})"
   ]
  },
  {
   "cell_type": "markdown",
   "metadata": {},
   "source": [
    "<ul>\n",
    "    <li style = \"color:green\"> <p style = \"color:green;font-family:Comic Sans MS\" >We create a Dataframe with all our models and their results.</p> </li>\n",
    "</ul>"
   ]
  },
  {
   "cell_type": "code",
   "execution_count": 82,
   "metadata": {
    "execution": {
     "iopub.execute_input": "2021-05-21T19:27:30.793292Z",
     "iopub.status.busy": "2021-05-21T19:27:30.792987Z",
     "iopub.status.idle": "2021-05-21T19:27:30.816454Z",
     "shell.execute_reply": "2021-05-21T19:27:30.815197Z",
     "shell.execute_reply.started": "2021-05-21T19:27:30.793262Z"
    }
   },
   "outputs": [
    {
     "data": {
      "text/html": [
       "<div>\n",
       "<style scoped>\n",
       "    .dataframe tbody tr th:only-of-type {\n",
       "        vertical-align: middle;\n",
       "    }\n",
       "\n",
       "    .dataframe tbody tr th {\n",
       "        vertical-align: top;\n",
       "    }\n",
       "\n",
       "    .dataframe thead th {\n",
       "        text-align: right;\n",
       "    }\n",
       "</style>\n",
       "<table border=\"1\" class=\"dataframe\">\n",
       "  <thead>\n",
       "    <tr style=\"text-align: right;\">\n",
       "      <th></th>\n",
       "      <th>Score</th>\n",
       "      <th>ML Models</th>\n",
       "    </tr>\n",
       "  </thead>\n",
       "  <tbody>\n",
       "    <tr>\n",
       "      <th>0</th>\n",
       "      <td>0.826935</td>\n",
       "      <td>LinearRegression</td>\n",
       "    </tr>\n",
       "    <tr>\n",
       "      <th>1</th>\n",
       "      <td>0.910024</td>\n",
       "      <td>RandomForestRegression</td>\n",
       "    </tr>\n",
       "    <tr>\n",
       "      <th>2</th>\n",
       "      <td>0.914670</td>\n",
       "      <td>XGBRegression</td>\n",
       "    </tr>\n",
       "    <tr>\n",
       "      <th>3</th>\n",
       "      <td>0.907250</td>\n",
       "      <td>XGBRFRegression</td>\n",
       "    </tr>\n",
       "    <tr>\n",
       "      <th>4</th>\n",
       "      <td>0.891126</td>\n",
       "      <td>MLPRegression</td>\n",
       "    </tr>\n",
       "    <tr>\n",
       "      <th>5</th>\n",
       "      <td>0.828171</td>\n",
       "      <td>RidgeRegression</td>\n",
       "    </tr>\n",
       "    <tr>\n",
       "      <th>6</th>\n",
       "      <td>0.837118</td>\n",
       "      <td>KNN Regression</td>\n",
       "    </tr>\n",
       "    <tr>\n",
       "      <th>7</th>\n",
       "      <td>0.915817</td>\n",
       "      <td>Gradient Boosting Regression</td>\n",
       "    </tr>\n",
       "  </tbody>\n",
       "</table>\n",
       "</div>"
      ],
      "text/plain": [
       "      Score                     ML Models\n",
       "0  0.826935              LinearRegression\n",
       "1  0.910024        RandomForestRegression\n",
       "2  0.914670                 XGBRegression\n",
       "3  0.907250               XGBRFRegression\n",
       "4  0.891126                 MLPRegression\n",
       "5  0.828171               RidgeRegression\n",
       "6  0.837118                KNN Regression\n",
       "7  0.915817  Gradient Boosting Regression"
      ]
     },
     "execution_count": 82,
     "metadata": {},
     "output_type": "execute_result"
    }
   ],
   "source": [
    "df_result"
   ]
  },
  {
   "cell_type": "code",
   "execution_count": 83,
   "metadata": {
    "execution": {
     "iopub.execute_input": "2021-05-21T19:27:30.818521Z",
     "iopub.status.busy": "2021-05-21T19:27:30.818036Z",
     "iopub.status.idle": "2021-05-21T19:27:31.011252Z",
     "shell.execute_reply": "2021-05-21T19:27:31.010145Z",
     "shell.execute_reply.started": "2021-05-21T19:27:30.818474Z"
    }
   },
   "outputs": [
    {
     "data": {
      "image/png": "[encoded data removed]",
      "text/plain": [
       "<Figure size 576x396 with 1 Axes>"
      ]
     },
     "metadata": {},
     "output_type": "display_data"
    }
   ],
   "source": [
    "g = sns.barplot(\"Score\", \"ML Models\", data = df_result)\n",
    "g.set_xlabel(\"Score\")\n",
    "g.set_title(\"Regression Model Results\", color = \"darkred\")\n",
    "plt.show()"
   ]
  },
  {
   "cell_type": "markdown",
   "metadata": {},
   "source": [
    "<ul>\n",
    "    <li style = \"color:darkred\"> <p style = \"color:black;font-family:Comic Sans MS\" >Finally, we examine all results by visualizing.</p> </li>\n",
    "        <li style = \"color:darkred\"> <p style = \"color:black;font-family:Comic Sans MS\" >As it is understood from the graph, we have 4 models above 90 and the best among them is Gradient Boosting Regression.</p> </li>\n",
    "</ul>"
   ]
  }
 ],
 "metadata": {
  "kernelspec": {
   "display_name": "Python 3 (ipykernel)",
   "language": "python",
   "name": "python3"
  },
  "language_info": {
   "codemirror_mode": {
    "name": "ipython",
    "version": 3
   },
   "file_extension": ".py",
   "mimetype": "text/x-python",
   "name": "python",
   "nbconvert_exporter": "python",
   "pygments_lexer": "ipython3",
   "version": "3.8.3"
  }
 },
 "nbformat": 4,
 "nbformat_minor": 4
}
